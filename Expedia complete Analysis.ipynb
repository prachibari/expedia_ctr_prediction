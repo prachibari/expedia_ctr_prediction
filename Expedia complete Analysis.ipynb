{
 "cells": [
  {
   "cell_type": "markdown",
   "metadata": {},
   "source": [
    "## About the Dataset\n",
    "\n",
    "Expedia is the world’s largest online travel agency (OTA) and powers search results for millions of travel shoppers every day. In this competitive market matching users to hotel inventory is very important since users easily jump from website to website. As such, having the best ranking of hotels (“sort”) for specific users with the best integration of price competitiveness gives an OTA the best chance of winning the sale.\n",
    "\n",
    "Expedia has provided a dataset that includes shopping and purchase data as well as information on price competitiveness. The data are organized around a set of “search result impressions”, or the ordered list of hotels that the user sees after they search for a hotel on the Expedia website. In addition to impressions from the existing algorithm, the data contain impressions where the hotels were randomly sorted, to avoid the position bias of the existing algorithm. The user response is provided as a click on a hotel or/and a purchase of a hotel room.\n",
    "\n",
    "Appended to impressions are the following:\n",
    "\n",
    "1) Hotel characteristics\n",
    "2) Location attractiveness of hotels\n",
    "3) User’s aggregate purchase history\n",
    "4) Competitive OTA information\n",
    "\n",
    "link to dataset https://www.kaggle.com/c/expedia-personalized-sort/overview"
   ]
  },
  {
   "cell_type": "markdown",
   "metadata": {},
   "source": [
    "\n",
    "### Predicting Click-Through in Hotel Online Ranking\n",
    "\n",
    "At the core of hotel personalization and ranking is the challenge of matching a set of hotels to a set of travelers whose tastes are heterogeneous and sometimes unobserved. The accuracy of the match depends on how online travel agencies (OTA) leverage their available information such as given hotel characteristics, location attractiveness of hotels, users aggregated purchase history and competitors’ information, and among others, to infer travelers preferences for hotels.\n",
    "\n",
    "### Goal\n",
    "Applying machine learning techniques to maximize the click-through for the presented choices, where a click indicates a visitor’s interest and potentially a decision to book.\n",
    "\n",
    "when a user inputs his (or her) search criteria into the hotel search engine, a filtered personalized sorted list of available hotels will be shown to him (or her) according to the above ranking algorithm, so that the hotels at the top of the list are the ones with the highest probability of being clicked by the user."
   ]
  },
  {
   "cell_type": "markdown",
   "metadata": {},
   "source": [
    "## 1. Data Pre processing"
   ]
  },
  {
   "cell_type": "code",
   "execution_count": 2,
   "metadata": {
    "collapsed": true
   },
   "outputs": [],
   "source": [
    "import pandas as pd\n",
    "df=pd.read_csv(\"train_2.csv\")"
   ]
  },
  {
   "cell_type": "code",
   "execution_count": 3,
   "metadata": {
    "collapsed": false
   },
   "outputs": [
    {
     "data": {
      "text/plain": [
       "(3224281, 54)"
      ]
     },
     "execution_count": 3,
     "metadata": {},
     "output_type": "execute_result"
    }
   ],
   "source": [
    "df.shape"
   ]
  },
  {
   "cell_type": "code",
   "execution_count": 6,
   "metadata": {
    "collapsed": false,
    "scrolled": true
   },
   "outputs": [
    {
     "data": {
      "text/plain": [
       "srch_id                              0\n",
       "date_time                            0\n",
       "site_id                              0\n",
       "visitor_location_country_id          0\n",
       "visitor_hist_starrating        3062339\n",
       "visitor_hist_adr_usd           3061755\n",
       "prop_country_id                      0\n",
       "prop_id                              0\n",
       "prop_starrating                      1\n",
       "prop_review_score                 4767\n",
       "prop_brand_bool                      1\n",
       "prop_location_score1                 1\n",
       "prop_location_score2            706200\n",
       "prop_log_historical_price            1\n",
       "position                             1\n",
       "price_usd                            1\n",
       "promotion_flag                       1\n",
       "srch_destination_id                  1\n",
       "srch_length_of_stay                  1\n",
       "srch_booking_window                  1\n",
       "srch_adults_count                    1\n",
       "srch_children_count                  1\n",
       "srch_room_count                      1\n",
       "srch_saturday_night_bool             1\n",
       "srch_query_affinity_score      3018699\n",
       "orig_destination_distance      1045781\n",
       "random_bool                          1\n",
       "comp1_rate                     3146402\n",
       "comp1_inv                      3140240\n",
       "comp1_rate_percent_diff        3162695\n",
       "comp2_rate                     1907368\n",
       "comp2_inv                      1838562\n",
       "comp2_rate_percent_diff        2863037\n",
       "comp3_rate                     2226363\n",
       "comp3_inv                      2150353\n",
       "comp3_rate_percent_diff        2916537\n",
       "comp4_rate                     3025021\n",
       "comp4_inv                      3001369\n",
       "comp4_rate_percent_diff        3139547\n",
       "comp5_rate                     1781130\n",
       "comp5_inv                      1691887\n",
       "comp5_rate_percent_diff        2678787\n",
       "comp6_rate                     3068097\n",
       "comp6_inv                      3054591\n",
       "comp6_rate_percent_diff        3161758\n",
       "comp7_rate                     3019066\n",
       "comp7_inv                      2992610\n",
       "comp7_rate_percent_diff        3133850\n",
       "comp8_rate                     1977482\n",
       "comp8_inv                      1931771\n",
       "comp8_rate_percent_diff        2825650\n",
       "click_bool                           1\n",
       "gross_bookings_usd             3134435\n",
       "booking_bool                         1\n",
       "dtype: int64"
      ]
     },
     "execution_count": 6,
     "metadata": {},
     "output_type": "execute_result"
    }
   ],
   "source": [
    "df.isnull().sum()"
   ]
  },
  {
   "cell_type": "code",
   "execution_count": 46,
   "metadata": {
    "collapsed": true
   },
   "outputs": [
    {
     "data": {
      "text/plain": [
       "1.0     129627\n",
       "2.0     129597\n",
       "3.0     129592\n",
       "6.0     129476\n",
       "7.0     126587\n",
       "4.0     125756\n",
       "8.0     123666\n",
       "9.0     120987\n",
       "12.0    115888\n",
       "13.0    113644\n",
       "10.0    112774\n",
       "14.0    111258\n",
       "15.0    108918\n",
       "18.0    104376\n",
       "19.0    102182\n",
       "16.0    100586\n",
       "20.0    100043\n",
       "21.0     97886\n",
       "24.0     93438\n",
       "25.0     91214\n",
       "22.0     89783\n",
       "26.0     88997\n",
       "27.0     86927\n",
       "28.0     84777\n",
       "29.0     82581\n",
       "30.0     80081\n",
       "31.0     77268\n",
       "32.0     72668\n",
       "33.0     68755\n",
       "34.0     64523\n",
       "35.0     57007\n",
       "36.0     43572\n",
       "37.0     24084\n",
       "17.0      7350\n",
       "11.0      7277\n",
       "23.0      7031\n",
       "38.0      7020\n",
       "5.0       6035\n",
       "39.0      1011\n",
       "40.0        38\n",
       "Name: position, dtype: int64"
      ]
     },
     "execution_count": 46,
     "metadata": {},
     "output_type": "execute_result"
    }
   ],
   "source": [
    "df.position.value_counts()"
   ]
  },
  {
   "cell_type": "code",
   "execution_count": 45,
   "metadata": {
    "collapsed": false
   },
   "outputs": [
    {
     "name": "stdout",
     "output_type": "stream",
     "text": [
      "<class 'pandas.core.frame.DataFrame'>\n",
      "RangeIndex: 3224281 entries, 0 to 3224280\n",
      "Data columns (total 26 columns):\n",
      "srch_id                        int64\n",
      "date_time                      object\n",
      "site_id                        int64\n",
      "visitor_location_country_id    int64\n",
      "prop_country_id                int64\n",
      "prop_id                        int64\n",
      "prop_starrating                float64\n",
      "prop_review_score              float64\n",
      "prop_brand_bool                float64\n",
      "prop_location_score1           float64\n",
      "prop_location_score2           float64\n",
      "prop_log_historical_price      float64\n",
      "position                       float64\n",
      "price_usd                      float64\n",
      "promotion_flag                 float64\n",
      "srch_destination_id            float64\n",
      "srch_length_of_stay            float64\n",
      "srch_booking_window            float64\n",
      "srch_adults_count              float64\n",
      "srch_children_count            float64\n",
      "srch_room_count                float64\n",
      "srch_saturday_night_bool       float64\n",
      "orig_destination_distance      float64\n",
      "random_bool                    float64\n",
      "click_bool                     float64\n",
      "booking_bool                   float64\n",
      "dtypes: float64(20), int64(5), object(1)\n",
      "memory usage: 639.6+ MB\n"
     ]
    }
   ],
   "source": [
    "df.info()"
   ]
  },
  {
   "cell_type": "markdown",
   "metadata": {},
   "source": [
    "* Changing data types of categorical columns"
   ]
  },
  {
   "cell_type": "code",
   "execution_count": 51,
   "metadata": {
    "collapsed": false
   },
   "outputs": [
    {
     "name": "stdout",
     "output_type": "stream",
     "text": [
      "<class 'pandas.core.frame.DataFrame'>\n",
      "RangeIndex: 3224281 entries, 0 to 3224280\n",
      "Data columns (total 26 columns):\n",
      "srch_id                        object\n",
      "date_time                      object\n",
      "site_id                        object\n",
      "visitor_location_country_id    object\n",
      "prop_country_id                object\n",
      "prop_id                        object\n",
      "prop_starrating                object\n",
      "prop_review_score              float64\n",
      "prop_brand_bool                object\n",
      "prop_location_score1           float64\n",
      "prop_location_score2           float64\n",
      "prop_log_historical_price      float64\n",
      "position                       float64\n",
      "price_usd                      float64\n",
      "promotion_flag                 object\n",
      "srch_destination_id            object\n",
      "srch_length_of_stay            float64\n",
      "srch_booking_window            float64\n",
      "srch_adults_count              float64\n",
      "srch_children_count            float64\n",
      "srch_room_count                float64\n",
      "srch_saturday_night_bool       object\n",
      "orig_destination_distance      float64\n",
      "random_bool                    object\n",
      "click_bool                     object\n",
      "booking_bool                   object\n",
      "dtypes: float64(12), object(14)\n",
      "memory usage: 639.6+ MB\n"
     ]
    }
   ],
   "source": [
    "df['click_bool'] = df['click_bool'].astype(object)\n",
    "df['booking_bool'] = df['booking_bool'].astype(object)\n",
    "df['prop_starrating'] = df['prop_starrating'].astype(object)\n",
    "df['prop_brand_bool'] = df['prop_brand_bool'].astype(object)\n",
    "df['promotion_flag'] = df['promotion_flag'].astype(object)\n",
    "df['srch_saturday_night_bool'] = df['srch_saturday_night_bool'].astype(object)\n",
    "df['random_bool'] = df['random_bool'].astype(object)\n",
    "df['prop_country_id'] = df['prop_country_id'].astype(object)\n",
    "df['prop_id'] = df['prop_id'].astype(object)\n",
    "df['srch_destination_id'] = df['srch_destination_id'].astype(object)\n",
    "df['srch_id'] = df['srch_id'].astype(object)\n",
    "df['site_id'] = df['site_id'].astype(object)\n",
    "df['visitor_location_country_id'] = df['visitor_location_country_id'].astype(object)\n",
    "df.info()"
   ]
  },
  {
   "cell_type": "markdown",
   "metadata": {},
   "source": [
    "### 1.1 Deleting Features with more than 40% Missing Data "
   ]
  },
  {
   "cell_type": "code",
   "execution_count": 7,
   "metadata": {
    "collapsed": false
   },
   "outputs": [
    {
     "data": {
      "text/plain": [
       "(3224281, 26)"
      ]
     },
     "execution_count": 7,
     "metadata": {},
     "output_type": "execute_result"
    }
   ],
   "source": [
    "df.dropna(thresh=df.shape[0]*0.60,how='any',axis=1,inplace=True) #thres - require that many non-NA values\n",
    "df.shape\n",
    "\n",
    "#df_null = df.isnull().sum() / len(df)\n",
    "#missing_features = df_null[df_null > 0.40].index\n",
    "#print(missing_features)\n",
    "#df.drop(missing_features, axis=1, inplace=True)"
   ]
  },
  {
   "cell_type": "code",
   "execution_count": 8,
   "metadata": {
    "collapsed": false
   },
   "outputs": [
    {
     "data": {
      "text/plain": [
       "srch_id                              0\n",
       "date_time                            0\n",
       "site_id                              0\n",
       "visitor_location_country_id          0\n",
       "prop_country_id                      0\n",
       "prop_id                              0\n",
       "prop_starrating                      1\n",
       "prop_review_score                 4767\n",
       "prop_brand_bool                      1\n",
       "prop_location_score1                 1\n",
       "prop_location_score2            706200\n",
       "prop_log_historical_price            1\n",
       "position                             1\n",
       "price_usd                            1\n",
       "promotion_flag                       1\n",
       "srch_destination_id                  1\n",
       "srch_length_of_stay                  1\n",
       "srch_booking_window                  1\n",
       "srch_adults_count                    1\n",
       "srch_children_count                  1\n",
       "srch_room_count                      1\n",
       "srch_saturday_night_bool             1\n",
       "orig_destination_distance      1045781\n",
       "random_bool                          1\n",
       "click_bool                           1\n",
       "booking_bool                         1\n",
       "dtype: int64"
      ]
     },
     "execution_count": 8,
     "metadata": {},
     "output_type": "execute_result"
    }
   ],
   "source": [
    "df.isnull().sum()"
   ]
  },
  {
   "cell_type": "markdown",
   "metadata": {},
   "source": [
    "### 1.2 Handling Missing Values"
   ]
  },
  {
   "cell_type": "markdown",
   "metadata": {},
   "source": [
    "#### 1.2.1  prop_review_score\n",
    "* The mean customer review score for the hotel on a scale out of 5, rounded to 0.5 increments. A 0 means there have been no reviews, null that the information is not available."
   ]
  },
  {
   "cell_type": "markdown",
   "metadata": {},
   "source": [
    "#### Number of Unique Hotels / property Id"
   ]
  },
  {
   "cell_type": "code",
   "execution_count": 10,
   "metadata": {
    "collapsed": false
   },
   "outputs": [
    {
     "data": {
      "text/plain": [
       "122831"
      ]
     },
     "execution_count": 10,
     "metadata": {},
     "output_type": "execute_result"
    }
   ],
   "source": [
    "len(df.prop_id.unique())"
   ]
  },
  {
   "cell_type": "markdown",
   "metadata": {},
   "source": [
    "#### Imputing review score as the mean score for that hotel"
   ]
  },
  {
   "cell_type": "code",
   "execution_count": 34,
   "metadata": {
    "collapsed": true
   },
   "outputs": [],
   "source": [
    "df['prop_review_score'].fillna(df.groupby('prop_id')['prop_review_score'].transform('mean'),inplace=True)"
   ]
  },
  {
   "cell_type": "code",
   "execution_count": 35,
   "metadata": {
    "collapsed": false
   },
   "outputs": [
    {
     "data": {
      "text/plain": [
       "4767"
      ]
     },
     "execution_count": 35,
     "metadata": {},
     "output_type": "execute_result"
    }
   ],
   "source": [
    "df.prop_review_score.isnull().sum()"
   ]
  },
  {
   "cell_type": "raw",
   "metadata": {},
   "source": [
    "We can see these are the hotels which have no rating information available. Lets check the frequency/count of such hotels "
   ]
  },
  {
   "cell_type": "code",
   "execution_count": 28,
   "metadata": {
    "collapsed": true
   },
   "outputs": [
    {
     "data": {
      "text/plain": [
       "prop_id\n",
       "140668      1\n",
       "129878      1\n",
       "62684       1\n",
       "62769       1\n",
       "63305       1\n",
       "63462       1\n",
       "63613       1\n",
       "64566       1\n",
       "129803      1\n",
       "64761       1\n",
       "65458       1\n",
       "66134       1\n",
       "66268       1\n",
       "129681      1\n",
       "66317       1\n",
       "66390       1\n",
       "129623      1\n",
       "140543      1\n",
       "67534       1\n",
       "129491      1\n",
       "68194       1\n",
       "68276       1\n",
       "62318       1\n",
       "129415      1\n",
       "62258       1\n",
       "61970       1\n",
       "57675       1\n",
       "58067       1\n",
       "58131       1\n",
       "58374       1\n",
       "         ... \n",
       "126663     20\n",
       "72977      20\n",
       "64612      20\n",
       "104391     21\n",
       "11624      21\n",
       "5719       21\n",
       "112387     21\n",
       "137610     22\n",
       "65011      22\n",
       "68170      22\n",
       "34076      23\n",
       "97573      23\n",
       "71238      24\n",
       "110580     25\n",
       "117174     25\n",
       "33213      26\n",
       "43049      28\n",
       "16696      28\n",
       "52282      30\n",
       "106188     30\n",
       "66298      31\n",
       "71252      32\n",
       "66864      37\n",
       "133760     41\n",
       "59292      42\n",
       "71041      42\n",
       "32424      48\n",
       "1772       49\n",
       "66663      51\n",
       "100882    137\n",
       "Name: prop_id, dtype: int64"
      ]
     },
     "execution_count": 28,
     "metadata": {},
     "output_type": "execute_result"
    }
   ],
   "source": [
    "df[df.prop_review_score.isnull()].groupby('prop_id')['prop_id'].count().sort_values(inplace=False)"
   ]
  },
  {
   "cell_type": "markdown",
   "metadata": {},
   "source": [
    "We can see that the hotels for which we have no rating info available are not very popular since their frequency ranges from 1-50  out of 32 lakh records. Lets see if these hotels had a click or not"
   ]
  },
  {
   "cell_type": "code",
   "execution_count": 23,
   "metadata": {
    "collapsed": false
   },
   "outputs": [
    {
     "data": {
      "text/plain": [
       "(4767, 26)"
      ]
     },
     "execution_count": 23,
     "metadata": {},
     "output_type": "execute_result"
    }
   ],
   "source": [
    "df_prop_review_null = df[df.prop_review_score.isnull()]\n",
    "df_prop_review_null.shape"
   ]
  },
  {
   "cell_type": "code",
   "execution_count": 29,
   "metadata": {
    "collapsed": false
   },
   "outputs": [
    {
     "data": {
      "text/plain": [
       "0.0    4605\n",
       "1.0     161\n",
       "Name: click_bool, dtype: int64"
      ]
     },
     "execution_count": 29,
     "metadata": {},
     "output_type": "execute_result"
    }
   ],
   "source": [
    "df_prop_review_null.click_bool.value_counts()"
   ]
  },
  {
   "cell_type": "markdown",
   "metadata": {},
   "source": [
    "#### Imputing review score as the mean score for hotels in that country"
   ]
  },
  {
   "cell_type": "markdown",
   "metadata": {},
   "source": [
    "If we had more info about the area to which these property belong to we would have imputed score by the mean score of hotels beloning to that area. Since no such info is available. Only country of property is available. We will impute them by the mean \n",
    "rating for hotels in that country. "
   ]
  },
  {
   "cell_type": "code",
   "execution_count": 36,
   "metadata": {
    "collapsed": false
   },
   "outputs": [
    {
     "data": {
      "text/plain": [
       "0"
      ]
     },
     "execution_count": 36,
     "metadata": {},
     "output_type": "execute_result"
    }
   ],
   "source": [
    "df.prop_review_score.fillna(df.groupby('prop_country_id')['prop_review_score'].transform('mean'),inplace=True)\n",
    "df.prop_review_score.isnull().sum()"
   ]
  },
  {
   "cell_type": "markdown",
   "metadata": {},
   "source": [
    "#### 1.2.2  prop_location_score2\n",
    "* A (second) score outlining the desirability of the hotel’s location"
   ]
  },
  {
   "cell_type": "code",
   "execution_count": 42,
   "metadata": {
    "collapsed": false
   },
   "outputs": [
    {
     "data": {
      "text/plain": [
       "706200"
      ]
     },
     "execution_count": 42,
     "metadata": {},
     "output_type": "execute_result"
    }
   ],
   "source": [
    "df.prop_location_score2.isnull().sum()"
   ]
  },
  {
   "cell_type": "markdown",
   "metadata": {},
   "source": [
    "* Lets check if prop_location_score1 and prop_location_score2 are same or not on an average. If same we can impute missing\n",
    "values of prop_location_score2 with prop_location_score1"
   ]
  },
  {
   "cell_type": "code",
   "execution_count": 43,
   "metadata": {
    "collapsed": true
   },
   "outputs": [
    {
     "data": {
      "text/plain": [
       "3.6663    2616\n",
       "0.0002    2112\n",
       "0.0001    2039\n",
       "0.0004    1919\n",
       "3.9653    1780\n",
       "0.6898    1763\n",
       "0.6899    1758\n",
       "0.0003    1659\n",
       "0.0000    1563\n",
       "0.0005    1492\n",
       "3.9066    1456\n",
       "3.8903    1444\n",
       "4.0510    1418\n",
       "0.6897    1418\n",
       "3.9268    1409\n",
       "4.0515    1403\n",
       "3.8982    1392\n",
       "0.0006    1388\n",
       "0.0007    1372\n",
       "4.0619    1371\n",
       "3.7854    1368\n",
       "3.8492    1355\n",
       "4.0627    1349\n",
       "2.9888    1348\n",
       "4.0232    1343\n",
       "4.0902    1339\n",
       "3.9327    1337\n",
       "0.6895    1335\n",
       "3.7004    1333\n",
       "3.9800    1328\n",
       "          ... \n",
       "0.8628       1\n",
       "4.9673       1\n",
       "5.2265       1\n",
       "0.5178       1\n",
       "4.7890       1\n",
       "3.9555       1\n",
       "1.2290       1\n",
       "3.7778       1\n",
       "0.8644       1\n",
       "1.3652       1\n",
       "5.6358       1\n",
       "4.3386       1\n",
       "1.7394       1\n",
       "0.4932       1\n",
       "1.3183       1\n",
       "1.0835       1\n",
       "2.1446       1\n",
       "1.3321       1\n",
       "1.9825       1\n",
       "4.2759       1\n",
       "4.7367       1\n",
       "5.4008       1\n",
       "5.6740       1\n",
       "4.1374       1\n",
       "3.0373       1\n",
       "2.8842       1\n",
       "6.2244       1\n",
       "0.1627       1\n",
       "3.7367       1\n",
       "0.5760       1\n",
       "dtype: int64"
      ]
     },
     "execution_count": 43,
     "metadata": {},
     "output_type": "execute_result"
    }
   ],
   "source": [
    "df_difference_loc_score = abs(df.prop_location_score2-df.prop_location_score1)\n",
    "df_difference_loc_score.value_counts()"
   ]
  },
  {
   "cell_type": "code",
   "execution_count": null,
   "metadata": {
    "collapsed": true
   },
   "outputs": [],
   "source": [
    "* As we can see there is a difference between the 2 scores. The score lies between 0 to 1 and is rounded upto 3 decimal places.\n",
    "Lets check if there is a correlation of this column with others (if yes we can predict it)"
   ]
  },
  {
   "cell_type": "code",
   "execution_count": 56,
   "metadata": {
    "collapsed": false
   },
   "outputs": [
    {
     "data": {
      "text/plain": [
       "<matplotlib.axes._subplots.AxesSubplot at 0x271448c0a90>"
      ]
     },
     "execution_count": 56,
     "metadata": {},
     "output_type": "execute_result"
    },
    {
     "data": {
      "image/png": "[encoded data removed]",
      "text/plain": [
       "<Figure size 720x576 with 2 Axes>"
      ]
     },
     "metadata": {},
     "output_type": "display_data"
    }
   ],
   "source": [
    "import seaborn as sns\n",
    "import matplotlib.pyplot as plt\n",
    "%matplotlib inline\n",
    "plt.figure(figsize=(10,8))\n",
    "sns.heatmap(df.corr(),annot=True,cbar=True)"
   ]
  },
  {
   "cell_type": "markdown",
   "metadata": {},
   "source": [
    "* We can see that prop_location_score2 only has correlation with prop_location_score1 as expected.\n",
    "* Location score is different for each hotel.  \n",
    "* Its worth noting that prop_location_score2 lies between 0 and 1 and prop_location_score1 lies between 2 to 7. "
   ]
  },
  {
   "cell_type": "markdown",
   "metadata": {},
   "source": [
    "* Imputing prop_location_score2 missing values with prop_location_score1/100"
   ]
  },
  {
   "cell_type": "code",
   "execution_count": 71,
   "metadata": {
    "collapsed": false
   },
   "outputs": [
    {
     "data": {
      "text/plain": [
       "1"
      ]
     },
     "execution_count": 71,
     "metadata": {},
     "output_type": "execute_result"
    }
   ],
   "source": [
    "df['prop_location_score2'].fillna(df['prop_location_score1']/100,inplace=True)\n",
    "df.prop_location_score2.isnull().sum()"
   ]
  },
  {
   "cell_type": "code",
   "execution_count": null,
   "metadata": {
    "collapsed": true
   },
   "outputs": [],
   "source": []
  },
  {
   "cell_type": "markdown",
   "metadata": {},
   "source": [
    "#### 1.2.3 orig_destination_distance\n",
    "* Physical distance between the hotel and the customer at the time of search. A null means the distance could not be calculated."
   ]
  },
  {
   "cell_type": "code",
   "execution_count": 92,
   "metadata": {
    "collapsed": true
   },
   "outputs": [
    {
     "data": {
      "text/html": [
       "<div>\n",
       "<table border=\"1\" class=\"dataframe\">\n",
       "  <thead>\n",
       "    <tr style=\"text-align: right;\">\n",
       "      <th></th>\n",
       "      <th>visitor_location_country_id</th>\n",
       "      <th>prop_country_id</th>\n",
       "      <th>prop_id</th>\n",
       "      <th>orig_destination_distance</th>\n",
       "    </tr>\n",
       "  </thead>\n",
       "  <tbody>\n",
       "    <tr>\n",
       "      <th>0</th>\n",
       "      <td>187</td>\n",
       "      <td>219</td>\n",
       "      <td>893</td>\n",
       "      <td>NaN</td>\n",
       "    </tr>\n",
       "    <tr>\n",
       "      <th>1</th>\n",
       "      <td>187</td>\n",
       "      <td>219</td>\n",
       "      <td>10404</td>\n",
       "      <td>NaN</td>\n",
       "    </tr>\n",
       "    <tr>\n",
       "      <th>2</th>\n",
       "      <td>187</td>\n",
       "      <td>219</td>\n",
       "      <td>21315</td>\n",
       "      <td>NaN</td>\n",
       "    </tr>\n",
       "    <tr>\n",
       "      <th>3</th>\n",
       "      <td>187</td>\n",
       "      <td>219</td>\n",
       "      <td>27348</td>\n",
       "      <td>NaN</td>\n",
       "    </tr>\n",
       "    <tr>\n",
       "      <th>4</th>\n",
       "      <td>187</td>\n",
       "      <td>219</td>\n",
       "      <td>29604</td>\n",
       "      <td>NaN</td>\n",
       "    </tr>\n",
       "    <tr>\n",
       "      <th>5</th>\n",
       "      <td>187</td>\n",
       "      <td>219</td>\n",
       "      <td>30184</td>\n",
       "      <td>NaN</td>\n",
       "    </tr>\n",
       "    <tr>\n",
       "      <th>6</th>\n",
       "      <td>187</td>\n",
       "      <td>219</td>\n",
       "      <td>44147</td>\n",
       "      <td>NaN</td>\n",
       "    </tr>\n",
       "    <tr>\n",
       "      <th>7</th>\n",
       "      <td>187</td>\n",
       "      <td>219</td>\n",
       "      <td>50984</td>\n",
       "      <td>NaN</td>\n",
       "    </tr>\n",
       "    <tr>\n",
       "      <th>8</th>\n",
       "      <td>187</td>\n",
       "      <td>219</td>\n",
       "      <td>53341</td>\n",
       "      <td>NaN</td>\n",
       "    </tr>\n",
       "    <tr>\n",
       "      <th>9</th>\n",
       "      <td>187</td>\n",
       "      <td>219</td>\n",
       "      <td>56880</td>\n",
       "      <td>NaN</td>\n",
       "    </tr>\n",
       "    <tr>\n",
       "      <th>10</th>\n",
       "      <td>187</td>\n",
       "      <td>219</td>\n",
       "      <td>59267</td>\n",
       "      <td>NaN</td>\n",
       "    </tr>\n",
       "    <tr>\n",
       "      <th>11</th>\n",
       "      <td>187</td>\n",
       "      <td>219</td>\n",
       "      <td>59526</td>\n",
       "      <td>NaN</td>\n",
       "    </tr>\n",
       "    <tr>\n",
       "      <th>12</th>\n",
       "      <td>187</td>\n",
       "      <td>219</td>\n",
       "      <td>68914</td>\n",
       "      <td>NaN</td>\n",
       "    </tr>\n",
       "    <tr>\n",
       "      <th>13</th>\n",
       "      <td>187</td>\n",
       "      <td>219</td>\n",
       "      <td>74474</td>\n",
       "      <td>NaN</td>\n",
       "    </tr>\n",
       "    <tr>\n",
       "      <th>14</th>\n",
       "      <td>187</td>\n",
       "      <td>219</td>\n",
       "      <td>81437</td>\n",
       "      <td>NaN</td>\n",
       "    </tr>\n",
       "    <tr>\n",
       "      <th>15</th>\n",
       "      <td>187</td>\n",
       "      <td>219</td>\n",
       "      <td>85728</td>\n",
       "      <td>NaN</td>\n",
       "    </tr>\n",
       "    <tr>\n",
       "      <th>16</th>\n",
       "      <td>187</td>\n",
       "      <td>219</td>\n",
       "      <td>88096</td>\n",
       "      <td>NaN</td>\n",
       "    </tr>\n",
       "    <tr>\n",
       "      <th>17</th>\n",
       "      <td>187</td>\n",
       "      <td>219</td>\n",
       "      <td>88127</td>\n",
       "      <td>NaN</td>\n",
       "    </tr>\n",
       "    <tr>\n",
       "      <th>18</th>\n",
       "      <td>187</td>\n",
       "      <td>219</td>\n",
       "      <td>88218</td>\n",
       "      <td>NaN</td>\n",
       "    </tr>\n",
       "    <tr>\n",
       "      <th>19</th>\n",
       "      <td>187</td>\n",
       "      <td>219</td>\n",
       "      <td>89073</td>\n",
       "      <td>NaN</td>\n",
       "    </tr>\n",
       "    <tr>\n",
       "      <th>20</th>\n",
       "      <td>187</td>\n",
       "      <td>219</td>\n",
       "      <td>95166</td>\n",
       "      <td>NaN</td>\n",
       "    </tr>\n",
       "    <tr>\n",
       "      <th>21</th>\n",
       "      <td>187</td>\n",
       "      <td>219</td>\n",
       "      <td>95307</td>\n",
       "      <td>NaN</td>\n",
       "    </tr>\n",
       "    <tr>\n",
       "      <th>22</th>\n",
       "      <td>187</td>\n",
       "      <td>219</td>\n",
       "      <td>97247</td>\n",
       "      <td>NaN</td>\n",
       "    </tr>\n",
       "    <tr>\n",
       "      <th>23</th>\n",
       "      <td>187</td>\n",
       "      <td>219</td>\n",
       "      <td>107872</td>\n",
       "      <td>NaN</td>\n",
       "    </tr>\n",
       "    <tr>\n",
       "      <th>24</th>\n",
       "      <td>187</td>\n",
       "      <td>219</td>\n",
       "      <td>111000</td>\n",
       "      <td>NaN</td>\n",
       "    </tr>\n",
       "    <tr>\n",
       "      <th>25</th>\n",
       "      <td>187</td>\n",
       "      <td>219</td>\n",
       "      <td>111106</td>\n",
       "      <td>NaN</td>\n",
       "    </tr>\n",
       "    <tr>\n",
       "      <th>26</th>\n",
       "      <td>187</td>\n",
       "      <td>219</td>\n",
       "      <td>114766</td>\n",
       "      <td>NaN</td>\n",
       "    </tr>\n",
       "    <tr>\n",
       "      <th>27</th>\n",
       "      <td>187</td>\n",
       "      <td>219</td>\n",
       "      <td>122844</td>\n",
       "      <td>NaN</td>\n",
       "    </tr>\n",
       "    <tr>\n",
       "      <th>178</th>\n",
       "      <td>55</td>\n",
       "      <td>216</td>\n",
       "      <td>6225</td>\n",
       "      <td>NaN</td>\n",
       "    </tr>\n",
       "    <tr>\n",
       "      <th>179</th>\n",
       "      <td>55</td>\n",
       "      <td>216</td>\n",
       "      <td>15024</td>\n",
       "      <td>NaN</td>\n",
       "    </tr>\n",
       "    <tr>\n",
       "      <th>...</th>\n",
       "      <td>...</td>\n",
       "      <td>...</td>\n",
       "      <td>...</td>\n",
       "      <td>...</td>\n",
       "    </tr>\n",
       "    <tr>\n",
       "      <th>3224117</th>\n",
       "      <td>219</td>\n",
       "      <td>219</td>\n",
       "      <td>125916</td>\n",
       "      <td>NaN</td>\n",
       "    </tr>\n",
       "    <tr>\n",
       "      <th>3224118</th>\n",
       "      <td>219</td>\n",
       "      <td>219</td>\n",
       "      <td>127891</td>\n",
       "      <td>NaN</td>\n",
       "    </tr>\n",
       "    <tr>\n",
       "      <th>3224119</th>\n",
       "      <td>219</td>\n",
       "      <td>219</td>\n",
       "      <td>135344</td>\n",
       "      <td>NaN</td>\n",
       "    </tr>\n",
       "    <tr>\n",
       "      <th>3224120</th>\n",
       "      <td>219</td>\n",
       "      <td>219</td>\n",
       "      <td>138294</td>\n",
       "      <td>NaN</td>\n",
       "    </tr>\n",
       "    <tr>\n",
       "      <th>3224153</th>\n",
       "      <td>55</td>\n",
       "      <td>56</td>\n",
       "      <td>5960</td>\n",
       "      <td>NaN</td>\n",
       "    </tr>\n",
       "    <tr>\n",
       "      <th>3224154</th>\n",
       "      <td>55</td>\n",
       "      <td>56</td>\n",
       "      <td>9236</td>\n",
       "      <td>NaN</td>\n",
       "    </tr>\n",
       "    <tr>\n",
       "      <th>3224155</th>\n",
       "      <td>55</td>\n",
       "      <td>56</td>\n",
       "      <td>9780</td>\n",
       "      <td>NaN</td>\n",
       "    </tr>\n",
       "    <tr>\n",
       "      <th>3224156</th>\n",
       "      <td>55</td>\n",
       "      <td>56</td>\n",
       "      <td>11031</td>\n",
       "      <td>NaN</td>\n",
       "    </tr>\n",
       "    <tr>\n",
       "      <th>3224157</th>\n",
       "      <td>55</td>\n",
       "      <td>56</td>\n",
       "      <td>11038</td>\n",
       "      <td>NaN</td>\n",
       "    </tr>\n",
       "    <tr>\n",
       "      <th>3224158</th>\n",
       "      <td>55</td>\n",
       "      <td>56</td>\n",
       "      <td>18326</td>\n",
       "      <td>NaN</td>\n",
       "    </tr>\n",
       "    <tr>\n",
       "      <th>3224159</th>\n",
       "      <td>55</td>\n",
       "      <td>56</td>\n",
       "      <td>24974</td>\n",
       "      <td>NaN</td>\n",
       "    </tr>\n",
       "    <tr>\n",
       "      <th>3224160</th>\n",
       "      <td>55</td>\n",
       "      <td>56</td>\n",
       "      <td>30024</td>\n",
       "      <td>NaN</td>\n",
       "    </tr>\n",
       "    <tr>\n",
       "      <th>3224161</th>\n",
       "      <td>55</td>\n",
       "      <td>56</td>\n",
       "      <td>37391</td>\n",
       "      <td>NaN</td>\n",
       "    </tr>\n",
       "    <tr>\n",
       "      <th>3224162</th>\n",
       "      <td>55</td>\n",
       "      <td>56</td>\n",
       "      <td>38894</td>\n",
       "      <td>NaN</td>\n",
       "    </tr>\n",
       "    <tr>\n",
       "      <th>3224163</th>\n",
       "      <td>55</td>\n",
       "      <td>56</td>\n",
       "      <td>57696</td>\n",
       "      <td>NaN</td>\n",
       "    </tr>\n",
       "    <tr>\n",
       "      <th>3224164</th>\n",
       "      <td>55</td>\n",
       "      <td>56</td>\n",
       "      <td>58233</td>\n",
       "      <td>NaN</td>\n",
       "    </tr>\n",
       "    <tr>\n",
       "      <th>3224165</th>\n",
       "      <td>55</td>\n",
       "      <td>56</td>\n",
       "      <td>76706</td>\n",
       "      <td>NaN</td>\n",
       "    </tr>\n",
       "    <tr>\n",
       "      <th>3224166</th>\n",
       "      <td>55</td>\n",
       "      <td>56</td>\n",
       "      <td>78266</td>\n",
       "      <td>NaN</td>\n",
       "    </tr>\n",
       "    <tr>\n",
       "      <th>3224167</th>\n",
       "      <td>55</td>\n",
       "      <td>56</td>\n",
       "      <td>79492</td>\n",
       "      <td>NaN</td>\n",
       "    </tr>\n",
       "    <tr>\n",
       "      <th>3224168</th>\n",
       "      <td>55</td>\n",
       "      <td>56</td>\n",
       "      <td>82108</td>\n",
       "      <td>NaN</td>\n",
       "    </tr>\n",
       "    <tr>\n",
       "      <th>3224169</th>\n",
       "      <td>55</td>\n",
       "      <td>56</td>\n",
       "      <td>82911</td>\n",
       "      <td>NaN</td>\n",
       "    </tr>\n",
       "    <tr>\n",
       "      <th>3224170</th>\n",
       "      <td>55</td>\n",
       "      <td>56</td>\n",
       "      <td>83991</td>\n",
       "      <td>NaN</td>\n",
       "    </tr>\n",
       "    <tr>\n",
       "      <th>3224171</th>\n",
       "      <td>55</td>\n",
       "      <td>56</td>\n",
       "      <td>89852</td>\n",
       "      <td>NaN</td>\n",
       "    </tr>\n",
       "    <tr>\n",
       "      <th>3224172</th>\n",
       "      <td>55</td>\n",
       "      <td>56</td>\n",
       "      <td>93982</td>\n",
       "      <td>NaN</td>\n",
       "    </tr>\n",
       "    <tr>\n",
       "      <th>3224173</th>\n",
       "      <td>55</td>\n",
       "      <td>56</td>\n",
       "      <td>96418</td>\n",
       "      <td>NaN</td>\n",
       "    </tr>\n",
       "    <tr>\n",
       "      <th>3224174</th>\n",
       "      <td>55</td>\n",
       "      <td>56</td>\n",
       "      <td>109824</td>\n",
       "      <td>NaN</td>\n",
       "    </tr>\n",
       "    <tr>\n",
       "      <th>3224175</th>\n",
       "      <td>55</td>\n",
       "      <td>56</td>\n",
       "      <td>111910</td>\n",
       "      <td>NaN</td>\n",
       "    </tr>\n",
       "    <tr>\n",
       "      <th>3224176</th>\n",
       "      <td>55</td>\n",
       "      <td>56</td>\n",
       "      <td>121927</td>\n",
       "      <td>NaN</td>\n",
       "    </tr>\n",
       "    <tr>\n",
       "      <th>3224177</th>\n",
       "      <td>55</td>\n",
       "      <td>56</td>\n",
       "      <td>131566</td>\n",
       "      <td>NaN</td>\n",
       "    </tr>\n",
       "    <tr>\n",
       "      <th>3224280</th>\n",
       "      <td>219</td>\n",
       "      <td>219</td>\n",
       "      <td>207</td>\n",
       "      <td>NaN</td>\n",
       "    </tr>\n",
       "  </tbody>\n",
       "</table>\n",
       "<p>1045781 rows × 4 columns</p>\n",
       "</div>"
      ],
      "text/plain": [
       "        visitor_location_country_id prop_country_id prop_id  \\\n",
       "0                               187             219     893   \n",
       "1                               187             219   10404   \n",
       "2                               187             219   21315   \n",
       "3                               187             219   27348   \n",
       "4                               187             219   29604   \n",
       "5                               187             219   30184   \n",
       "6                               187             219   44147   \n",
       "7                               187             219   50984   \n",
       "8                               187             219   53341   \n",
       "9                               187             219   56880   \n",
       "10                              187             219   59267   \n",
       "11                              187             219   59526   \n",
       "12                              187             219   68914   \n",
       "13                              187             219   74474   \n",
       "14                              187             219   81437   \n",
       "15                              187             219   85728   \n",
       "16                              187             219   88096   \n",
       "17                              187             219   88127   \n",
       "18                              187             219   88218   \n",
       "19                              187             219   89073   \n",
       "20                              187             219   95166   \n",
       "21                              187             219   95307   \n",
       "22                              187             219   97247   \n",
       "23                              187             219  107872   \n",
       "24                              187             219  111000   \n",
       "25                              187             219  111106   \n",
       "26                              187             219  114766   \n",
       "27                              187             219  122844   \n",
       "178                              55             216    6225   \n",
       "179                              55             216   15024   \n",
       "...                             ...             ...     ...   \n",
       "3224117                         219             219  125916   \n",
       "3224118                         219             219  127891   \n",
       "3224119                         219             219  135344   \n",
       "3224120                         219             219  138294   \n",
       "3224153                          55              56    5960   \n",
       "3224154                          55              56    9236   \n",
       "3224155                          55              56    9780   \n",
       "3224156                          55              56   11031   \n",
       "3224157                          55              56   11038   \n",
       "3224158                          55              56   18326   \n",
       "3224159                          55              56   24974   \n",
       "3224160                          55              56   30024   \n",
       "3224161                          55              56   37391   \n",
       "3224162                          55              56   38894   \n",
       "3224163                          55              56   57696   \n",
       "3224164                          55              56   58233   \n",
       "3224165                          55              56   76706   \n",
       "3224166                          55              56   78266   \n",
       "3224167                          55              56   79492   \n",
       "3224168                          55              56   82108   \n",
       "3224169                          55              56   82911   \n",
       "3224170                          55              56   83991   \n",
       "3224171                          55              56   89852   \n",
       "3224172                          55              56   93982   \n",
       "3224173                          55              56   96418   \n",
       "3224174                          55              56  109824   \n",
       "3224175                          55              56  111910   \n",
       "3224176                          55              56  121927   \n",
       "3224177                          55              56  131566   \n",
       "3224280                         219             219     207   \n",
       "\n",
       "         orig_destination_distance  \n",
       "0                              NaN  \n",
       "1                              NaN  \n",
       "2                              NaN  \n",
       "3                              NaN  \n",
       "4                              NaN  \n",
       "5                              NaN  \n",
       "6                              NaN  \n",
       "7                              NaN  \n",
       "8                              NaN  \n",
       "9                              NaN  \n",
       "10                             NaN  \n",
       "11                             NaN  \n",
       "12                             NaN  \n",
       "13                             NaN  \n",
       "14                             NaN  \n",
       "15                             NaN  \n",
       "16                             NaN  \n",
       "17                             NaN  \n",
       "18                             NaN  \n",
       "19                             NaN  \n",
       "20                             NaN  \n",
       "21                             NaN  \n",
       "22                             NaN  \n",
       "23                             NaN  \n",
       "24                             NaN  \n",
       "25                             NaN  \n",
       "26                             NaN  \n",
       "27                             NaN  \n",
       "178                            NaN  \n",
       "179                            NaN  \n",
       "...                            ...  \n",
       "3224117                        NaN  \n",
       "3224118                        NaN  \n",
       "3224119                        NaN  \n",
       "3224120                        NaN  \n",
       "3224153                        NaN  \n",
       "3224154                        NaN  \n",
       "3224155                        NaN  \n",
       "3224156                        NaN  \n",
       "3224157                        NaN  \n",
       "3224158                        NaN  \n",
       "3224159                        NaN  \n",
       "3224160                        NaN  \n",
       "3224161                        NaN  \n",
       "3224162                        NaN  \n",
       "3224163                        NaN  \n",
       "3224164                        NaN  \n",
       "3224165                        NaN  \n",
       "3224166                        NaN  \n",
       "3224167                        NaN  \n",
       "3224168                        NaN  \n",
       "3224169                        NaN  \n",
       "3224170                        NaN  \n",
       "3224171                        NaN  \n",
       "3224172                        NaN  \n",
       "3224173                        NaN  \n",
       "3224174                        NaN  \n",
       "3224175                        NaN  \n",
       "3224176                        NaN  \n",
       "3224177                        NaN  \n",
       "3224280                        NaN  \n",
       "\n",
       "[1045781 rows x 4 columns]"
      ]
     },
     "execution_count": 92,
     "metadata": {},
     "output_type": "execute_result"
    }
   ],
   "source": [
    "df[df.orig_destination_distance.isnull()][['visitor_location_country_id','prop_country_id','prop_id','orig_destination_distance']]"
   ]
  },
  {
   "cell_type": "code",
   "execution_count": 79,
   "metadata": {
    "collapsed": true
   },
   "outputs": [
    {
     "data": {
      "text/html": [
       "<div>\n",
       "<table border=\"1\" class=\"dataframe\">\n",
       "  <thead>\n",
       "    <tr style=\"text-align: right;\">\n",
       "      <th></th>\n",
       "      <th>visitor_location_country_id</th>\n",
       "      <th>prop_country_id</th>\n",
       "      <th>prop_id</th>\n",
       "      <th>orig_destination_distance</th>\n",
       "    </tr>\n",
       "  </thead>\n",
       "  <tbody>\n",
       "    <tr>\n",
       "      <th>28</th>\n",
       "      <td>219</td>\n",
       "      <td>219</td>\n",
       "      <td>3625</td>\n",
       "      <td>238.35</td>\n",
       "    </tr>\n",
       "    <tr>\n",
       "      <th>29</th>\n",
       "      <td>219</td>\n",
       "      <td>219</td>\n",
       "      <td>11622</td>\n",
       "      <td>238.34</td>\n",
       "    </tr>\n",
       "    <tr>\n",
       "      <th>30</th>\n",
       "      <td>219</td>\n",
       "      <td>219</td>\n",
       "      <td>11826</td>\n",
       "      <td>238.33</td>\n",
       "    </tr>\n",
       "    <tr>\n",
       "      <th>31</th>\n",
       "      <td>219</td>\n",
       "      <td>219</td>\n",
       "      <td>22824</td>\n",
       "      <td>238.29</td>\n",
       "    </tr>\n",
       "    <tr>\n",
       "      <th>32</th>\n",
       "      <td>219</td>\n",
       "      <td>219</td>\n",
       "      <td>37581</td>\n",
       "      <td>238.35</td>\n",
       "    </tr>\n",
       "    <tr>\n",
       "      <th>33</th>\n",
       "      <td>219</td>\n",
       "      <td>219</td>\n",
       "      <td>39993</td>\n",
       "      <td>237.94</td>\n",
       "    </tr>\n",
       "    <tr>\n",
       "      <th>34</th>\n",
       "      <td>219</td>\n",
       "      <td>219</td>\n",
       "      <td>46162</td>\n",
       "      <td>238.32</td>\n",
       "    </tr>\n",
       "    <tr>\n",
       "      <th>35</th>\n",
       "      <td>219</td>\n",
       "      <td>219</td>\n",
       "      <td>49152</td>\n",
       "      <td>238.30</td>\n",
       "    </tr>\n",
       "    <tr>\n",
       "      <th>36</th>\n",
       "      <td>219</td>\n",
       "      <td>219</td>\n",
       "      <td>56063</td>\n",
       "      <td>238.33</td>\n",
       "    </tr>\n",
       "    <tr>\n",
       "      <th>37</th>\n",
       "      <td>219</td>\n",
       "      <td>219</td>\n",
       "      <td>56472</td>\n",
       "      <td>238.54</td>\n",
       "    </tr>\n",
       "    <tr>\n",
       "      <th>38</th>\n",
       "      <td>219</td>\n",
       "      <td>219</td>\n",
       "      <td>58696</td>\n",
       "      <td>236.91</td>\n",
       "    </tr>\n",
       "    <tr>\n",
       "      <th>39</th>\n",
       "      <td>219</td>\n",
       "      <td>219</td>\n",
       "      <td>64344</td>\n",
       "      <td>238.40</td>\n",
       "    </tr>\n",
       "    <tr>\n",
       "      <th>40</th>\n",
       "      <td>219</td>\n",
       "      <td>219</td>\n",
       "      <td>65984</td>\n",
       "      <td>238.31</td>\n",
       "    </tr>\n",
       "    <tr>\n",
       "      <th>41</th>\n",
       "      <td>219</td>\n",
       "      <td>219</td>\n",
       "      <td>71258</td>\n",
       "      <td>236.59</td>\n",
       "    </tr>\n",
       "    <tr>\n",
       "      <th>42</th>\n",
       "      <td>219</td>\n",
       "      <td>219</td>\n",
       "      <td>75491</td>\n",
       "      <td>238.30</td>\n",
       "    </tr>\n",
       "    <tr>\n",
       "      <th>43</th>\n",
       "      <td>219</td>\n",
       "      <td>219</td>\n",
       "      <td>81172</td>\n",
       "      <td>234.51</td>\n",
       "    </tr>\n",
       "    <tr>\n",
       "      <th>44</th>\n",
       "      <td>219</td>\n",
       "      <td>219</td>\n",
       "      <td>83045</td>\n",
       "      <td>238.33</td>\n",
       "    </tr>\n",
       "    <tr>\n",
       "      <th>45</th>\n",
       "      <td>219</td>\n",
       "      <td>219</td>\n",
       "      <td>83430</td>\n",
       "      <td>238.40</td>\n",
       "    </tr>\n",
       "    <tr>\n",
       "      <th>46</th>\n",
       "      <td>219</td>\n",
       "      <td>219</td>\n",
       "      <td>83806</td>\n",
       "      <td>238.29</td>\n",
       "    </tr>\n",
       "    <tr>\n",
       "      <th>47</th>\n",
       "      <td>219</td>\n",
       "      <td>219</td>\n",
       "      <td>85567</td>\n",
       "      <td>236.00</td>\n",
       "    </tr>\n",
       "    <tr>\n",
       "      <th>48</th>\n",
       "      <td>219</td>\n",
       "      <td>219</td>\n",
       "      <td>85742</td>\n",
       "      <td>234.10</td>\n",
       "    </tr>\n",
       "    <tr>\n",
       "      <th>49</th>\n",
       "      <td>219</td>\n",
       "      <td>219</td>\n",
       "      <td>89119</td>\n",
       "      <td>238.06</td>\n",
       "    </tr>\n",
       "    <tr>\n",
       "      <th>50</th>\n",
       "      <td>219</td>\n",
       "      <td>219</td>\n",
       "      <td>97099</td>\n",
       "      <td>238.30</td>\n",
       "    </tr>\n",
       "    <tr>\n",
       "      <th>51</th>\n",
       "      <td>219</td>\n",
       "      <td>219</td>\n",
       "      <td>109185</td>\n",
       "      <td>238.28</td>\n",
       "    </tr>\n",
       "    <tr>\n",
       "      <th>52</th>\n",
       "      <td>219</td>\n",
       "      <td>219</td>\n",
       "      <td>110813</td>\n",
       "      <td>233.87</td>\n",
       "    </tr>\n",
       "    <tr>\n",
       "      <th>53</th>\n",
       "      <td>219</td>\n",
       "      <td>219</td>\n",
       "      <td>116696</td>\n",
       "      <td>238.43</td>\n",
       "    </tr>\n",
       "    <tr>\n",
       "      <th>54</th>\n",
       "      <td>219</td>\n",
       "      <td>219</td>\n",
       "      <td>125069</td>\n",
       "      <td>236.91</td>\n",
       "    </tr>\n",
       "    <tr>\n",
       "      <th>55</th>\n",
       "      <td>219</td>\n",
       "      <td>219</td>\n",
       "      <td>127808</td>\n",
       "      <td>237.73</td>\n",
       "    </tr>\n",
       "    <tr>\n",
       "      <th>56</th>\n",
       "      <td>219</td>\n",
       "      <td>219</td>\n",
       "      <td>129278</td>\n",
       "      <td>238.38</td>\n",
       "    </tr>\n",
       "    <tr>\n",
       "      <th>57</th>\n",
       "      <td>219</td>\n",
       "      <td>219</td>\n",
       "      <td>134162</td>\n",
       "      <td>238.34</td>\n",
       "    </tr>\n",
       "    <tr>\n",
       "      <th>...</th>\n",
       "      <td>...</td>\n",
       "      <td>...</td>\n",
       "      <td>...</td>\n",
       "      <td>...</td>\n",
       "    </tr>\n",
       "    <tr>\n",
       "      <th>3224250</th>\n",
       "      <td>100</td>\n",
       "      <td>137</td>\n",
       "      <td>48082</td>\n",
       "      <td>5759.28</td>\n",
       "    </tr>\n",
       "    <tr>\n",
       "      <th>3224251</th>\n",
       "      <td>100</td>\n",
       "      <td>137</td>\n",
       "      <td>51905</td>\n",
       "      <td>5758.94</td>\n",
       "    </tr>\n",
       "    <tr>\n",
       "      <th>3224252</th>\n",
       "      <td>100</td>\n",
       "      <td>137</td>\n",
       "      <td>59443</td>\n",
       "      <td>5762.57</td>\n",
       "    </tr>\n",
       "    <tr>\n",
       "      <th>3224253</th>\n",
       "      <td>100</td>\n",
       "      <td>137</td>\n",
       "      <td>60165</td>\n",
       "      <td>5758.72</td>\n",
       "    </tr>\n",
       "    <tr>\n",
       "      <th>3224254</th>\n",
       "      <td>100</td>\n",
       "      <td>137</td>\n",
       "      <td>67089</td>\n",
       "      <td>5760.34</td>\n",
       "    </tr>\n",
       "    <tr>\n",
       "      <th>3224255</th>\n",
       "      <td>100</td>\n",
       "      <td>137</td>\n",
       "      <td>72231</td>\n",
       "      <td>5759.09</td>\n",
       "    </tr>\n",
       "    <tr>\n",
       "      <th>3224256</th>\n",
       "      <td>100</td>\n",
       "      <td>137</td>\n",
       "      <td>75000</td>\n",
       "      <td>5759.18</td>\n",
       "    </tr>\n",
       "    <tr>\n",
       "      <th>3224257</th>\n",
       "      <td>100</td>\n",
       "      <td>137</td>\n",
       "      <td>76135</td>\n",
       "      <td>5758.85</td>\n",
       "    </tr>\n",
       "    <tr>\n",
       "      <th>3224258</th>\n",
       "      <td>100</td>\n",
       "      <td>137</td>\n",
       "      <td>85366</td>\n",
       "      <td>5758.88</td>\n",
       "    </tr>\n",
       "    <tr>\n",
       "      <th>3224259</th>\n",
       "      <td>100</td>\n",
       "      <td>137</td>\n",
       "      <td>85700</td>\n",
       "      <td>5760.06</td>\n",
       "    </tr>\n",
       "    <tr>\n",
       "      <th>3224260</th>\n",
       "      <td>100</td>\n",
       "      <td>137</td>\n",
       "      <td>86698</td>\n",
       "      <td>5758.72</td>\n",
       "    </tr>\n",
       "    <tr>\n",
       "      <th>3224261</th>\n",
       "      <td>100</td>\n",
       "      <td>137</td>\n",
       "      <td>89353</td>\n",
       "      <td>5759.20</td>\n",
       "    </tr>\n",
       "    <tr>\n",
       "      <th>3224262</th>\n",
       "      <td>100</td>\n",
       "      <td>137</td>\n",
       "      <td>95651</td>\n",
       "      <td>5758.50</td>\n",
       "    </tr>\n",
       "    <tr>\n",
       "      <th>3224263</th>\n",
       "      <td>100</td>\n",
       "      <td>137</td>\n",
       "      <td>99766</td>\n",
       "      <td>5759.07</td>\n",
       "    </tr>\n",
       "    <tr>\n",
       "      <th>3224264</th>\n",
       "      <td>100</td>\n",
       "      <td>137</td>\n",
       "      <td>101725</td>\n",
       "      <td>5759.17</td>\n",
       "    </tr>\n",
       "    <tr>\n",
       "      <th>3224265</th>\n",
       "      <td>100</td>\n",
       "      <td>137</td>\n",
       "      <td>105298</td>\n",
       "      <td>5759.62</td>\n",
       "    </tr>\n",
       "    <tr>\n",
       "      <th>3224266</th>\n",
       "      <td>100</td>\n",
       "      <td>137</td>\n",
       "      <td>110415</td>\n",
       "      <td>5759.59</td>\n",
       "    </tr>\n",
       "    <tr>\n",
       "      <th>3224267</th>\n",
       "      <td>100</td>\n",
       "      <td>137</td>\n",
       "      <td>110561</td>\n",
       "      <td>5758.93</td>\n",
       "    </tr>\n",
       "    <tr>\n",
       "      <th>3224268</th>\n",
       "      <td>100</td>\n",
       "      <td>137</td>\n",
       "      <td>112251</td>\n",
       "      <td>5758.88</td>\n",
       "    </tr>\n",
       "    <tr>\n",
       "      <th>3224269</th>\n",
       "      <td>100</td>\n",
       "      <td>137</td>\n",
       "      <td>115013</td>\n",
       "      <td>5760.24</td>\n",
       "    </tr>\n",
       "    <tr>\n",
       "      <th>3224270</th>\n",
       "      <td>100</td>\n",
       "      <td>137</td>\n",
       "      <td>118427</td>\n",
       "      <td>5758.78</td>\n",
       "    </tr>\n",
       "    <tr>\n",
       "      <th>3224271</th>\n",
       "      <td>100</td>\n",
       "      <td>137</td>\n",
       "      <td>120451</td>\n",
       "      <td>5759.00</td>\n",
       "    </tr>\n",
       "    <tr>\n",
       "      <th>3224272</th>\n",
       "      <td>100</td>\n",
       "      <td>137</td>\n",
       "      <td>121406</td>\n",
       "      <td>5759.41</td>\n",
       "    </tr>\n",
       "    <tr>\n",
       "      <th>3224273</th>\n",
       "      <td>100</td>\n",
       "      <td>137</td>\n",
       "      <td>124452</td>\n",
       "      <td>5755.32</td>\n",
       "    </tr>\n",
       "    <tr>\n",
       "      <th>3224274</th>\n",
       "      <td>100</td>\n",
       "      <td>137</td>\n",
       "      <td>138295</td>\n",
       "      <td>5759.21</td>\n",
       "    </tr>\n",
       "    <tr>\n",
       "      <th>3224275</th>\n",
       "      <td>100</td>\n",
       "      <td>137</td>\n",
       "      <td>139239</td>\n",
       "      <td>5759.42</td>\n",
       "    </tr>\n",
       "    <tr>\n",
       "      <th>3224276</th>\n",
       "      <td>219</td>\n",
       "      <td>219</td>\n",
       "      <td>10107</td>\n",
       "      <td>2601.96</td>\n",
       "    </tr>\n",
       "    <tr>\n",
       "      <th>3224277</th>\n",
       "      <td>219</td>\n",
       "      <td>219</td>\n",
       "      <td>10763</td>\n",
       "      <td>2601.06</td>\n",
       "    </tr>\n",
       "    <tr>\n",
       "      <th>3224278</th>\n",
       "      <td>219</td>\n",
       "      <td>219</td>\n",
       "      <td>12135</td>\n",
       "      <td>2602.85</td>\n",
       "    </tr>\n",
       "    <tr>\n",
       "      <th>3224279</th>\n",
       "      <td>219</td>\n",
       "      <td>219</td>\n",
       "      <td>18601</td>\n",
       "      <td>2599.68</td>\n",
       "    </tr>\n",
       "  </tbody>\n",
       "</table>\n",
       "<p>2178500 rows × 4 columns</p>\n",
       "</div>"
      ],
      "text/plain": [
       "        visitor_location_country_id prop_country_id prop_id  \\\n",
       "28                              219             219    3625   \n",
       "29                              219             219   11622   \n",
       "30                              219             219   11826   \n",
       "31                              219             219   22824   \n",
       "32                              219             219   37581   \n",
       "33                              219             219   39993   \n",
       "34                              219             219   46162   \n",
       "35                              219             219   49152   \n",
       "36                              219             219   56063   \n",
       "37                              219             219   56472   \n",
       "38                              219             219   58696   \n",
       "39                              219             219   64344   \n",
       "40                              219             219   65984   \n",
       "41                              219             219   71258   \n",
       "42                              219             219   75491   \n",
       "43                              219             219   81172   \n",
       "44                              219             219   83045   \n",
       "45                              219             219   83430   \n",
       "46                              219             219   83806   \n",
       "47                              219             219   85567   \n",
       "48                              219             219   85742   \n",
       "49                              219             219   89119   \n",
       "50                              219             219   97099   \n",
       "51                              219             219  109185   \n",
       "52                              219             219  110813   \n",
       "53                              219             219  116696   \n",
       "54                              219             219  125069   \n",
       "55                              219             219  127808   \n",
       "56                              219             219  129278   \n",
       "57                              219             219  134162   \n",
       "...                             ...             ...     ...   \n",
       "3224250                         100             137   48082   \n",
       "3224251                         100             137   51905   \n",
       "3224252                         100             137   59443   \n",
       "3224253                         100             137   60165   \n",
       "3224254                         100             137   67089   \n",
       "3224255                         100             137   72231   \n",
       "3224256                         100             137   75000   \n",
       "3224257                         100             137   76135   \n",
       "3224258                         100             137   85366   \n",
       "3224259                         100             137   85700   \n",
       "3224260                         100             137   86698   \n",
       "3224261                         100             137   89353   \n",
       "3224262                         100             137   95651   \n",
       "3224263                         100             137   99766   \n",
       "3224264                         100             137  101725   \n",
       "3224265                         100             137  105298   \n",
       "3224266                         100             137  110415   \n",
       "3224267                         100             137  110561   \n",
       "3224268                         100             137  112251   \n",
       "3224269                         100             137  115013   \n",
       "3224270                         100             137  118427   \n",
       "3224271                         100             137  120451   \n",
       "3224272                         100             137  121406   \n",
       "3224273                         100             137  124452   \n",
       "3224274                         100             137  138295   \n",
       "3224275                         100             137  139239   \n",
       "3224276                         219             219   10107   \n",
       "3224277                         219             219   10763   \n",
       "3224278                         219             219   12135   \n",
       "3224279                         219             219   18601   \n",
       "\n",
       "         orig_destination_distance  \n",
       "28                          238.35  \n",
       "29                          238.34  \n",
       "30                          238.33  \n",
       "31                          238.29  \n",
       "32                          238.35  \n",
       "33                          237.94  \n",
       "34                          238.32  \n",
       "35                          238.30  \n",
       "36                          238.33  \n",
       "37                          238.54  \n",
       "38                          236.91  \n",
       "39                          238.40  \n",
       "40                          238.31  \n",
       "41                          236.59  \n",
       "42                          238.30  \n",
       "43                          234.51  \n",
       "44                          238.33  \n",
       "45                          238.40  \n",
       "46                          238.29  \n",
       "47                          236.00  \n",
       "48                          234.10  \n",
       "49                          238.06  \n",
       "50                          238.30  \n",
       "51                          238.28  \n",
       "52                          233.87  \n",
       "53                          238.43  \n",
       "54                          236.91  \n",
       "55                          237.73  \n",
       "56                          238.38  \n",
       "57                          238.34  \n",
       "...                            ...  \n",
       "3224250                    5759.28  \n",
       "3224251                    5758.94  \n",
       "3224252                    5762.57  \n",
       "3224253                    5758.72  \n",
       "3224254                    5760.34  \n",
       "3224255                    5759.09  \n",
       "3224256                    5759.18  \n",
       "3224257                    5758.85  \n",
       "3224258                    5758.88  \n",
       "3224259                    5760.06  \n",
       "3224260                    5758.72  \n",
       "3224261                    5759.20  \n",
       "3224262                    5758.50  \n",
       "3224263                    5759.07  \n",
       "3224264                    5759.17  \n",
       "3224265                    5759.62  \n",
       "3224266                    5759.59  \n",
       "3224267                    5758.93  \n",
       "3224268                    5758.88  \n",
       "3224269                    5760.24  \n",
       "3224270                    5758.78  \n",
       "3224271                    5759.00  \n",
       "3224272                    5759.41  \n",
       "3224273                    5755.32  \n",
       "3224274                    5759.21  \n",
       "3224275                    5759.42  \n",
       "3224276                    2601.96  \n",
       "3224277                    2601.06  \n",
       "3224278                    2602.85  \n",
       "3224279                    2599.68  \n",
       "\n",
       "[2178500 rows x 4 columns]"
      ]
     },
     "execution_count": 79,
     "metadata": {},
     "output_type": "execute_result"
    }
   ],
   "source": [
    "df[~df.orig_destination_distance.isnull()][['visitor_location_country_id','prop_country_id','prop_id','orig_destination_distance']]"
   ]
  },
  {
   "cell_type": "code",
   "execution_count": 103,
   "metadata": {
    "collapsed": false,
    "scrolled": true
   },
   "outputs": [
    {
     "data": {
      "text/html": [
       "<div>\n",
       "<table border=\"1\" class=\"dataframe\">\n",
       "  <thead>\n",
       "    <tr style=\"text-align: right;\">\n",
       "      <th></th>\n",
       "      <th>visitor_location_country_id</th>\n",
       "      <th>prop_country_id</th>\n",
       "      <th>prop_id</th>\n",
       "      <th>orig_destination_distance</th>\n",
       "    </tr>\n",
       "  </thead>\n",
       "  <tbody>\n",
       "    <tr>\n",
       "      <th>28</th>\n",
       "      <td>219</td>\n",
       "      <td>219</td>\n",
       "      <td>3625</td>\n",
       "      <td>238.35</td>\n",
       "    </tr>\n",
       "    <tr>\n",
       "      <th>29</th>\n",
       "      <td>219</td>\n",
       "      <td>219</td>\n",
       "      <td>11622</td>\n",
       "      <td>238.34</td>\n",
       "    </tr>\n",
       "    <tr>\n",
       "      <th>30</th>\n",
       "      <td>219</td>\n",
       "      <td>219</td>\n",
       "      <td>11826</td>\n",
       "      <td>238.33</td>\n",
       "    </tr>\n",
       "    <tr>\n",
       "      <th>31</th>\n",
       "      <td>219</td>\n",
       "      <td>219</td>\n",
       "      <td>22824</td>\n",
       "      <td>238.29</td>\n",
       "    </tr>\n",
       "    <tr>\n",
       "      <th>32</th>\n",
       "      <td>219</td>\n",
       "      <td>219</td>\n",
       "      <td>37581</td>\n",
       "      <td>238.35</td>\n",
       "    </tr>\n",
       "    <tr>\n",
       "      <th>33</th>\n",
       "      <td>219</td>\n",
       "      <td>219</td>\n",
       "      <td>39993</td>\n",
       "      <td>237.94</td>\n",
       "    </tr>\n",
       "    <tr>\n",
       "      <th>34</th>\n",
       "      <td>219</td>\n",
       "      <td>219</td>\n",
       "      <td>46162</td>\n",
       "      <td>238.32</td>\n",
       "    </tr>\n",
       "    <tr>\n",
       "      <th>35</th>\n",
       "      <td>219</td>\n",
       "      <td>219</td>\n",
       "      <td>49152</td>\n",
       "      <td>238.30</td>\n",
       "    </tr>\n",
       "    <tr>\n",
       "      <th>36</th>\n",
       "      <td>219</td>\n",
       "      <td>219</td>\n",
       "      <td>56063</td>\n",
       "      <td>238.33</td>\n",
       "    </tr>\n",
       "    <tr>\n",
       "      <th>37</th>\n",
       "      <td>219</td>\n",
       "      <td>219</td>\n",
       "      <td>56472</td>\n",
       "      <td>238.54</td>\n",
       "    </tr>\n",
       "    <tr>\n",
       "      <th>38</th>\n",
       "      <td>219</td>\n",
       "      <td>219</td>\n",
       "      <td>58696</td>\n",
       "      <td>236.91</td>\n",
       "    </tr>\n",
       "    <tr>\n",
       "      <th>39</th>\n",
       "      <td>219</td>\n",
       "      <td>219</td>\n",
       "      <td>64344</td>\n",
       "      <td>238.40</td>\n",
       "    </tr>\n",
       "    <tr>\n",
       "      <th>40</th>\n",
       "      <td>219</td>\n",
       "      <td>219</td>\n",
       "      <td>65984</td>\n",
       "      <td>238.31</td>\n",
       "    </tr>\n",
       "    <tr>\n",
       "      <th>41</th>\n",
       "      <td>219</td>\n",
       "      <td>219</td>\n",
       "      <td>71258</td>\n",
       "      <td>236.59</td>\n",
       "    </tr>\n",
       "    <tr>\n",
       "      <th>42</th>\n",
       "      <td>219</td>\n",
       "      <td>219</td>\n",
       "      <td>75491</td>\n",
       "      <td>238.30</td>\n",
       "    </tr>\n",
       "    <tr>\n",
       "      <th>43</th>\n",
       "      <td>219</td>\n",
       "      <td>219</td>\n",
       "      <td>81172</td>\n",
       "      <td>234.51</td>\n",
       "    </tr>\n",
       "    <tr>\n",
       "      <th>44</th>\n",
       "      <td>219</td>\n",
       "      <td>219</td>\n",
       "      <td>83045</td>\n",
       "      <td>238.33</td>\n",
       "    </tr>\n",
       "    <tr>\n",
       "      <th>45</th>\n",
       "      <td>219</td>\n",
       "      <td>219</td>\n",
       "      <td>83430</td>\n",
       "      <td>238.40</td>\n",
       "    </tr>\n",
       "    <tr>\n",
       "      <th>46</th>\n",
       "      <td>219</td>\n",
       "      <td>219</td>\n",
       "      <td>83806</td>\n",
       "      <td>238.29</td>\n",
       "    </tr>\n",
       "    <tr>\n",
       "      <th>47</th>\n",
       "      <td>219</td>\n",
       "      <td>219</td>\n",
       "      <td>85567</td>\n",
       "      <td>236.00</td>\n",
       "    </tr>\n",
       "    <tr>\n",
       "      <th>48</th>\n",
       "      <td>219</td>\n",
       "      <td>219</td>\n",
       "      <td>85742</td>\n",
       "      <td>234.10</td>\n",
       "    </tr>\n",
       "    <tr>\n",
       "      <th>49</th>\n",
       "      <td>219</td>\n",
       "      <td>219</td>\n",
       "      <td>89119</td>\n",
       "      <td>238.06</td>\n",
       "    </tr>\n",
       "    <tr>\n",
       "      <th>50</th>\n",
       "      <td>219</td>\n",
       "      <td>219</td>\n",
       "      <td>97099</td>\n",
       "      <td>238.30</td>\n",
       "    </tr>\n",
       "    <tr>\n",
       "      <th>51</th>\n",
       "      <td>219</td>\n",
       "      <td>219</td>\n",
       "      <td>109185</td>\n",
       "      <td>238.28</td>\n",
       "    </tr>\n",
       "    <tr>\n",
       "      <th>52</th>\n",
       "      <td>219</td>\n",
       "      <td>219</td>\n",
       "      <td>110813</td>\n",
       "      <td>233.87</td>\n",
       "    </tr>\n",
       "    <tr>\n",
       "      <th>53</th>\n",
       "      <td>219</td>\n",
       "      <td>219</td>\n",
       "      <td>116696</td>\n",
       "      <td>238.43</td>\n",
       "    </tr>\n",
       "    <tr>\n",
       "      <th>54</th>\n",
       "      <td>219</td>\n",
       "      <td>219</td>\n",
       "      <td>125069</td>\n",
       "      <td>236.91</td>\n",
       "    </tr>\n",
       "    <tr>\n",
       "      <th>55</th>\n",
       "      <td>219</td>\n",
       "      <td>219</td>\n",
       "      <td>127808</td>\n",
       "      <td>237.73</td>\n",
       "    </tr>\n",
       "    <tr>\n",
       "      <th>56</th>\n",
       "      <td>219</td>\n",
       "      <td>219</td>\n",
       "      <td>129278</td>\n",
       "      <td>238.38</td>\n",
       "    </tr>\n",
       "    <tr>\n",
       "      <th>57</th>\n",
       "      <td>219</td>\n",
       "      <td>219</td>\n",
       "      <td>134162</td>\n",
       "      <td>238.34</td>\n",
       "    </tr>\n",
       "    <tr>\n",
       "      <th>...</th>\n",
       "      <td>...</td>\n",
       "      <td>...</td>\n",
       "      <td>...</td>\n",
       "      <td>...</td>\n",
       "    </tr>\n",
       "    <tr>\n",
       "      <th>3224185</th>\n",
       "      <td>219</td>\n",
       "      <td>219</td>\n",
       "      <td>28398</td>\n",
       "      <td>1.84</td>\n",
       "    </tr>\n",
       "    <tr>\n",
       "      <th>3224186</th>\n",
       "      <td>219</td>\n",
       "      <td>219</td>\n",
       "      <td>28582</td>\n",
       "      <td>8.28</td>\n",
       "    </tr>\n",
       "    <tr>\n",
       "      <th>3224187</th>\n",
       "      <td>219</td>\n",
       "      <td>219</td>\n",
       "      <td>29194</td>\n",
       "      <td>1.71</td>\n",
       "    </tr>\n",
       "    <tr>\n",
       "      <th>3224188</th>\n",
       "      <td>219</td>\n",
       "      <td>219</td>\n",
       "      <td>31286</td>\n",
       "      <td>2.86</td>\n",
       "    </tr>\n",
       "    <tr>\n",
       "      <th>3224189</th>\n",
       "      <td>219</td>\n",
       "      <td>219</td>\n",
       "      <td>33692</td>\n",
       "      <td>8.16</td>\n",
       "    </tr>\n",
       "    <tr>\n",
       "      <th>3224190</th>\n",
       "      <td>219</td>\n",
       "      <td>219</td>\n",
       "      <td>40010</td>\n",
       "      <td>8.16</td>\n",
       "    </tr>\n",
       "    <tr>\n",
       "      <th>3224191</th>\n",
       "      <td>219</td>\n",
       "      <td>219</td>\n",
       "      <td>46958</td>\n",
       "      <td>4.79</td>\n",
       "    </tr>\n",
       "    <tr>\n",
       "      <th>3224192</th>\n",
       "      <td>219</td>\n",
       "      <td>219</td>\n",
       "      <td>59769</td>\n",
       "      <td>7.88</td>\n",
       "    </tr>\n",
       "    <tr>\n",
       "      <th>3224193</th>\n",
       "      <td>219</td>\n",
       "      <td>219</td>\n",
       "      <td>60883</td>\n",
       "      <td>14.22</td>\n",
       "    </tr>\n",
       "    <tr>\n",
       "      <th>3224194</th>\n",
       "      <td>219</td>\n",
       "      <td>219</td>\n",
       "      <td>70076</td>\n",
       "      <td>7.25</td>\n",
       "    </tr>\n",
       "    <tr>\n",
       "      <th>3224195</th>\n",
       "      <td>219</td>\n",
       "      <td>219</td>\n",
       "      <td>72928</td>\n",
       "      <td>1.99</td>\n",
       "    </tr>\n",
       "    <tr>\n",
       "      <th>3224196</th>\n",
       "      <td>219</td>\n",
       "      <td>219</td>\n",
       "      <td>77538</td>\n",
       "      <td>31.77</td>\n",
       "    </tr>\n",
       "    <tr>\n",
       "      <th>3224197</th>\n",
       "      <td>219</td>\n",
       "      <td>219</td>\n",
       "      <td>84496</td>\n",
       "      <td>2.00</td>\n",
       "    </tr>\n",
       "    <tr>\n",
       "      <th>3224198</th>\n",
       "      <td>219</td>\n",
       "      <td>219</td>\n",
       "      <td>86982</td>\n",
       "      <td>2.30</td>\n",
       "    </tr>\n",
       "    <tr>\n",
       "      <th>3224199</th>\n",
       "      <td>219</td>\n",
       "      <td>219</td>\n",
       "      <td>87416</td>\n",
       "      <td>2.01</td>\n",
       "    </tr>\n",
       "    <tr>\n",
       "      <th>3224200</th>\n",
       "      <td>219</td>\n",
       "      <td>219</td>\n",
       "      <td>90122</td>\n",
       "      <td>8.06</td>\n",
       "    </tr>\n",
       "    <tr>\n",
       "      <th>3224201</th>\n",
       "      <td>219</td>\n",
       "      <td>219</td>\n",
       "      <td>92306</td>\n",
       "      <td>14.39</td>\n",
       "    </tr>\n",
       "    <tr>\n",
       "      <th>3224202</th>\n",
       "      <td>219</td>\n",
       "      <td>219</td>\n",
       "      <td>93227</td>\n",
       "      <td>1.74</td>\n",
       "    </tr>\n",
       "    <tr>\n",
       "      <th>3224203</th>\n",
       "      <td>219</td>\n",
       "      <td>219</td>\n",
       "      <td>96078</td>\n",
       "      <td>1.86</td>\n",
       "    </tr>\n",
       "    <tr>\n",
       "      <th>3224204</th>\n",
       "      <td>219</td>\n",
       "      <td>219</td>\n",
       "      <td>97294</td>\n",
       "      <td>7.87</td>\n",
       "    </tr>\n",
       "    <tr>\n",
       "      <th>3224205</th>\n",
       "      <td>219</td>\n",
       "      <td>219</td>\n",
       "      <td>98816</td>\n",
       "      <td>8.22</td>\n",
       "    </tr>\n",
       "    <tr>\n",
       "      <th>3224206</th>\n",
       "      <td>219</td>\n",
       "      <td>219</td>\n",
       "      <td>111786</td>\n",
       "      <td>8.12</td>\n",
       "    </tr>\n",
       "    <tr>\n",
       "      <th>3224207</th>\n",
       "      <td>219</td>\n",
       "      <td>219</td>\n",
       "      <td>120653</td>\n",
       "      <td>8.13</td>\n",
       "    </tr>\n",
       "    <tr>\n",
       "      <th>3224208</th>\n",
       "      <td>219</td>\n",
       "      <td>219</td>\n",
       "      <td>127132</td>\n",
       "      <td>2.04</td>\n",
       "    </tr>\n",
       "    <tr>\n",
       "      <th>3224209</th>\n",
       "      <td>219</td>\n",
       "      <td>219</td>\n",
       "      <td>128858</td>\n",
       "      <td>8.22</td>\n",
       "    </tr>\n",
       "    <tr>\n",
       "      <th>3224210</th>\n",
       "      <td>219</td>\n",
       "      <td>219</td>\n",
       "      <td>136171</td>\n",
       "      <td>5.04</td>\n",
       "    </tr>\n",
       "    <tr>\n",
       "      <th>3224276</th>\n",
       "      <td>219</td>\n",
       "      <td>219</td>\n",
       "      <td>10107</td>\n",
       "      <td>2601.96</td>\n",
       "    </tr>\n",
       "    <tr>\n",
       "      <th>3224277</th>\n",
       "      <td>219</td>\n",
       "      <td>219</td>\n",
       "      <td>10763</td>\n",
       "      <td>2601.06</td>\n",
       "    </tr>\n",
       "    <tr>\n",
       "      <th>3224278</th>\n",
       "      <td>219</td>\n",
       "      <td>219</td>\n",
       "      <td>12135</td>\n",
       "      <td>2602.85</td>\n",
       "    </tr>\n",
       "    <tr>\n",
       "      <th>3224279</th>\n",
       "      <td>219</td>\n",
       "      <td>219</td>\n",
       "      <td>18601</td>\n",
       "      <td>2599.68</td>\n",
       "    </tr>\n",
       "  </tbody>\n",
       "</table>\n",
       "<p>1433580 rows × 4 columns</p>\n",
       "</div>"
      ],
      "text/plain": [
       "        visitor_location_country_id prop_country_id prop_id  \\\n",
       "28                              219             219    3625   \n",
       "29                              219             219   11622   \n",
       "30                              219             219   11826   \n",
       "31                              219             219   22824   \n",
       "32                              219             219   37581   \n",
       "33                              219             219   39993   \n",
       "34                              219             219   46162   \n",
       "35                              219             219   49152   \n",
       "36                              219             219   56063   \n",
       "37                              219             219   56472   \n",
       "38                              219             219   58696   \n",
       "39                              219             219   64344   \n",
       "40                              219             219   65984   \n",
       "41                              219             219   71258   \n",
       "42                              219             219   75491   \n",
       "43                              219             219   81172   \n",
       "44                              219             219   83045   \n",
       "45                              219             219   83430   \n",
       "46                              219             219   83806   \n",
       "47                              219             219   85567   \n",
       "48                              219             219   85742   \n",
       "49                              219             219   89119   \n",
       "50                              219             219   97099   \n",
       "51                              219             219  109185   \n",
       "52                              219             219  110813   \n",
       "53                              219             219  116696   \n",
       "54                              219             219  125069   \n",
       "55                              219             219  127808   \n",
       "56                              219             219  129278   \n",
       "57                              219             219  134162   \n",
       "...                             ...             ...     ...   \n",
       "3224185                         219             219   28398   \n",
       "3224186                         219             219   28582   \n",
       "3224187                         219             219   29194   \n",
       "3224188                         219             219   31286   \n",
       "3224189                         219             219   33692   \n",
       "3224190                         219             219   40010   \n",
       "3224191                         219             219   46958   \n",
       "3224192                         219             219   59769   \n",
       "3224193                         219             219   60883   \n",
       "3224194                         219             219   70076   \n",
       "3224195                         219             219   72928   \n",
       "3224196                         219             219   77538   \n",
       "3224197                         219             219   84496   \n",
       "3224198                         219             219   86982   \n",
       "3224199                         219             219   87416   \n",
       "3224200                         219             219   90122   \n",
       "3224201                         219             219   92306   \n",
       "3224202                         219             219   93227   \n",
       "3224203                         219             219   96078   \n",
       "3224204                         219             219   97294   \n",
       "3224205                         219             219   98816   \n",
       "3224206                         219             219  111786   \n",
       "3224207                         219             219  120653   \n",
       "3224208                         219             219  127132   \n",
       "3224209                         219             219  128858   \n",
       "3224210                         219             219  136171   \n",
       "3224276                         219             219   10107   \n",
       "3224277                         219             219   10763   \n",
       "3224278                         219             219   12135   \n",
       "3224279                         219             219   18601   \n",
       "\n",
       "         orig_destination_distance  \n",
       "28                          238.35  \n",
       "29                          238.34  \n",
       "30                          238.33  \n",
       "31                          238.29  \n",
       "32                          238.35  \n",
       "33                          237.94  \n",
       "34                          238.32  \n",
       "35                          238.30  \n",
       "36                          238.33  \n",
       "37                          238.54  \n",
       "38                          236.91  \n",
       "39                          238.40  \n",
       "40                          238.31  \n",
       "41                          236.59  \n",
       "42                          238.30  \n",
       "43                          234.51  \n",
       "44                          238.33  \n",
       "45                          238.40  \n",
       "46                          238.29  \n",
       "47                          236.00  \n",
       "48                          234.10  \n",
       "49                          238.06  \n",
       "50                          238.30  \n",
       "51                          238.28  \n",
       "52                          233.87  \n",
       "53                          238.43  \n",
       "54                          236.91  \n",
       "55                          237.73  \n",
       "56                          238.38  \n",
       "57                          238.34  \n",
       "...                            ...  \n",
       "3224185                       1.84  \n",
       "3224186                       8.28  \n",
       "3224187                       1.71  \n",
       "3224188                       2.86  \n",
       "3224189                       8.16  \n",
       "3224190                       8.16  \n",
       "3224191                       4.79  \n",
       "3224192                       7.88  \n",
       "3224193                      14.22  \n",
       "3224194                       7.25  \n",
       "3224195                       1.99  \n",
       "3224196                      31.77  \n",
       "3224197                       2.00  \n",
       "3224198                       2.30  \n",
       "3224199                       2.01  \n",
       "3224200                       8.06  \n",
       "3224201                      14.39  \n",
       "3224202                       1.74  \n",
       "3224203                       1.86  \n",
       "3224204                       7.87  \n",
       "3224205                       8.22  \n",
       "3224206                       8.12  \n",
       "3224207                       8.13  \n",
       "3224208                       2.04  \n",
       "3224209                       8.22  \n",
       "3224210                       5.04  \n",
       "3224276                    2601.96  \n",
       "3224277                    2601.06  \n",
       "3224278                    2602.85  \n",
       "3224279                    2599.68  \n",
       "\n",
       "[1433580 rows x 4 columns]"
      ]
     },
     "execution_count": 103,
     "metadata": {},
     "output_type": "execute_result"
    }
   ],
   "source": [
    "df[(~df.orig_destination_distance.isnull()) & (df.visitor_location_country_id == 219) & (df.prop_country_id == 219)][['visitor_location_country_id','prop_country_id','prop_id','orig_destination_distance']]"
   ]
  },
  {
   "cell_type": "code",
   "execution_count": 128,
   "metadata": {
    "collapsed": false
   },
   "outputs": [
    {
     "data": {
      "text/html": [
       "<div>\n",
       "<table border=\"1\" class=\"dataframe\">\n",
       "  <thead>\n",
       "    <tr style=\"text-align: right;\">\n",
       "      <th></th>\n",
       "      <th>srch_id</th>\n",
       "      <th>date_time</th>\n",
       "      <th>site_id</th>\n",
       "      <th>visitor_location_country_id</th>\n",
       "      <th>prop_country_id</th>\n",
       "      <th>prop_id</th>\n",
       "      <th>prop_starrating</th>\n",
       "      <th>prop_review_score</th>\n",
       "      <th>prop_brand_bool</th>\n",
       "      <th>prop_location_score1</th>\n",
       "      <th>...</th>\n",
       "      <th>srch_length_of_stay</th>\n",
       "      <th>srch_booking_window</th>\n",
       "      <th>srch_adults_count</th>\n",
       "      <th>srch_children_count</th>\n",
       "      <th>srch_room_count</th>\n",
       "      <th>srch_saturday_night_bool</th>\n",
       "      <th>orig_destination_distance</th>\n",
       "      <th>random_bool</th>\n",
       "      <th>click_bool</th>\n",
       "      <th>booking_bool</th>\n",
       "    </tr>\n",
       "  </thead>\n",
       "  <tbody>\n",
       "    <tr>\n",
       "      <th>0</th>\n",
       "      <td>1</td>\n",
       "      <td>2013-04-04 08:32:15</td>\n",
       "      <td>12</td>\n",
       "      <td>187</td>\n",
       "      <td>219</td>\n",
       "      <td>893</td>\n",
       "      <td>3</td>\n",
       "      <td>3.5</td>\n",
       "      <td>1</td>\n",
       "      <td>2.83</td>\n",
       "      <td>...</td>\n",
       "      <td>1.0</td>\n",
       "      <td>0.0</td>\n",
       "      <td>4.0</td>\n",
       "      <td>0.0</td>\n",
       "      <td>1.0</td>\n",
       "      <td>1</td>\n",
       "      <td>NaN</td>\n",
       "      <td>1</td>\n",
       "      <td>0</td>\n",
       "      <td>0</td>\n",
       "    </tr>\n",
       "    <tr>\n",
       "      <th>1</th>\n",
       "      <td>1</td>\n",
       "      <td>2013-04-04 08:32:15</td>\n",
       "      <td>12</td>\n",
       "      <td>187</td>\n",
       "      <td>219</td>\n",
       "      <td>10404</td>\n",
       "      <td>4</td>\n",
       "      <td>4.0</td>\n",
       "      <td>1</td>\n",
       "      <td>2.20</td>\n",
       "      <td>...</td>\n",
       "      <td>1.0</td>\n",
       "      <td>0.0</td>\n",
       "      <td>4.0</td>\n",
       "      <td>0.0</td>\n",
       "      <td>1.0</td>\n",
       "      <td>1</td>\n",
       "      <td>NaN</td>\n",
       "      <td>1</td>\n",
       "      <td>0</td>\n",
       "      <td>0</td>\n",
       "    </tr>\n",
       "    <tr>\n",
       "      <th>2</th>\n",
       "      <td>1</td>\n",
       "      <td>2013-04-04 08:32:15</td>\n",
       "      <td>12</td>\n",
       "      <td>187</td>\n",
       "      <td>219</td>\n",
       "      <td>21315</td>\n",
       "      <td>3</td>\n",
       "      <td>4.5</td>\n",
       "      <td>1</td>\n",
       "      <td>2.20</td>\n",
       "      <td>...</td>\n",
       "      <td>1.0</td>\n",
       "      <td>0.0</td>\n",
       "      <td>4.0</td>\n",
       "      <td>0.0</td>\n",
       "      <td>1.0</td>\n",
       "      <td>1</td>\n",
       "      <td>NaN</td>\n",
       "      <td>1</td>\n",
       "      <td>0</td>\n",
       "      <td>0</td>\n",
       "    </tr>\n",
       "    <tr>\n",
       "      <th>3</th>\n",
       "      <td>1</td>\n",
       "      <td>2013-04-04 08:32:15</td>\n",
       "      <td>12</td>\n",
       "      <td>187</td>\n",
       "      <td>219</td>\n",
       "      <td>27348</td>\n",
       "      <td>2</td>\n",
       "      <td>4.0</td>\n",
       "      <td>1</td>\n",
       "      <td>2.83</td>\n",
       "      <td>...</td>\n",
       "      <td>1.0</td>\n",
       "      <td>0.0</td>\n",
       "      <td>4.0</td>\n",
       "      <td>0.0</td>\n",
       "      <td>1.0</td>\n",
       "      <td>1</td>\n",
       "      <td>NaN</td>\n",
       "      <td>1</td>\n",
       "      <td>0</td>\n",
       "      <td>0</td>\n",
       "    </tr>\n",
       "    <tr>\n",
       "      <th>4</th>\n",
       "      <td>1</td>\n",
       "      <td>2013-04-04 08:32:15</td>\n",
       "      <td>12</td>\n",
       "      <td>187</td>\n",
       "      <td>219</td>\n",
       "      <td>29604</td>\n",
       "      <td>4</td>\n",
       "      <td>3.5</td>\n",
       "      <td>1</td>\n",
       "      <td>2.64</td>\n",
       "      <td>...</td>\n",
       "      <td>1.0</td>\n",
       "      <td>0.0</td>\n",
       "      <td>4.0</td>\n",
       "      <td>0.0</td>\n",
       "      <td>1.0</td>\n",
       "      <td>1</td>\n",
       "      <td>NaN</td>\n",
       "      <td>1</td>\n",
       "      <td>0</td>\n",
       "      <td>0</td>\n",
       "    </tr>\n",
       "  </tbody>\n",
       "</table>\n",
       "<p>5 rows × 26 columns</p>\n",
       "</div>"
      ],
      "text/plain": [
       "  srch_id            date_time site_id visitor_location_country_id  \\\n",
       "0       1  2013-04-04 08:32:15      12                         187   \n",
       "1       1  2013-04-04 08:32:15      12                         187   \n",
       "2       1  2013-04-04 08:32:15      12                         187   \n",
       "3       1  2013-04-04 08:32:15      12                         187   \n",
       "4       1  2013-04-04 08:32:15      12                         187   \n",
       "\n",
       "  prop_country_id prop_id prop_starrating  prop_review_score prop_brand_bool  \\\n",
       "0             219     893               3                3.5               1   \n",
       "1             219   10404               4                4.0               1   \n",
       "2             219   21315               3                4.5               1   \n",
       "3             219   27348               2                4.0               1   \n",
       "4             219   29604               4                3.5               1   \n",
       "\n",
       "   prop_location_score1      ...       srch_length_of_stay  \\\n",
       "0                  2.83      ...                       1.0   \n",
       "1                  2.20      ...                       1.0   \n",
       "2                  2.20      ...                       1.0   \n",
       "3                  2.83      ...                       1.0   \n",
       "4                  2.64      ...                       1.0   \n",
       "\n",
       "   srch_booking_window  srch_adults_count  srch_children_count  \\\n",
       "0                  0.0                4.0                  0.0   \n",
       "1                  0.0                4.0                  0.0   \n",
       "2                  0.0                4.0                  0.0   \n",
       "3                  0.0                4.0                  0.0   \n",
       "4                  0.0                4.0                  0.0   \n",
       "\n",
       "  srch_room_count srch_saturday_night_bool  orig_destination_distance  \\\n",
       "0             1.0                        1                        NaN   \n",
       "1             1.0                        1                        NaN   \n",
       "2             1.0                        1                        NaN   \n",
       "3             1.0                        1                        NaN   \n",
       "4             1.0                        1                        NaN   \n",
       "\n",
       "   random_bool  click_bool  booking_bool  \n",
       "0            1           0             0  \n",
       "1            1           0             0  \n",
       "2            1           0             0  \n",
       "3            1           0             0  \n",
       "4            1           0             0  \n",
       "\n",
       "[5 rows x 26 columns]"
      ]
     },
     "execution_count": 128,
     "metadata": {},
     "output_type": "execute_result"
    }
   ],
   "source": [
    "df.mean_dist = df.groupby(['visitor_location_country_id','prop_country_id'])['orig_destination_distance'].mean()\n",
    "df.head()"
   ]
  },
  {
   "cell_type": "code",
   "execution_count": 134,
   "metadata": {
    "collapsed": false
   },
   "outputs": [
    {
     "data": {
      "text/plain": [
       "741"
      ]
     },
     "execution_count": 134,
     "metadata": {},
     "output_type": "execute_result"
    }
   ],
   "source": [
    "len(df.mean_dist.value_counts())\n",
    "# Only 741 entries are there for which the mean distance can be imputed, So we cant use this imputing technique"
   ]
  },
  {
   "cell_type": "code",
   "execution_count": 135,
   "metadata": {
    "collapsed": false
   },
   "outputs": [
    {
     "data": {
      "text/plain": [
       "279"
      ]
     },
     "execution_count": 135,
     "metadata": {},
     "output_type": "execute_result"
    }
   ],
   "source": [
    "df.orig_destination_distance.fillna(df.groupby(['prop_country_id'])['orig_destination_distance'].transform('mean'),inplace=True)\n",
    "df.orig_destination_distance.isnull().sum()"
   ]
  },
  {
   "cell_type": "code",
   "execution_count": 136,
   "metadata": {
    "collapsed": false
   },
   "outputs": [
    {
     "data": {
      "text/plain": [
       "srch_id                          0\n",
       "date_time                        0\n",
       "site_id                          0\n",
       "visitor_location_country_id      0\n",
       "prop_country_id                  0\n",
       "prop_id                          0\n",
       "prop_starrating                  1\n",
       "prop_review_score                0\n",
       "prop_brand_bool                  1\n",
       "prop_location_score1             1\n",
       "prop_location_score2             1\n",
       "prop_log_historical_price        1\n",
       "position                         1\n",
       "price_usd                        1\n",
       "promotion_flag                   1\n",
       "srch_destination_id              1\n",
       "srch_length_of_stay              1\n",
       "srch_booking_window              1\n",
       "srch_adults_count                1\n",
       "srch_children_count              1\n",
       "srch_room_count                  1\n",
       "srch_saturday_night_bool         1\n",
       "orig_destination_distance      279\n",
       "random_bool                      1\n",
       "click_bool                       1\n",
       "booking_bool                     1\n",
       "dtype: int64"
      ]
     },
     "execution_count": 136,
     "metadata": {},
     "output_type": "execute_result"
    }
   ],
   "source": [
    "df.isnull().sum()"
   ]
  },
  {
   "cell_type": "markdown",
   "metadata": {},
   "source": [
    "### 1.2 Dropping Missing Values now"
   ]
  },
  {
   "cell_type": "code",
   "execution_count": 137,
   "metadata": {
    "collapsed": false
   },
   "outputs": [
    {
     "data": {
      "text/plain": [
       "(3224001, 26)"
      ]
     },
     "execution_count": 137,
     "metadata": {},
     "output_type": "execute_result"
    }
   ],
   "source": [
    "df.dropna(how='any',inplace=True)\n",
    "df.shape"
   ]
  },
  {
   "cell_type": "code",
   "execution_count": 138,
   "metadata": {
    "collapsed": false
   },
   "outputs": [
    {
     "data": {
      "text/plain": [
       "srch_id                        0\n",
       "date_time                      0\n",
       "site_id                        0\n",
       "visitor_location_country_id    0\n",
       "prop_country_id                0\n",
       "prop_id                        0\n",
       "prop_starrating                0\n",
       "prop_review_score              0\n",
       "prop_brand_bool                0\n",
       "prop_location_score1           0\n",
       "prop_location_score2           0\n",
       "prop_log_historical_price      0\n",
       "position                       0\n",
       "price_usd                      0\n",
       "promotion_flag                 0\n",
       "srch_destination_id            0\n",
       "srch_length_of_stay            0\n",
       "srch_booking_window            0\n",
       "srch_adults_count              0\n",
       "srch_children_count            0\n",
       "srch_room_count                0\n",
       "srch_saturday_night_bool       0\n",
       "orig_destination_distance      0\n",
       "random_bool                    0\n",
       "click_bool                     0\n",
       "booking_bool                   0\n",
       "dtype: int64"
      ]
     },
     "execution_count": 138,
     "metadata": {},
     "output_type": "execute_result"
    }
   ],
   "source": [
    "df.isnull().sum()"
   ]
  },
  {
   "cell_type": "markdown",
   "metadata": {},
   "source": [
    "### 1.3 Checking Distribution of the columns and Binning ones with very large number of levels"
   ]
  },
  {
   "cell_type": "markdown",
   "metadata": {},
   "source": [
    "#### 1.3.1 srch_id"
   ]
  },
  {
   "cell_type": "code",
   "execution_count": 141,
   "metadata": {
    "collapsed": false
   },
   "outputs": [
    {
     "data": {
      "text/plain": [
       "129834"
      ]
     },
     "execution_count": 141,
     "metadata": {},
     "output_type": "execute_result"
    }
   ],
   "source": [
    "len(df.srch_id.unique())"
   ]
  },
  {
   "cell_type": "markdown",
   "metadata": {},
   "source": [
    "This implies we have search results of 129834 users"
   ]
  },
  {
   "cell_type": "markdown",
   "metadata": {},
   "source": [
    "#### 1.3.2 site_id"
   ]
  },
  {
   "cell_type": "code",
   "execution_count": 143,
   "metadata": {
    "collapsed": false,
    "scrolled": true
   },
   "outputs": [
    {
     "data": {
      "text/plain": [
       "5     2011102\n",
       "14     311490\n",
       "15     203306\n",
       "24     154584\n",
       "32     116299\n",
       "18      82379\n",
       "16      56831\n",
       "12      47351\n",
       "9       27547\n",
       "19      27140\n",
       "22      25992\n",
       "11      23322\n",
       "7       20902\n",
       "29      18443\n",
       "31      15691\n",
       "26      10282\n",
       "4        8882\n",
       "25       8114\n",
       "23       7554\n",
       "1        7108\n",
       "34       6110\n",
       "10       5783\n",
       "13       5313\n",
       "17       3828\n",
       "2        3423\n",
       "27       3025\n",
       "28       2827\n",
       "21       2437\n",
       "30       2419\n",
       "3        2284\n",
       "6        1724\n",
       "33        345\n",
       "20        133\n",
       "8          31\n",
       "Name: site_id, dtype: int64"
      ]
     },
     "execution_count": 143,
     "metadata": {},
     "output_type": "execute_result"
    }
   ],
   "source": [
    "df.site_id.value_counts()"
   ]
  },
  {
   "cell_type": "markdown",
   "metadata": {},
   "source": [
    "We can see that there are site ids 5,14,15,24,32 are the most popular. To reduce the number of levels of this categorical column we will bin this column. "
   ]
  },
  {
   "cell_type": "code",
   "execution_count": 185,
   "metadata": {
    "collapsed": false
   },
   "outputs": [],
   "source": [
    "popular_sites = [5,14,15,24,32,18,16,12]\n",
    "df['site_id_binned'] = [x if x in popular_sites else 99 for x in df['site_id']]"
   ]
  },
  {
   "cell_type": "code",
   "execution_count": 189,
   "metadata": {
    "collapsed": false
   },
   "outputs": [
    {
     "data": {
      "text/plain": [
       "5     2011102\n",
       "14     311490\n",
       "99     240659\n",
       "15     203306\n",
       "24     154584\n",
       "32     116299\n",
       "18      82379\n",
       "16      56831\n",
       "12      47351\n",
       "Name: site_id_binned, dtype: int64"
      ]
     },
     "execution_count": 189,
     "metadata": {},
     "output_type": "execute_result"
    }
   ],
   "source": [
    "df['site_id_binned'].value_counts()"
   ]
  },
  {
   "cell_type": "code",
   "execution_count": 192,
   "metadata": {
    "collapsed": false
   },
   "outputs": [
    {
     "data": {
      "text/plain": [
       "Text(0.5, 1.0, 'Popularity of Sites')"
      ]
     },
     "execution_count": 192,
     "metadata": {},
     "output_type": "execute_result"
    },
    {
     "data": {
      "image/png": "[encoded data removed]",
      "text/plain": [
       "<Figure size 432x288 with 1 Axes>"
      ]
     },
     "metadata": {},
     "output_type": "display_data"
    }
   ],
   "source": [
    "sns.countplot(df.site_id_binned)\n",
    "plt.xlabel('Site Id')\n",
    "plt.ylabel('Count')\n",
    "plt.title('Popularity of Sites')"
   ]
  },
  {
   "cell_type": "markdown",
   "metadata": {},
   "source": [
    "#### 1.3.3 visitor_location_country_id"
   ]
  },
  {
   "cell_type": "code",
   "execution_count": 195,
   "metadata": {
    "collapsed": true
   },
   "outputs": [
    {
     "name": "stdout",
     "output_type": "stream",
     "text": [
      "Number of unique visitor Locations : 202\n"
     ]
    },
    {
     "data": {
      "text/plain": [
       "219    1884112\n",
       "100     320373\n",
       "55      190293\n",
       "216     141583\n",
       "220     114436\n",
       "129      80038\n",
       "31       58514\n",
       "99       43045\n",
       "59       40278\n",
       "92       29095\n",
       "158      28399\n",
       "103      23821\n",
       "132      20548\n",
       "117      17318\n",
       "50       12613\n",
       "39       11722\n",
       "215      10692\n",
       "181       8052\n",
       "13        7897\n",
       "98        7819\n",
       "15        7691\n",
       "32        7639\n",
       "205       6565\n",
       "81        6398\n",
       "33        6073\n",
       "56        6018\n",
       "4         5870\n",
       "23        5798\n",
       "212       5419\n",
       "14        5331\n",
       "        ...   \n",
       "180         45\n",
       "62          41\n",
       "20          40\n",
       "183         39\n",
       "201         38\n",
       "222         36\n",
       "191         36\n",
       "228         33\n",
       "118         33\n",
       "210         33\n",
       "94          32\n",
       "170         31\n",
       "27          31\n",
       "54          31\n",
       "34          31\n",
       "217         31\n",
       "64          31\n",
       "58          30\n",
       "198         30\n",
       "193         29\n",
       "101         28\n",
       "209         27\n",
       "66          27\n",
       "172         27\n",
       "52          25\n",
       "136         17\n",
       "190         16\n",
       "146         15\n",
       "83          13\n",
       "208         12\n",
       "Name: visitor_location_country_id, dtype: int64"
      ]
     },
     "execution_count": 195,
     "metadata": {},
     "output_type": "execute_result"
    }
   ],
   "source": [
    "print(\"Number of unique visitor Locations :\",len(df.visitor_location_country_id.value_counts()))\n",
    "df.visitor_location_country_id.value_counts()"
   ]
  },
  {
   "cell_type": "code",
   "execution_count": 196,
   "metadata": {
    "collapsed": false,
    "scrolled": false
   },
   "outputs": [
    {
     "data": {
      "text/plain": [
       "219     1884112\n",
       "9999     351329\n",
       "100      320373\n",
       "55       190293\n",
       "216      141583\n",
       "220      114436\n",
       "129       80038\n",
       "31        58514\n",
       "99        43045\n",
       "59        40278\n",
       "Name: visitor_location_country_id_binned, dtype: int64"
      ]
     },
     "execution_count": 196,
     "metadata": {},
     "output_type": "execute_result"
    }
   ],
   "source": [
    "# Binning visitor Locations\n",
    "popular_visitor_countries = [219,100,55,216,220,129,31,99,59]\n",
    "df['visitor_location_country_id_binned'] = [x if x in popular_visitor_countries else 9999 for x in df['visitor_location_country_id']]\n",
    "df['visitor_location_country_id_binned'].value_counts()"
   ]
  },
  {
   "cell_type": "markdown",
   "metadata": {},
   "source": [
    "#### 1.3.4 prop_country_id"
   ]
  },
  {
   "cell_type": "code",
   "execution_count": 197,
   "metadata": {
    "collapsed": false,
    "scrolled": true
   },
   "outputs": [
    {
     "data": {
      "text/plain": [
       "219    1973622\n",
       "100     199928\n",
       "55      121931\n",
       "31       98445\n",
       "99       87067\n",
       "129      59552\n",
       "215      52175\n",
       "220      45983\n",
       "59       45923\n",
       "216      40309\n",
       "98       34886\n",
       "158      27125\n",
       "117      20496\n",
       "132      18997\n",
       "205      18821\n",
       "39       18593\n",
       "92       17646\n",
       "103      16296\n",
       "15       15499\n",
       "81       12841\n",
       "32       12785\n",
       "14       12397\n",
       "202      12342\n",
       "4        12276\n",
       "109      11460\n",
       "73       11150\n",
       "41       10388\n",
       "56       10280\n",
       "80        9702\n",
       "225       9228\n",
       "        ...   \n",
       "124         94\n",
       "179         94\n",
       "112         73\n",
       "143         73\n",
       "83          72\n",
       "171         67\n",
       "44          59\n",
       "120         50\n",
       "136         45\n",
       "20          43\n",
       "192         41\n",
       "1           37\n",
       "172         37\n",
       "197         33\n",
       "82          29\n",
       "25          25\n",
       "167         25\n",
       "185         21\n",
       "141         21\n",
       "19          17\n",
       "226         16\n",
       "128         15\n",
       "217         14\n",
       "87          13\n",
       "111         13\n",
       "180         12\n",
       "208         12\n",
       "7           10\n",
       "204          5\n",
       "140          5\n",
       "Name: prop_country_id, dtype: int64"
      ]
     },
     "execution_count": 197,
     "metadata": {},
     "output_type": "execute_result"
    }
   ],
   "source": [
    "df.prop_country_id.value_counts()"
   ]
  },
  {
   "cell_type": "code",
   "execution_count": 198,
   "metadata": {
    "collapsed": false
   },
   "outputs": [
    {
     "data": {
      "text/plain": [
       "219     1973622\n",
       "9999     499066\n",
       "100      199928\n",
       "55       121931\n",
       "31        98445\n",
       "99        87067\n",
       "129       59552\n",
       "215       52175\n",
       "220       45983\n",
       "59        45923\n",
       "216       40309\n",
       "Name: prop_country_id_binned, dtype: int64"
      ]
     },
     "execution_count": 198,
     "metadata": {},
     "output_type": "execute_result"
    }
   ],
   "source": [
    "popular_prop_countries = [219,100,55,31,99,129,215,220,59,216]\n",
    "df['prop_country_id_binned'] = [x if x in popular_prop_countries else 9999 for x in df['prop_country_id']]\n",
    "df['prop_country_id_binned'].value_counts()"
   ]
  },
  {
   "cell_type": "markdown",
   "metadata": {},
   "source": [
    "#### 1.3.5 prop_id - Try another approach "
   ]
  },
  {
   "cell_type": "code",
   "execution_count": 200,
   "metadata": {
    "collapsed": false,
    "scrolled": true
   },
   "outputs": [
    {
     "name": "stdout",
     "output_type": "stream",
     "text": [
      "Number of unique property_id or Hotels are :  122685\n"
     ]
    }
   ],
   "source": [
    "print(\"Number of unique property_id or Hotels are : \",len(df.prop_id.value_counts()))"
   ]
  },
  {
   "cell_type": "code",
   "execution_count": 217,
   "metadata": {
    "collapsed": false
   },
   "outputs": [],
   "source": [
    "property_id_dict = {}\n",
    "property_id_dict = df.prop_id.value_counts()"
   ]
  },
  {
   "cell_type": "code",
   "execution_count": 226,
   "metadata": {
    "collapsed": true
   },
   "outputs": [],
   "source": [
    "#df['prop_id_binned'] = [a.key]\n",
    "popular_properties = [key for key,value in property_id_dict.items() if value > 700]"
   ]
  },
  {
   "cell_type": "code",
   "execution_count": 228,
   "metadata": {
    "collapsed": false,
    "scrolled": true
   },
   "outputs": [
    {
     "data": {
      "text/plain": [
       "999999    3155251\n",
       "124342       1556\n",
       "104517       1551\n",
       "68420        1491\n",
       "40279        1489\n",
       "137997       1472\n",
       "134154       1472\n",
       "59781        1463\n",
       "49656        1459\n",
       "60846        1456\n",
       "77089        1451\n",
       "116942       1440\n",
       "59657        1434\n",
       "24545        1430\n",
       "35223        1423\n",
       "60468        1423\n",
       "38419        1421\n",
       "21018        1419\n",
       "37818        1411\n",
       "77795        1404\n",
       "70177        1387\n",
       "14082        1382\n",
       "122112       1377\n",
       "46274        1376\n",
       "94455        1376\n",
       "78500        1357\n",
       "90845        1332\n",
       "114932       1307\n",
       "131892       1303\n",
       "117294       1291\n",
       "           ...   \n",
       "26248        1185\n",
       "90809        1165\n",
       "61529        1149\n",
       "53494        1137\n",
       "1230         1057\n",
       "126657       1053\n",
       "77914        1039\n",
       "7880         1018\n",
       "3213         1010\n",
       "90730         901\n",
       "15994         874\n",
       "69261         869\n",
       "41278         850\n",
       "41712         839\n",
       "135499        818\n",
       "23268         808\n",
       "105408        804\n",
       "13674         791\n",
       "138600        780\n",
       "79740         776\n",
       "17633         774\n",
       "8864          766\n",
       "34151         758\n",
       "44923         751\n",
       "23212         736\n",
       "134323        731\n",
       "15390         731\n",
       "69184         727\n",
       "41400         715\n",
       "4503          702\n",
       "Name: prop_id_binned, dtype: int64"
      ]
     },
     "execution_count": 228,
     "metadata": {},
     "output_type": "execute_result"
    }
   ],
   "source": [
    "df['prop_id_binned'] = [x if x in popular_properties else 999999 for x in df['prop_id']]\n",
    "df['prop_id_binned'].value_counts()"
   ]
  },
  {
   "cell_type": "markdown",
   "metadata": {},
   "source": [
    "#### 1.3.6 srch_destination_id  "
   ]
  },
  {
   "cell_type": "code",
   "execution_count": 229,
   "metadata": {
    "collapsed": false,
    "scrolled": true
   },
   "outputs": [
    {
     "data": {
      "text/plain": [
       "8192.0     45592\n",
       "4562.0     36767\n",
       "9402.0     26986\n",
       "8347.0     21647\n",
       "10979.0    21256\n",
       "13292.0    20957\n",
       "13870.0    18925\n",
       "18774.0    17751\n",
       "23904.0    16802\n",
       "24700.0    15817\n",
       "13216.0    15578\n",
       "20319.0    14787\n",
       "5143.0     14724\n",
       "15307.0    14087\n",
       "3073.0     13703\n",
       "6948.0     13155\n",
       "21871.0    13030\n",
       "26067.0    12624\n",
       "15122.0    12590\n",
       "17713.0    12036\n",
       "25426.0    10863\n",
       "3694.0     10734\n",
       "25479.0    10700\n",
       "23090.0    10427\n",
       "23605.0    10173\n",
       "2303.0     10141\n",
       "15620.0     9732\n",
       "7714.0      9705\n",
       "13539.0     9577\n",
       "24731.0     8872\n",
       "           ...  \n",
       "21886.0        5\n",
       "16641.0        5\n",
       "14739.0        5\n",
       "5678.0         5\n",
       "2028.0         5\n",
       "11386.0        5\n",
       "20346.0        5\n",
       "7068.0         5\n",
       "20380.0        5\n",
       "22295.0        5\n",
       "20381.0        5\n",
       "27443.0        5\n",
       "22287.0        5\n",
       "9687.0         5\n",
       "7899.0         5\n",
       "2037.0         5\n",
       "2021.0         5\n",
       "6421.0         5\n",
       "22266.0        5\n",
       "25174.0        5\n",
       "27390.0        5\n",
       "18771.0        5\n",
       "22247.0        5\n",
       "22220.0        5\n",
       "11473.0        5\n",
       "686.0          5\n",
       "5943.0         5\n",
       "27364.0        5\n",
       "27357.0        5\n",
       "5817.0         5\n",
       "Name: srch_destination_id, dtype: int64"
      ]
     },
     "execution_count": 229,
     "metadata": {},
     "output_type": "execute_result"
    }
   ],
   "source": [
    "df.srch_destination_id.value_counts()"
   ]
  },
  {
   "cell_type": "code",
   "execution_count": 231,
   "metadata": {
    "collapsed": true
   },
   "outputs": [],
   "source": [
    "srch_dest_dict = {}\n",
    "srch_dest_dict = df.srch_destination_id.value_counts()\n",
    "popular_search_dest = [key for key,value in srch_dest_dict.items() if value > 5000]"
   ]
  },
  {
   "cell_type": "code",
   "execution_count": 232,
   "metadata": {
    "collapsed": false,
    "scrolled": true
   },
   "outputs": [
    {
     "data": {
      "text/plain": [
       "999999.0    2418764\n",
       "8192.0        45592\n",
       "4562.0        36767\n",
       "9402.0        26986\n",
       "8347.0        21647\n",
       "10979.0       21256\n",
       "13292.0       20957\n",
       "13870.0       18925\n",
       "18774.0       17751\n",
       "23904.0       16802\n",
       "24700.0       15817\n",
       "13216.0       15578\n",
       "20319.0       14787\n",
       "5143.0        14724\n",
       "15307.0       14087\n",
       "3073.0        13703\n",
       "6948.0        13155\n",
       "21871.0       13030\n",
       "26067.0       12624\n",
       "15122.0       12590\n",
       "17713.0       12036\n",
       "25426.0       10863\n",
       "3694.0        10734\n",
       "25479.0       10700\n",
       "23090.0       10427\n",
       "23605.0       10173\n",
       "2303.0        10141\n",
       "15620.0        9732\n",
       "7714.0         9705\n",
       "13539.0        9577\n",
       "             ...   \n",
       "19215.0        6843\n",
       "27730.0        6604\n",
       "25556.0        6504\n",
       "5872.0         6355\n",
       "8660.0         6340\n",
       "19898.0        6301\n",
       "1986.0         6241\n",
       "2142.0         6140\n",
       "2518.0         6135\n",
       "7384.0         6000\n",
       "4075.0         5983\n",
       "15438.0        5928\n",
       "9899.0         5908\n",
       "4748.0         5893\n",
       "9358.0         5795\n",
       "18495.0        5733\n",
       "16076.0        5696\n",
       "9412.0         5690\n",
       "11308.0        5644\n",
       "25964.0        5360\n",
       "21382.0        5348\n",
       "26392.0        5311\n",
       "16570.0        5240\n",
       "27620.0        5219\n",
       "44.0           5189\n",
       "15764.0        5180\n",
       "16858.0        5161\n",
       "28150.0        5102\n",
       "4072.0         5080\n",
       "10424.0        5074\n",
       "Name: srch_destination_id_binned, dtype: int64"
      ]
     },
     "execution_count": 232,
     "metadata": {},
     "output_type": "execute_result"
    }
   ],
   "source": [
    "df['srch_destination_id_binned'] = [x if x in popular_search_dest else 999999 for x in df['srch_destination_id']]\n",
    "df['srch_destination_id_binned'].value_counts()"
   ]
  },
  {
   "cell_type": "code",
   "execution_count": 235,
   "metadata": {
    "collapsed": false
   },
   "outputs": [
    {
     "name": "stdout",
     "output_type": "stream",
     "text": [
      "Number of search destinations after binning : 81\n"
     ]
    }
   ],
   "source": [
    "print(\"Number of search destinations after binning :\", len(df['srch_destination_id_binned'].value_counts()))"
   ]
  },
  {
   "cell_type": "markdown",
   "metadata": {},
   "source": [
    "#### 1.3.7 srch_length_of_stay"
   ]
  },
  {
   "cell_type": "code",
   "execution_count": 236,
   "metadata": {
    "collapsed": false,
    "scrolled": true
   },
   "outputs": [
    {
     "data": {
      "text/plain": [
       "1.0     1391929\n",
       "2.0      784963\n",
       "3.0      465034\n",
       "4.0      242319\n",
       "5.0      121107\n",
       "7.0       75558\n",
       "6.0       66692\n",
       "8.0       22280\n",
       "9.0       12609\n",
       "10.0      11637\n",
       "14.0       8602\n",
       "11.0       5614\n",
       "12.0       4199\n",
       "13.0       3161\n",
       "15.0       1872\n",
       "16.0        938\n",
       "17.0        905\n",
       "21.0        864\n",
       "19.0        646\n",
       "18.0        622\n",
       "28.0        466\n",
       "20.0        433\n",
       "25.0        296\n",
       "24.0        272\n",
       "27.0        257\n",
       "26.0        251\n",
       "22.0        233\n",
       "23.0        113\n",
       "33.0         32\n",
       "34.0         32\n",
       "44.0         22\n",
       "30.0         20\n",
       "41.0         10\n",
       "57.0          7\n",
       "29.0          6\n",
       "Name: srch_length_of_stay, dtype: int64"
      ]
     },
     "execution_count": 236,
     "metadata": {},
     "output_type": "execute_result"
    }
   ],
   "source": [
    "df.srch_length_of_stay.value_counts()"
   ]
  },
  {
   "cell_type": "code",
   "execution_count": 237,
   "metadata": {
    "collapsed": false
   },
   "outputs": [
    {
     "data": {
      "text/plain": [
       "1.0     1391929\n",
       "2.0      784963\n",
       "3.0      465034\n",
       "4.0      242319\n",
       "5.0      121107\n",
       "7.0       75558\n",
       "6.0       66692\n",
       "8.0       22280\n",
       "9.0       12609\n",
       "10.0      11637\n",
       "14.0       8602\n",
       "15.0       8297\n",
       "11.0       5614\n",
       "12.0       4199\n",
       "13.0       3161\n",
       "Name: srch_lenth_of_stay_bin, dtype: int64"
      ]
     },
     "execution_count": 237,
     "metadata": {},
     "output_type": "execute_result"
    }
   ],
   "source": [
    "#we are capping search length of stay above 15 to 15\n",
    "df['srch_lenth_of_stay_bin'] = [15 if x > 15 else x for x in df['srch_length_of_stay']]\n",
    "df['srch_lenth_of_stay_bin'].value_counts()"
   ]
  },
  {
   "cell_type": "markdown",
   "metadata": {},
   "source": [
    "#### 1.3.8 srch_booking_window\n",
    "* Number of days in the future the hotel stay started from the search date"
   ]
  },
  {
   "cell_type": "code",
   "execution_count": 238,
   "metadata": {
    "collapsed": false,
    "scrolled": true
   },
   "outputs": [
    {
     "data": {
      "text/plain": [
       "1.0      244200\n",
       "0.0      180289\n",
       "2.0      159374\n",
       "3.0      133094\n",
       "4.0      119307\n",
       "5.0       99590\n",
       "6.0       90160\n",
       "7.0       79770\n",
       "8.0       72630\n",
       "9.0       66282\n",
       "10.0      62468\n",
       "11.0      60020\n",
       "12.0      51588\n",
       "13.0      49119\n",
       "14.0      47572\n",
       "15.0      45607\n",
       "17.0      43775\n",
       "16.0      43121\n",
       "18.0      39881\n",
       "19.0      38288\n",
       "20.0      36579\n",
       "21.0      36205\n",
       "24.0      33827\n",
       "22.0      32325\n",
       "23.0      31765\n",
       "25.0      31485\n",
       "26.0      30068\n",
       "27.0      29554\n",
       "28.0      28226\n",
       "29.0      27212\n",
       "          ...  \n",
       "394.0        29\n",
       "438.0        27\n",
       "339.0        27\n",
       "354.0        24\n",
       "336.0        23\n",
       "376.0        21\n",
       "414.0        21\n",
       "369.0        20\n",
       "396.0        18\n",
       "435.0        17\n",
       "440.0        15\n",
       "467.0        14\n",
       "477.0        12\n",
       "342.0        11\n",
       "415.0        11\n",
       "441.0        11\n",
       "402.0        10\n",
       "480.0        10\n",
       "391.0         9\n",
       "492.0         8\n",
       "381.0         8\n",
       "448.0         7\n",
       "472.0         7\n",
       "433.0         5\n",
       "463.0         5\n",
       "421.0         5\n",
       "419.0         5\n",
       "382.0         5\n",
       "478.0         5\n",
       "401.0         5\n",
       "Name: srch_booking_window, dtype: int64"
      ]
     },
     "execution_count": 238,
     "metadata": {},
     "output_type": "execute_result"
    }
   ],
   "source": [
    "df.srch_booking_window.value_counts()"
   ]
  },
  {
   "cell_type": "code",
   "execution_count": 239,
   "metadata": {
    "collapsed": false
   },
   "outputs": [
    {
     "name": "stdout",
     "output_type": "stream",
     "text": [
      "63.0\n",
      "66.0\n",
      "64.0\n",
      "73.0\n",
      "67.0\n",
      "69.0\n",
      "74.0\n",
      "70.0\n",
      "72.0\n",
      "68.0\n",
      "71.0\n",
      "81.0\n",
      "78.0\n",
      "77.0\n",
      "75.0\n",
      "80.0\n",
      "88.0\n",
      "76.0\n",
      "86.0\n",
      "82.0\n",
      "84.0\n",
      "79.0\n",
      "83.0\n",
      "85.0\n",
      "90.0\n",
      "95.0\n",
      "87.0\n",
      "89.0\n",
      "91.0\n",
      "94.0\n",
      "93.0\n",
      "96.0\n",
      "92.0\n",
      "98.0\n",
      "100.0\n",
      "105.0\n",
      "99.0\n",
      "101.0\n",
      "102.0\n",
      "103.0\n",
      "97.0\n",
      "106.0\n",
      "113.0\n",
      "110.0\n",
      "108.0\n",
      "104.0\n",
      "115.0\n",
      "109.0\n",
      "112.0\n",
      "117.0\n",
      "121.0\n",
      "111.0\n",
      "107.0\n",
      "123.0\n",
      "114.0\n",
      "122.0\n",
      "118.0\n",
      "127.0\n",
      "116.0\n",
      "136.0\n",
      "128.0\n",
      "119.0\n",
      "120.0\n",
      "130.0\n",
      "125.0\n",
      "124.0\n",
      "129.0\n",
      "132.0\n",
      "133.0\n",
      "139.0\n",
      "135.0\n",
      "146.0\n",
      "134.0\n",
      "131.0\n",
      "126.0\n",
      "143.0\n",
      "145.0\n",
      "137.0\n",
      "157.0\n",
      "154.0\n",
      "144.0\n",
      "150.0\n",
      "138.0\n",
      "140.0\n",
      "149.0\n",
      "163.0\n",
      "153.0\n",
      "148.0\n",
      "161.0\n",
      "156.0\n",
      "141.0\n",
      "142.0\n",
      "160.0\n",
      "152.0\n",
      "151.0\n",
      "158.0\n",
      "165.0\n",
      "181.0\n",
      "168.0\n",
      "162.0\n",
      "164.0\n",
      "177.0\n",
      "170.0\n",
      "184.0\n",
      "166.0\n",
      "147.0\n",
      "155.0\n",
      "159.0\n",
      "178.0\n",
      "180.0\n",
      "175.0\n",
      "176.0\n",
      "192.0\n",
      "173.0\n",
      "188.0\n",
      "167.0\n",
      "179.0\n",
      "195.0\n",
      "183.0\n",
      "185.0\n",
      "169.0\n",
      "186.0\n",
      "190.0\n",
      "191.0\n",
      "200.0\n",
      "187.0\n",
      "199.0\n",
      "172.0\n",
      "182.0\n",
      "201.0\n",
      "174.0\n",
      "193.0\n",
      "171.0\n",
      "204.0\n",
      "205.0\n",
      "194.0\n",
      "189.0\n",
      "210.0\n",
      "202.0\n",
      "212.0\n",
      "227.0\n",
      "206.0\n",
      "222.0\n",
      "197.0\n",
      "226.0\n",
      "214.0\n",
      "196.0\n",
      "207.0\n",
      "218.0\n",
      "198.0\n",
      "213.0\n",
      "217.0\n",
      "203.0\n",
      "211.0\n",
      "224.0\n",
      "233.0\n",
      "215.0\n",
      "232.0\n",
      "223.0\n",
      "208.0\n",
      "221.0\n",
      "246.0\n",
      "228.0\n",
      "230.0\n",
      "234.0\n",
      "216.0\n",
      "220.0\n",
      "241.0\n",
      "209.0\n",
      "240.0\n",
      "235.0\n",
      "219.0\n",
      "225.0\n",
      "237.0\n",
      "257.0\n",
      "236.0\n",
      "238.0\n",
      "239.0\n",
      "251.0\n",
      "255.0\n",
      "247.0\n",
      "270.0\n",
      "269.0\n",
      "231.0\n",
      "252.0\n",
      "261.0\n",
      "272.0\n",
      "249.0\n",
      "245.0\n",
      "268.0\n",
      "254.0\n",
      "244.0\n",
      "288.0\n",
      "229.0\n",
      "250.0\n",
      "264.0\n",
      "262.0\n",
      "273.0\n",
      "265.0\n",
      "258.0\n",
      "259.0\n",
      "274.0\n",
      "271.0\n",
      "253.0\n",
      "282.0\n",
      "267.0\n",
      "277.0\n",
      "260.0\n",
      "305.0\n",
      "306.0\n",
      "307.0\n",
      "284.0\n",
      "248.0\n",
      "242.0\n",
      "279.0\n",
      "243.0\n",
      "266.0\n",
      "300.0\n",
      "291.0\n",
      "304.0\n",
      "314.0\n",
      "298.0\n",
      "290.0\n",
      "317.0\n",
      "316.0\n",
      "275.0\n",
      "256.0\n",
      "294.0\n",
      "276.0\n",
      "321.0\n",
      "311.0\n",
      "285.0\n",
      "308.0\n",
      "329.0\n",
      "299.0\n",
      "297.0\n",
      "280.0\n",
      "263.0\n",
      "301.0\n",
      "281.0\n",
      "303.0\n",
      "278.0\n",
      "312.0\n",
      "322.0\n",
      "302.0\n",
      "310.0\n",
      "325.0\n",
      "296.0\n",
      "286.0\n",
      "320.0\n",
      "323.0\n",
      "315.0\n",
      "287.0\n",
      "293.0\n",
      "289.0\n",
      "324.0\n",
      "295.0\n",
      "313.0\n",
      "345.0\n",
      "283.0\n",
      "365.0\n",
      "327.0\n",
      "362.0\n",
      "292.0\n",
      "309.0\n",
      "337.0\n",
      "335.0\n",
      "340.0\n",
      "352.0\n",
      "326.0\n",
      "332.0\n",
      "355.0\n",
      "348.0\n",
      "359.0\n",
      "330.0\n",
      "383.0\n",
      "351.0\n",
      "353.0\n",
      "358.0\n",
      "360.0\n",
      "361.0\n",
      "319.0\n",
      "328.0\n",
      "333.0\n",
      "341.0\n",
      "331.0\n",
      "371.0\n",
      "350.0\n",
      "347.0\n",
      "349.0\n",
      "318.0\n",
      "343.0\n",
      "364.0\n",
      "356.0\n",
      "363.0\n",
      "334.0\n",
      "344.0\n",
      "357.0\n",
      "338.0\n",
      "368.0\n",
      "379.0\n",
      "367.0\n",
      "413.0\n",
      "388.0\n",
      "399.0\n",
      "370.0\n",
      "373.0\n",
      "366.0\n",
      "384.0\n",
      "406.0\n",
      "488.0\n",
      "420.0\n",
      "374.0\n",
      "428.0\n",
      "475.0\n",
      "385.0\n",
      "394.0\n",
      "438.0\n",
      "339.0\n",
      "354.0\n",
      "336.0\n",
      "376.0\n",
      "414.0\n",
      "369.0\n",
      "396.0\n",
      "435.0\n",
      "440.0\n",
      "467.0\n",
      "477.0\n",
      "342.0\n",
      "415.0\n",
      "441.0\n",
      "402.0\n",
      "480.0\n",
      "391.0\n",
      "492.0\n",
      "381.0\n",
      "448.0\n",
      "472.0\n",
      "433.0\n",
      "463.0\n",
      "421.0\n",
      "419.0\n",
      "382.0\n",
      "478.0\n",
      "401.0\n"
     ]
    }
   ],
   "source": [
    "srch_booking_window_dict = {}\n",
    "srch_booking_window_dict = df.srch_booking_window.value_counts()\n",
    "for key,value in srch_booking_window_dict.items():\n",
    "    if value <= 10000:\n",
    "        print(key)"
   ]
  },
  {
   "cell_type": "code",
   "execution_count": 242,
   "metadata": {
    "collapsed": true
   },
   "outputs": [],
   "source": [
    "popular_srch_booking_window = [key for key,value in srch_booking_window_dict.items() if value > 10000]"
   ]
  },
  {
   "cell_type": "markdown",
   "metadata": {},
   "source": [
    "No need to bin this column as this a numerical column\n",
    "#df['srch_booking_window_bin'] = [x if x in popular_srch_booking_window else 63 for x in df['srch_booking_window']]\n",
    "#df['srch_booking_window_binned'].value_counts()"
   ]
  },
  {
   "cell_type": "code",
   "execution_count": 243,
   "metadata": {
    "collapsed": false
   },
   "outputs": [
    {
     "name": "stdout",
     "output_type": "stream",
     "text": [
      "<class 'pandas.core.frame.DataFrame'>\n",
      "Int64Index: 3224001 entries, 0 to 3224279\n",
      "Data columns (total 32 columns):\n",
      "srch_id                               object\n",
      "date_time                             object\n",
      "site_id                               object\n",
      "visitor_location_country_id           object\n",
      "prop_country_id                       object\n",
      "prop_id                               object\n",
      "prop_starrating                       object\n",
      "prop_review_score                     float64\n",
      "prop_brand_bool                       object\n",
      "prop_location_score1                  float64\n",
      "prop_location_score2                  float64\n",
      "prop_log_historical_price             float64\n",
      "position                              float64\n",
      "price_usd                             float64\n",
      "promotion_flag                        object\n",
      "srch_destination_id                   object\n",
      "srch_length_of_stay                   float64\n",
      "srch_booking_window                   float64\n",
      "srch_adults_count                     float64\n",
      "srch_children_count                   float64\n",
      "srch_room_count                       float64\n",
      "srch_saturday_night_bool              object\n",
      "orig_destination_distance             float64\n",
      "random_bool                           object\n",
      "click_bool                            object\n",
      "booking_bool                          object\n",
      "site_id_binned                        int64\n",
      "visitor_location_country_id_binned    int64\n",
      "prop_country_id_binned                int64\n",
      "prop_id_binned                        int64\n",
      "srch_destination_id_binned            float64\n",
      "srch_lenth_of_stay_bin                float64\n",
      "dtypes: float64(14), int64(4), object(14)\n",
      "memory usage: 811.7+ MB\n"
     ]
    }
   ],
   "source": [
    "df.info()"
   ]
  },
  {
   "cell_type": "code",
   "execution_count": null,
   "metadata": {
    "collapsed": true
   },
   "outputs": [],
   "source": []
  },
  {
   "cell_type": "markdown",
   "metadata": {},
   "source": [
    "#### 1.3.9 srch_adults_count"
   ]
  },
  {
   "cell_type": "code",
   "execution_count": 246,
   "metadata": {
    "collapsed": false
   },
   "outputs": [
    {
     "data": {
      "text/plain": [
       "2.0    2111120\n",
       "1.0     753868\n",
       "4.0     157194\n",
       "3.0     155191\n",
       "6.0      18867\n",
       "5.0      17313\n",
       "8.0       6522\n",
       "7.0       3117\n",
       "9.0        809\n",
       "Name: srch_adults_count, dtype: int64"
      ]
     },
     "execution_count": 246,
     "metadata": {},
     "output_type": "execute_result"
    }
   ],
   "source": [
    "df.srch_adults_count.value_counts()"
   ]
  },
  {
   "cell_type": "markdown",
   "metadata": {},
   "source": [
    "#### 1.3.10 srch_children_count"
   ]
  },
  {
   "cell_type": "code",
   "execution_count": 247,
   "metadata": {
    "collapsed": false
   },
   "outputs": [
    {
     "data": {
      "text/plain": [
       "0.0    2475650\n",
       "1.0     443888\n",
       "2.0     249264\n",
       "3.0      39163\n",
       "4.0      12167\n",
       "5.0       2191\n",
       "6.0       1141\n",
       "8.0        293\n",
       "7.0        231\n",
       "9.0         13\n",
       "Name: srch_children_count, dtype: int64"
      ]
     },
     "execution_count": 247,
     "metadata": {},
     "output_type": "execute_result"
    }
   ],
   "source": [
    "df.srch_children_count.value_counts()"
   ]
  },
  {
   "cell_type": "markdown",
   "metadata": {},
   "source": [
    "#### 1.3.11 srch_room_count"
   ]
  },
  {
   "cell_type": "code",
   "execution_count": 248,
   "metadata": {
    "collapsed": false
   },
   "outputs": [
    {
     "data": {
      "text/plain": [
       "1.0    2941217\n",
       "2.0     239750\n",
       "3.0      29773\n",
       "4.0       7617\n",
       "5.0       2443\n",
       "6.0       1260\n",
       "8.0       1247\n",
       "7.0        694\n",
       "Name: srch_room_count, dtype: int64"
      ]
     },
     "execution_count": 248,
     "metadata": {},
     "output_type": "execute_result"
    }
   ],
   "source": [
    "df.srch_room_count.value_counts()"
   ]
  },
  {
   "cell_type": "markdown",
   "metadata": {},
   "source": [
    "#### We can see the above 3 columns are highly skewed , but there is nothing we can do about it so we will leave it. "
   ]
  },
  {
   "cell_type": "code",
   "execution_count": null,
   "metadata": {
    "collapsed": true
   },
   "outputs": [],
   "source": []
  },
  {
   "cell_type": "markdown",
   "metadata": {},
   "source": [
    "## 2. Feature Engineering"
   ]
  },
  {
   "cell_type": "markdown",
   "metadata": {},
   "source": [
    "### 2.1 Splitting date_time"
   ]
  },
  {
   "cell_type": "code",
   "execution_count": 249,
   "metadata": {
    "collapsed": true
   },
   "outputs": [],
   "source": [
    "new = df[\"date_time\"].str.split(\" \", n = 1, expand = True)  \n",
    "df[\"Date\"]= new[0]  \n",
    "df[\"Time\"]= new[1] "
   ]
  },
  {
   "cell_type": "code",
   "execution_count": 257,
   "metadata": {
    "collapsed": false
   },
   "outputs": [
    {
     "data": {
      "text/html": [
       "<div>\n",
       "<table border=\"1\" class=\"dataframe\">\n",
       "  <thead>\n",
       "    <tr style=\"text-align: right;\">\n",
       "      <th></th>\n",
       "      <th>0</th>\n",
       "      <th>1</th>\n",
       "    </tr>\n",
       "  </thead>\n",
       "  <tbody>\n",
       "    <tr>\n",
       "      <th>0</th>\n",
       "      <td>2013-04-04</td>\n",
       "      <td>08:32:15</td>\n",
       "    </tr>\n",
       "    <tr>\n",
       "      <th>1</th>\n",
       "      <td>2013-04-04</td>\n",
       "      <td>08:32:15</td>\n",
       "    </tr>\n",
       "    <tr>\n",
       "      <th>2</th>\n",
       "      <td>2013-04-04</td>\n",
       "      <td>08:32:15</td>\n",
       "    </tr>\n",
       "    <tr>\n",
       "      <th>3</th>\n",
       "      <td>2013-04-04</td>\n",
       "      <td>08:32:15</td>\n",
       "    </tr>\n",
       "    <tr>\n",
       "      <th>4</th>\n",
       "      <td>2013-04-04</td>\n",
       "      <td>08:32:15</td>\n",
       "    </tr>\n",
       "    <tr>\n",
       "      <th>5</th>\n",
       "      <td>2013-04-04</td>\n",
       "      <td>08:32:15</td>\n",
       "    </tr>\n",
       "  </tbody>\n",
       "</table>\n",
       "</div>"
      ],
      "text/plain": [
       "            0         1\n",
       "0  2013-04-04  08:32:15\n",
       "1  2013-04-04  08:32:15\n",
       "2  2013-04-04  08:32:15\n",
       "3  2013-04-04  08:32:15\n",
       "4  2013-04-04  08:32:15\n",
       "5  2013-04-04  08:32:15"
      ]
     },
     "execution_count": 257,
     "metadata": {},
     "output_type": "execute_result"
    }
   ],
   "source": [
    "new.loc[0:5,:] #note new is a dataframe"
   ]
  },
  {
   "cell_type": "code",
   "execution_count": null,
   "metadata": {
    "collapsed": true
   },
   "outputs": [],
   "source": []
  },
  {
   "cell_type": "markdown",
   "metadata": {},
   "source": [
    "### 2.2 Splitting Date into Month , Day , Year"
   ]
  },
  {
   "cell_type": "code",
   "execution_count": 258,
   "metadata": {
    "collapsed": true
   },
   "outputs": [],
   "source": [
    "new = df[\"Date\"].str.split(\"-\", n = 2, expand = True)\n",
    "df[\"Year\"]= new[0] \n",
    "df[\"Month\"]= new[1] \n",
    "df[\"Day\"]= new[2] "
   ]
  },
  {
   "cell_type": "code",
   "execution_count": null,
   "metadata": {
    "collapsed": true
   },
   "outputs": [],
   "source": []
  },
  {
   "cell_type": "markdown",
   "metadata": {},
   "source": [
    "### 2.3 Converting Review Score into Bins"
   ]
  },
  {
   "cell_type": "code",
   "execution_count": 259,
   "metadata": {
    "collapsed": true
   },
   "outputs": [],
   "source": [
    "bins=[0,2.5,3.5,4,5]\n",
    "names = ['Average','Good','Very Good','Excellent']\n",
    "\n",
    "df['prop_review_score_bin']=pd.cut(df['prop_review_score'],bins,labels=names)"
   ]
  },
  {
   "cell_type": "code",
   "execution_count": null,
   "metadata": {
    "collapsed": true
   },
   "outputs": [],
   "source": []
  },
  {
   "cell_type": "markdown",
   "metadata": {},
   "source": [
    "### 2.4 Creating column children occupancy"
   ]
  },
  {
   "cell_type": "code",
   "execution_count": 260,
   "metadata": {
    "collapsed": true
   },
   "outputs": [],
   "source": [
    "df['children_occupancy']=['Yes' if x >0 else 'No' for x in df['srch_children_count']]"
   ]
  },
  {
   "cell_type": "code",
   "execution_count": null,
   "metadata": {
    "collapsed": true
   },
   "outputs": [],
   "source": []
  },
  {
   "cell_type": "markdown",
   "metadata": {},
   "source": [
    "### 2.5 Desirability of the Hotel Location"
   ]
  },
  {
   "cell_type": "code",
   "execution_count": 262,
   "metadata": {
    "collapsed": false
   },
   "outputs": [],
   "source": [
    "df['Desirability']=['Not_Desriable' if x>0 and x<3 else \"Desirable\" if x>3 and x<5 else \"Very_Desirable\" for x in df['prop_location_score1']]"
   ]
  },
  {
   "cell_type": "code",
   "execution_count": null,
   "metadata": {
    "collapsed": true
   },
   "outputs": [],
   "source": []
  },
  {
   "cell_type": "markdown",
   "metadata": {},
   "source": [
    "### 2.6 Binning Search Time"
   ]
  },
  {
   "cell_type": "code",
   "execution_count": 269,
   "metadata": {
    "collapsed": false
   },
   "outputs": [
    {
     "data": {
      "text/plain": [
       "3224275    10:35:40\n",
       "3224276    13:10:20\n",
       "3224277    13:10:20\n",
       "3224278    13:10:20\n",
       "3224279    13:10:20\n",
       "Name: Time, dtype: object"
      ]
     },
     "execution_count": 269,
     "metadata": {},
     "output_type": "execute_result"
    }
   ],
   "source": [
    "df.Time.tail() #we can see time is in 24 hour format"
   ]
  },
  {
   "cell_type": "code",
   "execution_count": null,
   "metadata": {
    "collapsed": false
   },
   "outputs": [],
   "source": [
    "time_spl = df.Time.str.split(\":\",n=2,expand=True)\n",
    "df['Hour'] = time_spl[0]"
   ]
  },
  {
   "cell_type": "code",
   "execution_count": null,
   "metadata": {
    "collapsed": true
   },
   "outputs": [],
   "source": [
    "df['Hour'] = df['Hour'].astype(int)"
   ]
  },
  {
   "cell_type": "code",
   "execution_count": null,
   "metadata": {
    "collapsed": false
   },
   "outputs": [],
   "source": [
    "df.to_csv(\"df.csv\",index=False)"
   ]
  },
  {
   "cell_type": "markdown",
   "metadata": {},
   "source": [
    "#### Note:\n",
    "\n",
    "* It is also important to check the skewness of columns of independent variables , for numeric columns you could probably remove outliers or do binnning. For categorical columns you could try binning as well but here columns like brand_bool cant be binned so we have no option but to leave it as it is. "
   ]
  },
  {
   "cell_type": "code",
   "execution_count": null,
   "metadata": {
    "collapsed": true
   },
   "outputs": [],
   "source": []
  },
  {
   "cell_type": "markdown",
   "metadata": {},
   "source": [
    "## 3. Exploratory Data Analysis"
   ]
  },
  {
   "cell_type": "code",
   "execution_count": 3,
   "metadata": {
    "collapsed": false
   },
   "outputs": [
    {
     "name": "stdout",
     "output_type": "stream",
     "text": [
      "(3224001, 41)\n"
     ]
    }
   ],
   "source": [
    "import pandas as pd\n",
    "import numpy as np\n",
    "df = pd.read_csv(\"df.csv\")\n",
    "print(df.shape)"
   ]
  },
  {
   "cell_type": "markdown",
   "metadata": {},
   "source": [
    "### 3.1 Effect of Property Branding on Clicking"
   ]
  },
  {
   "cell_type": "code",
   "execution_count": 5,
   "metadata": {
    "collapsed": false
   },
   "outputs": [
    {
     "data": {
      "text/plain": [
       "<matplotlib.axes._subplots.AxesSubplot at 0x1b206551a90>"
      ]
     },
     "execution_count": 5,
     "metadata": {},
     "output_type": "execute_result"
    },
    {
     "data": {
      "image/png": "[encoded data removed]",
      "text/plain": [
       "<Figure size 432x288 with 1 Axes>"
      ]
     },
     "metadata": {},
     "output_type": "display_data"
    }
   ],
   "source": [
    "import matplotlib.pyplot as plt\n",
    "%matplotlib inline\n",
    "import seaborn as sns\n",
    "\n",
    "sns.countplot(df.prop_brand_bool,hue=df.click_bool)"
   ]
  },
  {
   "cell_type": "code",
   "execution_count": 6,
   "metadata": {
    "collapsed": false
   },
   "outputs": [
    {
     "data": {
      "text/plain": [
       "<matplotlib.axes._subplots.AxesSubplot at 0x1b207ecf550>"
      ]
     },
     "execution_count": 6,
     "metadata": {},
     "output_type": "execute_result"
    },
    {
     "data": {
      "image/png": "[encoded data removed]",
      "text/plain": [
       "<Figure size 432x288 with 1 Axes>"
      ]
     },
     "metadata": {},
     "output_type": "display_data"
    }
   ],
   "source": [
    "sns.countplot(df.prop_brand_bool)\n",
    "#This is a skewed column but being binary there is nothing we can really do about it. \n",
    "#this info doesnt help us much in any analysis. "
   ]
  },
  {
   "cell_type": "markdown",
   "metadata": {},
   "source": [
    "### 3.2 Hotels by Country Id"
   ]
  },
  {
   "cell_type": "code",
   "execution_count": 7,
   "metadata": {
    "collapsed": false
   },
   "outputs": [
    {
     "data": {
      "image/png": "[encoded data removed]",
      "text/plain": [
       "<Figure size 864x360 with 1 Axes>"
      ]
     },
     "metadata": {},
     "output_type": "display_data"
    }
   ],
   "source": [
    "plt.figure(figsize=(12,5))\n",
    "plt.hist(df.prop_country_id_binned, bins=100,facecolor='blue')\n",
    "plt.xlabel('country id')\n",
    "plt.ylabel('count')\n",
    "plt.title('Hotels by Country')\n",
    "plt.show()"
   ]
  },
  {
   "cell_type": "code",
   "execution_count": 8,
   "metadata": {
    "collapsed": false,
    "scrolled": true
   },
   "outputs": [
    {
     "data": {
      "text/plain": [
       "219    1973622\n",
       "100     199928\n",
       "55      121931\n",
       "31       98445\n",
       "99       87067\n",
       "129      59552\n",
       "215      52175\n",
       "220      45983\n",
       "59       45923\n",
       "216      40309\n",
       "98       34886\n",
       "158      27125\n",
       "117      20496\n",
       "132      18997\n",
       "205      18821\n",
       "39       18593\n",
       "92       17646\n",
       "103      16296\n",
       "15       15499\n",
       "81       12841\n",
       "32       12785\n",
       "14       12397\n",
       "202      12342\n",
       "4        12276\n",
       "109      11460\n",
       "73       11150\n",
       "41       10388\n",
       "56       10280\n",
       "80        9702\n",
       "225       9228\n",
       "        ...   \n",
       "124         94\n",
       "179         94\n",
       "112         73\n",
       "143         73\n",
       "83          72\n",
       "171         67\n",
       "44          59\n",
       "120         50\n",
       "136         45\n",
       "20          43\n",
       "192         41\n",
       "1           37\n",
       "172         37\n",
       "197         33\n",
       "82          29\n",
       "25          25\n",
       "167         25\n",
       "185         21\n",
       "141         21\n",
       "19          17\n",
       "226         16\n",
       "128         15\n",
       "217         14\n",
       "87          13\n",
       "111         13\n",
       "180         12\n",
       "208         12\n",
       "7           10\n",
       "204          5\n",
       "140          5\n",
       "Name: prop_country_id, Length: 159, dtype: int64"
      ]
     },
     "execution_count": 8,
     "metadata": {},
     "output_type": "execute_result"
    }
   ],
   "source": [
    "df.prop_country_id.value_counts()"
   ]
  },
  {
   "cell_type": "code",
   "execution_count": 9,
   "metadata": {
    "collapsed": false
   },
   "outputs": [
    {
     "data": {
      "text/plain": [
       "prop_country_id\n",
       "219    1973622\n",
       "100     199928\n",
       "55      121931\n",
       "31       98445\n",
       "99       87067\n",
       "dtype: int64"
      ]
     },
     "execution_count": 9,
     "metadata": {},
     "output_type": "execute_result"
    }
   ],
   "source": [
    "df.groupby('prop_country_id').size().nlargest(5)"
   ]
  },
  {
   "cell_type": "markdown",
   "metadata": {},
   "source": [
    "#### From which country do we have most of our visitors."
   ]
  },
  {
   "cell_type": "code",
   "execution_count": 12,
   "metadata": {
    "collapsed": false
   },
   "outputs": [
    {
     "data": {
      "image/png": "[encoded data removed]",
      "text/plain": [
       "<Figure size 864x360 with 1 Axes>"
      ]
     },
     "metadata": {},
     "output_type": "display_data"
    }
   ],
   "source": [
    "plt.figure(figsize=(12,5))\n",
    "plt.hist(df.visitor_location_country_id_binned, 100, density = 1, facecolor='blue', alpha=0.75)\n",
    "plt.xlabel('Visitor location country Id')\n",
    "plt.title('Histogram of visitor_location_country_id')\n",
    "plt.show()"
   ]
  },
  {
   "cell_type": "code",
   "execution_count": 13,
   "metadata": {
    "collapsed": false
   },
   "outputs": [
    {
     "data": {
      "text/plain": [
       "visitor_location_country_id\n",
       "219    1884112\n",
       "100     320373\n",
       "55      190293\n",
       "216     141583\n",
       "220     114436\n",
       "dtype: int64"
      ]
     },
     "execution_count": 13,
     "metadata": {},
     "output_type": "execute_result"
    }
   ],
   "source": [
    "df.groupby('visitor_location_country_id').size().nlargest(5)"
   ]
  },
  {
   "cell_type": "raw",
   "metadata": {},
   "source": [
    "The data is anonymized, so determining the exact country or city to which a consumer plans to travel to is not possible. However, it is evident that the largest country (labeled 219) is the United States. \n",
    "We can reduce the complexity of the problem by only considering country location ids 219 ie of the US in model building. "
   ]
  },
  {
   "cell_type": "markdown",
   "metadata": {},
   "source": [
    "####  Count Plot of Click Vs Non Click data"
   ]
  },
  {
   "cell_type": "code",
   "execution_count": 14,
   "metadata": {
    "collapsed": false
   },
   "outputs": [
    {
     "data": {
      "image/png": "[encoded data removed]",
      "text/plain": [
       "<Figure size 432x288 with 1 Axes>"
      ]
     },
     "metadata": {},
     "output_type": "display_data"
    }
   ],
   "source": [
    "sns.countplot(x='click_bool',data=df, palette='hls')\n",
    "plt.show()"
   ]
  },
  {
   "cell_type": "raw",
   "metadata": {},
   "source": [
    "We can see this is a highly imbalanced data. Hence we will have to apply techniques like under or over sampling to balance it."
   ]
  },
  {
   "cell_type": "markdown",
   "metadata": {},
   "source": [
    "### 3.3 Property Rating of Hotels "
   ]
  },
  {
   "cell_type": "code",
   "execution_count": 15,
   "metadata": {
    "collapsed": false
   },
   "outputs": [
    {
     "data": {
      "image/png": "[encoded data removed]",
      "text/plain": [
       "<Figure size 864x360 with 1 Axes>"
      ]
     },
     "metadata": {},
     "output_type": "display_data"
    }
   ],
   "source": [
    "plt.figure(figsize=(12,5))\n",
    "sns.countplot(df.click_bool,hue=df.prop_review_score_bin)\n",
    "plt.xlabel('Property Review Score')\n",
    "plt.title('Countplot of prop_review_score_bin for click vs non click data')\n",
    "plt.show()"
   ]
  },
  {
   "cell_type": "markdown",
   "metadata": {},
   "source": [
    "### 3.4 Children occupancy"
   ]
  },
  {
   "cell_type": "code",
   "execution_count": 16,
   "metadata": {
    "collapsed": false
   },
   "outputs": [
    {
     "data": {
      "image/png": "[encoded data removed]",
      "text/plain": [
       "<Figure size 432x288 with 1 Axes>"
      ]
     },
     "metadata": {},
     "output_type": "display_data"
    }
   ],
   "source": [
    "sns.countplot(df.children_occupancy,hue=df.click_bool)\n",
    "plt.xlabel('Children Occupancy')\n",
    "plt.title('Histogram of prop_review_score_bin')\n",
    "plt.show()"
   ]
  },
  {
   "cell_type": "markdown",
   "metadata": {},
   "source": [
    "We can see that mostly people who book hotels are not looking for children occupancy. "
   ]
  },
  {
   "cell_type": "markdown",
   "metadata": {},
   "source": [
    "### 3.5 Effect of Price USD on Click Data and Non click data"
   ]
  },
  {
   "cell_type": "code",
   "execution_count": 17,
   "metadata": {
    "collapsed": false
   },
   "outputs": [
    {
     "data": {
      "text/plain": [
       "(0, 200)"
      ]
     },
     "execution_count": 17,
     "metadata": {},
     "output_type": "execute_result"
    },
    {
     "data": {
      "image/png": "[encoded data removed]",
      "text/plain": [
       "<Figure size 432x288 with 1 Axes>"
      ]
     },
     "metadata": {},
     "output_type": "display_data"
    }
   ],
   "source": [
    "sns.set(style=\"ticks\", palette=\"pastel\")\n",
    "ax = sns.boxplot(x=\"click_bool\", y=\"price_usd\", hue=\"click_bool\", data=df)\n",
    "ax.set_ylim([0, 200])"
   ]
  },
  {
   "cell_type": "markdown",
   "metadata": {},
   "source": [
    "### 3.6  Most Searched places by users"
   ]
  },
  {
   "cell_type": "code",
   "execution_count": 18,
   "metadata": {
    "collapsed": false
   },
   "outputs": [
    {
     "data": {
      "text/html": [
       "<div>\n",
       "<style scoped>\n",
       "    .dataframe tbody tr th:only-of-type {\n",
       "        vertical-align: middle;\n",
       "    }\n",
       "\n",
       "    .dataframe tbody tr th {\n",
       "        vertical-align: top;\n",
       "    }\n",
       "\n",
       "    .dataframe thead th {\n",
       "        text-align: right;\n",
       "    }\n",
       "</style>\n",
       "<table border=\"1\" class=\"dataframe\">\n",
       "  <thead>\n",
       "    <tr style=\"text-align: right;\">\n",
       "      <th></th>\n",
       "      <th>Number_of_Searches</th>\n",
       "      <th>Search_destination_id</th>\n",
       "    </tr>\n",
       "  </thead>\n",
       "  <tbody>\n",
       "    <tr>\n",
       "      <th>0</th>\n",
       "      <td>45592</td>\n",
       "      <td>8192.0</td>\n",
       "    </tr>\n",
       "    <tr>\n",
       "      <th>1</th>\n",
       "      <td>36767</td>\n",
       "      <td>4562.0</td>\n",
       "    </tr>\n",
       "    <tr>\n",
       "      <th>2</th>\n",
       "      <td>26986</td>\n",
       "      <td>9402.0</td>\n",
       "    </tr>\n",
       "    <tr>\n",
       "      <th>3</th>\n",
       "      <td>21647</td>\n",
       "      <td>8347.0</td>\n",
       "    </tr>\n",
       "    <tr>\n",
       "      <th>4</th>\n",
       "      <td>21256</td>\n",
       "      <td>10979.0</td>\n",
       "    </tr>\n",
       "    <tr>\n",
       "      <th>5</th>\n",
       "      <td>20957</td>\n",
       "      <td>13292.0</td>\n",
       "    </tr>\n",
       "    <tr>\n",
       "      <th>6</th>\n",
       "      <td>18925</td>\n",
       "      <td>13870.0</td>\n",
       "    </tr>\n",
       "    <tr>\n",
       "      <th>7</th>\n",
       "      <td>17751</td>\n",
       "      <td>18774.0</td>\n",
       "    </tr>\n",
       "    <tr>\n",
       "      <th>8</th>\n",
       "      <td>16802</td>\n",
       "      <td>23904.0</td>\n",
       "    </tr>\n",
       "    <tr>\n",
       "      <th>9</th>\n",
       "      <td>15817</td>\n",
       "      <td>24700.0</td>\n",
       "    </tr>\n",
       "  </tbody>\n",
       "</table>\n",
       "</div>"
      ],
      "text/plain": [
       "   Number_of_Searches  Search_destination_id\n",
       "0               45592                 8192.0\n",
       "1               36767                 4562.0\n",
       "2               26986                 9402.0\n",
       "3               21647                 8347.0\n",
       "4               21256                10979.0\n",
       "5               20957                13292.0\n",
       "6               18925                13870.0\n",
       "7               17751                18774.0\n",
       "8               16802                23904.0\n",
       "9               15817                24700.0"
      ]
     },
     "execution_count": 18,
     "metadata": {},
     "output_type": "execute_result"
    }
   ],
   "source": [
    "search_data = df.srch_destination_id.value_counts().head(10)\n",
    "dfs = pd.DataFrame({'Search_destination_id':search_data.index,'Number_of_Searches':search_data.values})\n",
    "dfs"
   ]
  },
  {
   "cell_type": "code",
   "execution_count": 19,
   "metadata": {
    "collapsed": false
   },
   "outputs": [
    {
     "data": {
      "text/plain": [
       "<matplotlib.axes._subplots.AxesSubplot at 0x1b2081b4d68>"
      ]
     },
     "execution_count": 19,
     "metadata": {},
     "output_type": "execute_result"
    },
    {
     "data": {
      "image/png": "[encoded data removed]",
      "text/plain": [
       "<Figure size 432x288 with 1 Axes>"
      ]
     },
     "metadata": {},
     "output_type": "display_data"
    }
   ],
   "source": [
    "sns.countplot(df.srch_adults_count)"
   ]
  },
  {
   "cell_type": "markdown",
   "metadata": {},
   "source": [
    "#### Inference\n",
    "There is a high ratio of couples in our dataset"
   ]
  },
  {
   "cell_type": "code",
   "execution_count": 21,
   "metadata": {
    "collapsed": false
   },
   "outputs": [
    {
     "data": {
      "text/plain": [
       "<matplotlib.axes._subplots.AxesSubplot at 0x1b2080d18d0>"
      ]
     },
     "execution_count": 21,
     "metadata": {},
     "output_type": "execute_result"
    },
    {
     "data": {
      "image/png": "[encoded data removed]",
      "text/plain": [
       "<Figure size 432x288 with 1 Axes>"
      ]
     },
     "metadata": {},
     "output_type": "display_data"
    }
   ],
   "source": [
    "sns.countplot(df.srch_children_count)"
   ]
  },
  {
   "cell_type": "markdown",
   "metadata": {},
   "source": [
    "### 3.7  Which month had most number of clicks or searches"
   ]
  },
  {
   "cell_type": "code",
   "execution_count": 22,
   "metadata": {
    "collapsed": false
   },
   "outputs": [
    {
     "data": {
      "image/png": "[encoded data removed]",
      "text/plain": [
       "<Figure size 864x360 with 1 Axes>"
      ]
     },
     "metadata": {},
     "output_type": "display_data"
    }
   ],
   "source": [
    "plt.figure(figsize=(12,5))\n",
    "sns.countplot(df.Month,hue=df.click_bool)\n",
    "plt.xlabel('Month')\n",
    "plt.title('Countplot of Month for click vs non click data')\n",
    "plt.show()"
   ]
  },
  {
   "cell_type": "markdown",
   "metadata": {},
   "source": [
    "#### Inference\n",
    "* We can see that users mostly used our site in March, May and June. "
   ]
  },
  {
   "cell_type": "markdown",
   "metadata": {},
   "source": [
    "### 3.8  For month which had highest searches , which places did the users search for ie prop_id"
   ]
  },
  {
   "cell_type": "code",
   "execution_count": 23,
   "metadata": {
    "collapsed": true
   },
   "outputs": [],
   "source": [
    "df.Month = df.Month.astype(str)"
   ]
  },
  {
   "cell_type": "code",
   "execution_count": 24,
   "metadata": {
    "collapsed": true
   },
   "outputs": [],
   "source": [
    "popular_mnths = ['3','5','6']\n",
    "df_popular_mnths = df[df.Month.isin(popular_mnths)]"
   ]
  },
  {
   "cell_type": "code",
   "execution_count": 25,
   "metadata": {
    "collapsed": false
   },
   "outputs": [
    {
     "data": {
      "text/plain": [
       "(1391334, 41)"
      ]
     },
     "execution_count": 25,
     "metadata": {},
     "output_type": "execute_result"
    }
   ],
   "source": [
    "df_popular_mnths.shape"
   ]
  },
  {
   "cell_type": "code",
   "execution_count": 26,
   "metadata": {
    "collapsed": false
   },
   "outputs": [
    {
     "data": {
      "text/plain": [
       "<matplotlib.axes._subplots.AxesSubplot at 0x1b28a6bb5f8>"
      ]
     },
     "execution_count": 26,
     "metadata": {},
     "output_type": "execute_result"
    },
    {
     "data": {
      "image/png": "[encoded data removed]",
      "text/plain": [
       "<Figure size 864x360 with 1 Axes>"
      ]
     },
     "metadata": {},
     "output_type": "display_data"
    }
   ],
   "source": [
    "#df_popular_mnths.Day.value_counts()\n",
    "plt.figure(figsize=(12,5))\n",
    "sns.countplot(df_popular_mnths.Day)"
   ]
  },
  {
   "cell_type": "markdown",
   "metadata": {},
   "source": [
    "Inference:\n",
    "* 13 and 20th seem to be the most popular days followed by 29th "
   ]
  },
  {
   "cell_type": "code",
   "execution_count": 27,
   "metadata": {
    "collapsed": false,
    "scrolled": true
   },
   "outputs": [
    {
     "data": {
      "text/plain": [
       "124342    584\n",
       "104517    571\n",
       "40279     561\n",
       "59781     555\n",
       "68420     549\n",
       "49656     545\n",
       "137997    542\n",
       "134154    539\n",
       "59657     539\n",
       "38419     535\n",
       "46274     534\n",
       "60468     534\n",
       "77089     532\n",
       "60846     527\n",
       "94455     526\n",
       "77795     525\n",
       "35223     524\n",
       "21018     521\n",
       "37818     519\n",
       "116942    518\n",
       "14082     515\n",
       "24545     515\n",
       "122112    506\n",
       "70177     495\n",
       "78500     495\n",
       "117294    492\n",
       "90845     486\n",
       "3213      484\n",
       "53494     484\n",
       "125083    478\n",
       "         ... \n",
       "54751       1\n",
       "73190       1\n",
       "97770       1\n",
       "87535       1\n",
       "108017      1\n",
       "114162      1\n",
       "128507      1\n",
       "31177       1\n",
       "45520       1\n",
       "37332       1\n",
       "57818       1\n",
       "72165       1\n",
       "104949      1\n",
       "5572        1\n",
       "3527        1\n",
       "44499       1\n",
       "34262       1\n",
       "62936       1\n",
       "64985       1\n",
       "60891       1\n",
       "73189       1\n",
       "87532       1\n",
       "85487       1\n",
       "114161      1\n",
       "110067      1\n",
       "101879      1\n",
       "122365      1\n",
       "137604      1\n",
       "133510      1\n",
       "133567      1\n",
       "Name: prop_id, Length: 105932, dtype: int64"
      ]
     },
     "execution_count": 27,
     "metadata": {},
     "output_type": "execute_result"
    }
   ],
   "source": [
    "df_popular_mnths.prop_id.value_counts()"
   ]
  },
  {
   "cell_type": "code",
   "execution_count": 28,
   "metadata": {
    "collapsed": false
   },
   "outputs": [
    {
     "data": {
      "text/plain": [
       "8192.0     16844\n",
       "4562.0     15960\n",
       "9402.0     11475\n",
       "10979.0    10005\n",
       "13292.0     9357\n",
       "8347.0      8445\n",
       "18774.0     7928\n",
       "23904.0     7278\n",
       "6948.0      7209\n",
       "13216.0     7183\n",
       "24700.0     6842\n",
       "13870.0     6577\n",
       "26067.0     6533\n",
       "3694.0      6508\n",
       "15307.0     6139\n",
       "21871.0     5920\n",
       "3073.0      5635\n",
       "5143.0      5608\n",
       "20319.0     5536\n",
       "15122.0     5235\n",
       "17713.0     4803\n",
       "13539.0     4682\n",
       "7714.0      4620\n",
       "2303.0      4536\n",
       "25426.0     4210\n",
       "15620.0     4167\n",
       "9265.0      3946\n",
       "6991.0      3767\n",
       "20438.0     3641\n",
       "1815.0      3526\n",
       "           ...  \n",
       "19517.0        5\n",
       "2021.0         5\n",
       "6587.0         5\n",
       "19698.0        5\n",
       "19800.0        5\n",
       "23411.0        5\n",
       "1407.0         5\n",
       "19906.0        5\n",
       "1461.0         5\n",
       "26215.0        5\n",
       "19293.0        5\n",
       "6302.0         5\n",
       "1480.0         5\n",
       "11149.0        5\n",
       "23794.0        5\n",
       "18742.0        5\n",
       "23758.0        5\n",
       "18771.0        5\n",
       "11026.0        5\n",
       "18924.0        5\n",
       "26145.0        5\n",
       "19242.0        5\n",
       "23673.0        5\n",
       "19105.0        5\n",
       "19123.0        5\n",
       "19143.0        5\n",
       "26171.0        5\n",
       "2091.0         5\n",
       "8868.0         5\n",
       "21759.0        5\n",
       "Name: srch_destination_id, Length: 10177, dtype: int64"
      ]
     },
     "execution_count": 28,
     "metadata": {},
     "output_type": "execute_result"
    }
   ],
   "source": [
    "df_popular_mnths.srch_destination_id.value_counts()"
   ]
  },
  {
   "cell_type": "markdown",
   "metadata": {},
   "source": [
    "### 3.9  Price trend of the hotels which had most number of clicks in that given month"
   ]
  },
  {
   "cell_type": "code",
   "execution_count": 29,
   "metadata": {
    "collapsed": false
   },
   "outputs": [
    {
     "data": {
      "text/plain": [
       "(0, 900)"
      ]
     },
     "execution_count": 29,
     "metadata": {},
     "output_type": "execute_result"
    },
    {
     "data": {
      "image/png": "[encoded data removed]",
      "text/plain": [
       "<Figure size 432x288 with 1 Axes>"
      ]
     },
     "metadata": {},
     "output_type": "display_data"
    }
   ],
   "source": [
    "sns.set(style=\"ticks\", palette=\"pastel\")\n",
    "ax = sns.boxplot(x=\"Month\", y=\"price_usd\",hue='click_bool', data=df_popular_mnths)\n",
    "ax.set_ylim([0, 900])\n",
    "#ax.set_xlim([0,500])"
   ]
  },
  {
   "cell_type": "markdown",
   "metadata": {},
   "source": [
    "### 3.10  Which destinations are popular in which month"
   ]
  },
  {
   "cell_type": "code",
   "execution_count": 30,
   "metadata": {
    "collapsed": false
   },
   "outputs": [
    {
     "data": {
      "text/html": [
       "<div>\n",
       "<style scoped>\n",
       "    .dataframe tbody tr th:only-of-type {\n",
       "        vertical-align: middle;\n",
       "    }\n",
       "\n",
       "    .dataframe tbody tr th {\n",
       "        vertical-align: top;\n",
       "    }\n",
       "\n",
       "    .dataframe thead th {\n",
       "        text-align: right;\n",
       "    }\n",
       "</style>\n",
       "<table border=\"1\" class=\"dataframe\">\n",
       "  <thead>\n",
       "    <tr style=\"text-align: right;\">\n",
       "      <th>srch_destination_id_binned</th>\n",
       "      <th>44.0</th>\n",
       "      <th>570.0</th>\n",
       "      <th>982.0</th>\n",
       "      <th>1815.0</th>\n",
       "      <th>1986.0</th>\n",
       "      <th>2142.0</th>\n",
       "      <th>2303.0</th>\n",
       "      <th>2518.0</th>\n",
       "      <th>3073.0</th>\n",
       "      <th>3694.0</th>\n",
       "      <th>...</th>\n",
       "      <th>25556.0</th>\n",
       "      <th>25964.0</th>\n",
       "      <th>26067.0</th>\n",
       "      <th>26392.0</th>\n",
       "      <th>27620.0</th>\n",
       "      <th>27730.0</th>\n",
       "      <th>28150.0</th>\n",
       "      <th>28172.0</th>\n",
       "      <th>28317.0</th>\n",
       "      <th>999999.0</th>\n",
       "    </tr>\n",
       "    <tr>\n",
       "      <th>Month</th>\n",
       "      <th></th>\n",
       "      <th></th>\n",
       "      <th></th>\n",
       "      <th></th>\n",
       "      <th></th>\n",
       "      <th></th>\n",
       "      <th></th>\n",
       "      <th></th>\n",
       "      <th></th>\n",
       "      <th></th>\n",
       "      <th></th>\n",
       "      <th></th>\n",
       "      <th></th>\n",
       "      <th></th>\n",
       "      <th></th>\n",
       "      <th></th>\n",
       "      <th></th>\n",
       "      <th></th>\n",
       "      <th></th>\n",
       "      <th></th>\n",
       "      <th></th>\n",
       "    </tr>\n",
       "  </thead>\n",
       "  <tbody>\n",
       "    <tr>\n",
       "      <th>1</th>\n",
       "      <td>615</td>\n",
       "      <td>826</td>\n",
       "      <td>708</td>\n",
       "      <td>1104</td>\n",
       "      <td>782</td>\n",
       "      <td>616</td>\n",
       "      <td>1020</td>\n",
       "      <td>852</td>\n",
       "      <td>1932</td>\n",
       "      <td>980</td>\n",
       "      <td>...</td>\n",
       "      <td>627</td>\n",
       "      <td>1095</td>\n",
       "      <td>1484</td>\n",
       "      <td>754</td>\n",
       "      <td>682</td>\n",
       "      <td>1120</td>\n",
       "      <td>599</td>\n",
       "      <td>674</td>\n",
       "      <td>1216</td>\n",
       "      <td>293641</td>\n",
       "    </tr>\n",
       "    <tr>\n",
       "      <th>11</th>\n",
       "      <td>317</td>\n",
       "      <td>784</td>\n",
       "      <td>698</td>\n",
       "      <td>794</td>\n",
       "      <td>772</td>\n",
       "      <td>482</td>\n",
       "      <td>641</td>\n",
       "      <td>725</td>\n",
       "      <td>1396</td>\n",
       "      <td>258</td>\n",
       "      <td>...</td>\n",
       "      <td>588</td>\n",
       "      <td>764</td>\n",
       "      <td>1036</td>\n",
       "      <td>509</td>\n",
       "      <td>387</td>\n",
       "      <td>844</td>\n",
       "      <td>650</td>\n",
       "      <td>1069</td>\n",
       "      <td>1205</td>\n",
       "      <td>236050</td>\n",
       "    </tr>\n",
       "    <tr>\n",
       "      <th>12</th>\n",
       "      <td>637</td>\n",
       "      <td>890</td>\n",
       "      <td>480</td>\n",
       "      <td>548</td>\n",
       "      <td>421</td>\n",
       "      <td>405</td>\n",
       "      <td>811</td>\n",
       "      <td>632</td>\n",
       "      <td>1649</td>\n",
       "      <td>467</td>\n",
       "      <td>...</td>\n",
       "      <td>644</td>\n",
       "      <td>707</td>\n",
       "      <td>1230</td>\n",
       "      <td>395</td>\n",
       "      <td>426</td>\n",
       "      <td>935</td>\n",
       "      <td>379</td>\n",
       "      <td>683</td>\n",
       "      <td>822</td>\n",
       "      <td>227776</td>\n",
       "    </tr>\n",
       "    <tr>\n",
       "      <th>2</th>\n",
       "      <td>414</td>\n",
       "      <td>843</td>\n",
       "      <td>1137</td>\n",
       "      <td>489</td>\n",
       "      <td>928</td>\n",
       "      <td>972</td>\n",
       "      <td>1413</td>\n",
       "      <td>809</td>\n",
       "      <td>1377</td>\n",
       "      <td>1164</td>\n",
       "      <td>...</td>\n",
       "      <td>879</td>\n",
       "      <td>697</td>\n",
       "      <td>1187</td>\n",
       "      <td>503</td>\n",
       "      <td>692</td>\n",
       "      <td>720</td>\n",
       "      <td>390</td>\n",
       "      <td>983</td>\n",
       "      <td>932</td>\n",
       "      <td>288831</td>\n",
       "    </tr>\n",
       "    <tr>\n",
       "      <th>3</th>\n",
       "      <td>673</td>\n",
       "      <td>566</td>\n",
       "      <td>1111</td>\n",
       "      <td>1077</td>\n",
       "      <td>826</td>\n",
       "      <td>544</td>\n",
       "      <td>1647</td>\n",
       "      <td>898</td>\n",
       "      <td>1687</td>\n",
       "      <td>1899</td>\n",
       "      <td>...</td>\n",
       "      <td>1267</td>\n",
       "      <td>472</td>\n",
       "      <td>2116</td>\n",
       "      <td>688</td>\n",
       "      <td>601</td>\n",
       "      <td>777</td>\n",
       "      <td>979</td>\n",
       "      <td>1286</td>\n",
       "      <td>1186</td>\n",
       "      <td>342604</td>\n",
       "    </tr>\n",
       "    <tr>\n",
       "      <th>4</th>\n",
       "      <td>477</td>\n",
       "      <td>1143</td>\n",
       "      <td>731</td>\n",
       "      <td>1268</td>\n",
       "      <td>624</td>\n",
       "      <td>907</td>\n",
       "      <td>1720</td>\n",
       "      <td>609</td>\n",
       "      <td>1714</td>\n",
       "      <td>1357</td>\n",
       "      <td>...</td>\n",
       "      <td>961</td>\n",
       "      <td>589</td>\n",
       "      <td>1154</td>\n",
       "      <td>579</td>\n",
       "      <td>947</td>\n",
       "      <td>687</td>\n",
       "      <td>648</td>\n",
       "      <td>811</td>\n",
       "      <td>1275</td>\n",
       "      <td>320067</td>\n",
       "    </tr>\n",
       "    <tr>\n",
       "      <th>5</th>\n",
       "      <td>942</td>\n",
       "      <td>841</td>\n",
       "      <td>1012</td>\n",
       "      <td>1300</td>\n",
       "      <td>1004</td>\n",
       "      <td>1028</td>\n",
       "      <td>1554</td>\n",
       "      <td>597</td>\n",
       "      <td>2245</td>\n",
       "      <td>1932</td>\n",
       "      <td>...</td>\n",
       "      <td>999</td>\n",
       "      <td>562</td>\n",
       "      <td>1706</td>\n",
       "      <td>707</td>\n",
       "      <td>950</td>\n",
       "      <td>856</td>\n",
       "      <td>738</td>\n",
       "      <td>1025</td>\n",
       "      <td>748</td>\n",
       "      <td>347447</td>\n",
       "    </tr>\n",
       "    <tr>\n",
       "      <th>6</th>\n",
       "      <td>1114</td>\n",
       "      <td>1082</td>\n",
       "      <td>1026</td>\n",
       "      <td>1149</td>\n",
       "      <td>884</td>\n",
       "      <td>1186</td>\n",
       "      <td>1335</td>\n",
       "      <td>1013</td>\n",
       "      <td>1703</td>\n",
       "      <td>2677</td>\n",
       "      <td>...</td>\n",
       "      <td>539</td>\n",
       "      <td>474</td>\n",
       "      <td>2711</td>\n",
       "      <td>1176</td>\n",
       "      <td>534</td>\n",
       "      <td>665</td>\n",
       "      <td>719</td>\n",
       "      <td>852</td>\n",
       "      <td>825</td>\n",
       "      <td>362348</td>\n",
       "    </tr>\n",
       "  </tbody>\n",
       "</table>\n",
       "<p>8 rows × 81 columns</p>\n",
       "</div>"
      ],
      "text/plain": [
       "srch_destination_id_binned  44.0      570.0     982.0     1815.0    1986.0    \\\n",
       "Month                                                                          \n",
       "1                                615       826       708      1104       782   \n",
       "11                               317       784       698       794       772   \n",
       "12                               637       890       480       548       421   \n",
       "2                                414       843      1137       489       928   \n",
       "3                                673       566      1111      1077       826   \n",
       "4                                477      1143       731      1268       624   \n",
       "5                                942       841      1012      1300      1004   \n",
       "6                               1114      1082      1026      1149       884   \n",
       "\n",
       "srch_destination_id_binned  2142.0    2303.0    2518.0    3073.0    3694.0    \\\n",
       "Month                                                                          \n",
       "1                                616      1020       852      1932       980   \n",
       "11                               482       641       725      1396       258   \n",
       "12                               405       811       632      1649       467   \n",
       "2                                972      1413       809      1377      1164   \n",
       "3                                544      1647       898      1687      1899   \n",
       "4                                907      1720       609      1714      1357   \n",
       "5                               1028      1554       597      2245      1932   \n",
       "6                               1186      1335      1013      1703      2677   \n",
       "\n",
       "srch_destination_id_binned  ...  25556.0   25964.0   26067.0   26392.0   \\\n",
       "Month                       ...                                           \n",
       "1                           ...       627      1095      1484       754   \n",
       "11                          ...       588       764      1036       509   \n",
       "12                          ...       644       707      1230       395   \n",
       "2                           ...       879       697      1187       503   \n",
       "3                           ...      1267       472      2116       688   \n",
       "4                           ...       961       589      1154       579   \n",
       "5                           ...       999       562      1706       707   \n",
       "6                           ...       539       474      2711      1176   \n",
       "\n",
       "srch_destination_id_binned  27620.0   27730.0   28150.0   28172.0   28317.0   \\\n",
       "Month                                                                          \n",
       "1                                682      1120       599       674      1216   \n",
       "11                               387       844       650      1069      1205   \n",
       "12                               426       935       379       683       822   \n",
       "2                                692       720       390       983       932   \n",
       "3                                601       777       979      1286      1186   \n",
       "4                                947       687       648       811      1275   \n",
       "5                                950       856       738      1025       748   \n",
       "6                                534       665       719       852       825   \n",
       "\n",
       "srch_destination_id_binned  999999.0  \n",
       "Month                                 \n",
       "1                             293641  \n",
       "11                            236050  \n",
       "12                            227776  \n",
       "2                             288831  \n",
       "3                             342604  \n",
       "4                             320067  \n",
       "5                             347447  \n",
       "6                             362348  \n",
       "\n",
       "[8 rows x 81 columns]"
      ]
     },
     "execution_count": 30,
     "metadata": {},
     "output_type": "execute_result"
    }
   ],
   "source": [
    "#sns.countplot(df.Month,hue=df.srch_destination_id_binned)\n",
    "pd.crosstab(df.Month,df.srch_destination_id_binned)"
   ]
  },
  {
   "cell_type": "markdown",
   "metadata": {},
   "source": [
    "### 3.11  Number of Searches by year, checking if the trend is increasing or decreasing"
   ]
  },
  {
   "cell_type": "code",
   "execution_count": 31,
   "metadata": {
    "collapsed": false
   },
   "outputs": [
    {
     "data": {
      "text/plain": [
       "<matplotlib.axes._subplots.AxesSubplot at 0x1b22d779e48>"
      ]
     },
     "execution_count": 31,
     "metadata": {},
     "output_type": "execute_result"
    },
    {
     "data": {
      "image/png": "[encoded data removed]",
      "text/plain": [
       "<Figure size 432x288 with 1 Axes>"
      ]
     },
     "metadata": {},
     "output_type": "display_data"
    }
   ],
   "source": [
    "sns.countplot(df.Year)"
   ]
  },
  {
   "cell_type": "code",
   "execution_count": 32,
   "metadata": {
    "collapsed": false
   },
   "outputs": [
    {
     "data": {
      "text/html": [
       "<div>\n",
       "<style scoped>\n",
       "    .dataframe tbody tr th:only-of-type {\n",
       "        vertical-align: middle;\n",
       "    }\n",
       "\n",
       "    .dataframe tbody tr th {\n",
       "        vertical-align: top;\n",
       "    }\n",
       "\n",
       "    .dataframe thead th {\n",
       "        text-align: right;\n",
       "    }\n",
       "</style>\n",
       "<table border=\"1\" class=\"dataframe\">\n",
       "  <thead>\n",
       "    <tr style=\"text-align: right;\">\n",
       "      <th></th>\n",
       "      <th>srch_id</th>\n",
       "      <th>site_id</th>\n",
       "      <th>visitor_location_country_id</th>\n",
       "      <th>prop_country_id</th>\n",
       "      <th>prop_id</th>\n",
       "      <th>prop_starrating</th>\n",
       "      <th>prop_review_score</th>\n",
       "      <th>prop_brand_bool</th>\n",
       "      <th>prop_location_score1</th>\n",
       "      <th>prop_location_score2</th>\n",
       "      <th>...</th>\n",
       "      <th>booking_bool</th>\n",
       "      <th>site_id_binned</th>\n",
       "      <th>visitor_location_country_id_binned</th>\n",
       "      <th>prop_country_id_binned</th>\n",
       "      <th>prop_id_binned</th>\n",
       "      <th>srch_destination_id_binned</th>\n",
       "      <th>srch_lenth_of_stay_bin</th>\n",
       "      <th>Year</th>\n",
       "      <th>Day</th>\n",
       "      <th>Hour</th>\n",
       "    </tr>\n",
       "  </thead>\n",
       "  <tbody>\n",
       "    <tr>\n",
       "      <th>count</th>\n",
       "      <td>3.224001e+06</td>\n",
       "      <td>3.224001e+06</td>\n",
       "      <td>3.224001e+06</td>\n",
       "      <td>3.224001e+06</td>\n",
       "      <td>3.224001e+06</td>\n",
       "      <td>3.224001e+06</td>\n",
       "      <td>3.224001e+06</td>\n",
       "      <td>3.224001e+06</td>\n",
       "      <td>3.224001e+06</td>\n",
       "      <td>3.224001e+06</td>\n",
       "      <td>...</td>\n",
       "      <td>3.224001e+06</td>\n",
       "      <td>3.224001e+06</td>\n",
       "      <td>3.224001e+06</td>\n",
       "      <td>3.224001e+06</td>\n",
       "      <td>3.224001e+06</td>\n",
       "      <td>3.224001e+06</td>\n",
       "      <td>3.224001e+06</td>\n",
       "      <td>3.224001e+06</td>\n",
       "      <td>3.224001e+06</td>\n",
       "      <td>3.224001e+06</td>\n",
       "    </tr>\n",
       "    <tr>\n",
       "      <th>mean</th>\n",
       "      <td>1.081559e+05</td>\n",
       "      <td>9.933804e+00</td>\n",
       "      <td>1.755115e+02</td>\n",
       "      <td>1.741365e+02</td>\n",
       "      <td>7.008551e+04</td>\n",
       "      <td>3.181345e+00</td>\n",
       "      <td>3.778575e+00</td>\n",
       "      <td>6.354595e-01</td>\n",
       "      <td>2.871932e+00</td>\n",
       "      <td>1.065067e-01</td>\n",
       "      <td>...</td>\n",
       "      <td>2.786134e-02</td>\n",
       "      <td>1.603074e+01</td>\n",
       "      <td>2.731501e+02</td>\n",
       "      <td>3.131491e+02</td>\n",
       "      <td>9.801315e+05</td>\n",
       "      <td>7.535935e+05</td>\n",
       "      <td>2.378112e+00</td>\n",
       "      <td>2.012803e+03</td>\n",
       "      <td>1.565481e+01</td>\n",
       "      <td>1.369047e+01</td>\n",
       "    </tr>\n",
       "    <tr>\n",
       "      <th>std</th>\n",
       "      <td>6.255664e+04</td>\n",
       "      <td>7.639813e+00</td>\n",
       "      <td>6.585953e+01</td>\n",
       "      <td>6.827944e+01</td>\n",
       "      <td>4.061174e+04</td>\n",
       "      <td>1.050822e+00</td>\n",
       "      <td>1.048096e+00</td>\n",
       "      <td>4.813012e-01</td>\n",
       "      <td>1.530059e+00</td>\n",
       "      <td>1.477814e-01</td>\n",
       "      <td>...</td>\n",
       "      <td>1.645755e-01</td>\n",
       "      <td>2.455208e+01</td>\n",
       "      <td>2.602244e+02</td>\n",
       "      <td>2.986514e+02</td>\n",
       "      <td>1.347254e+05</td>\n",
       "      <td>4.270753e+05</td>\n",
       "      <td>1.967003e+00</td>\n",
       "      <td>3.973943e-01</td>\n",
       "      <td>8.686741e+00</td>\n",
       "      <td>5.424752e+00</td>\n",
       "    </tr>\n",
       "    <tr>\n",
       "      <th>min</th>\n",
       "      <td>1.000000e+00</td>\n",
       "      <td>1.000000e+00</td>\n",
       "      <td>1.000000e+00</td>\n",
       "      <td>1.000000e+00</td>\n",
       "      <td>1.000000e+00</td>\n",
       "      <td>0.000000e+00</td>\n",
       "      <td>0.000000e+00</td>\n",
       "      <td>0.000000e+00</td>\n",
       "      <td>0.000000e+00</td>\n",
       "      <td>0.000000e+00</td>\n",
       "      <td>...</td>\n",
       "      <td>0.000000e+00</td>\n",
       "      <td>5.000000e+00</td>\n",
       "      <td>3.100000e+01</td>\n",
       "      <td>3.100000e+01</td>\n",
       "      <td>1.230000e+03</td>\n",
       "      <td>4.400000e+01</td>\n",
       "      <td>1.000000e+00</td>\n",
       "      <td>2.012000e+03</td>\n",
       "      <td>1.000000e+00</td>\n",
       "      <td>0.000000e+00</td>\n",
       "    </tr>\n",
       "    <tr>\n",
       "      <th>25%</th>\n",
       "      <td>5.390100e+04</td>\n",
       "      <td>5.000000e+00</td>\n",
       "      <td>1.000000e+02</td>\n",
       "      <td>1.000000e+02</td>\n",
       "      <td>3.504200e+04</td>\n",
       "      <td>3.000000e+00</td>\n",
       "      <td>3.500000e+00</td>\n",
       "      <td>0.000000e+00</td>\n",
       "      <td>1.790000e+00</td>\n",
       "      <td>1.610000e-02</td>\n",
       "      <td>...</td>\n",
       "      <td>0.000000e+00</td>\n",
       "      <td>5.000000e+00</td>\n",
       "      <td>2.160000e+02</td>\n",
       "      <td>2.190000e+02</td>\n",
       "      <td>9.999990e+05</td>\n",
       "      <td>9.999990e+05</td>\n",
       "      <td>1.000000e+00</td>\n",
       "      <td>2.013000e+03</td>\n",
       "      <td>8.000000e+00</td>\n",
       "      <td>1.000000e+01</td>\n",
       "    </tr>\n",
       "    <tr>\n",
       "      <th>50%</th>\n",
       "      <td>1.083350e+05</td>\n",
       "      <td>5.000000e+00</td>\n",
       "      <td>2.190000e+02</td>\n",
       "      <td>2.190000e+02</td>\n",
       "      <td>6.963000e+04</td>\n",
       "      <td>3.000000e+00</td>\n",
       "      <td>4.000000e+00</td>\n",
       "      <td>1.000000e+00</td>\n",
       "      <td>2.770000e+00</td>\n",
       "      <td>4.190000e-02</td>\n",
       "      <td>...</td>\n",
       "      <td>0.000000e+00</td>\n",
       "      <td>5.000000e+00</td>\n",
       "      <td>2.190000e+02</td>\n",
       "      <td>2.190000e+02</td>\n",
       "      <td>9.999990e+05</td>\n",
       "      <td>9.999990e+05</td>\n",
       "      <td>2.000000e+00</td>\n",
       "      <td>2.013000e+03</td>\n",
       "      <td>1.600000e+01</td>\n",
       "      <td>1.400000e+01</td>\n",
       "    </tr>\n",
       "    <tr>\n",
       "      <th>75%</th>\n",
       "      <td>1.624130e+05</td>\n",
       "      <td>1.400000e+01</td>\n",
       "      <td>2.190000e+02</td>\n",
       "      <td>2.190000e+02</td>\n",
       "      <td>1.051760e+05</td>\n",
       "      <td>4.000000e+00</td>\n",
       "      <td>4.500000e+00</td>\n",
       "      <td>1.000000e+00</td>\n",
       "      <td>4.040000e+00</td>\n",
       "      <td>1.372000e-01</td>\n",
       "      <td>...</td>\n",
       "      <td>0.000000e+00</td>\n",
       "      <td>1.500000e+01</td>\n",
       "      <td>2.190000e+02</td>\n",
       "      <td>2.190000e+02</td>\n",
       "      <td>9.999990e+05</td>\n",
       "      <td>9.999990e+05</td>\n",
       "      <td>3.000000e+00</td>\n",
       "      <td>2.013000e+03</td>\n",
       "      <td>2.300000e+01</td>\n",
       "      <td>1.800000e+01</td>\n",
       "    </tr>\n",
       "    <tr>\n",
       "      <th>max</th>\n",
       "      <td>2.165260e+05</td>\n",
       "      <td>3.400000e+01</td>\n",
       "      <td>2.310000e+02</td>\n",
       "      <td>2.300000e+02</td>\n",
       "      <td>1.408210e+05</td>\n",
       "      <td>5.000000e+00</td>\n",
       "      <td>5.000000e+00</td>\n",
       "      <td>1.000000e+00</td>\n",
       "      <td>6.980000e+00</td>\n",
       "      <td>1.000000e+00</td>\n",
       "      <td>...</td>\n",
       "      <td>1.000000e+00</td>\n",
       "      <td>9.900000e+01</td>\n",
       "      <td>9.990000e+02</td>\n",
       "      <td>9.990000e+02</td>\n",
       "      <td>9.999990e+05</td>\n",
       "      <td>9.999990e+05</td>\n",
       "      <td>1.500000e+01</td>\n",
       "      <td>2.013000e+03</td>\n",
       "      <td>3.100000e+01</td>\n",
       "      <td>2.300000e+01</td>\n",
       "    </tr>\n",
       "  </tbody>\n",
       "</table>\n",
       "<p>8 rows × 34 columns</p>\n",
       "</div>"
      ],
      "text/plain": [
       "            srch_id       site_id  visitor_location_country_id  \\\n",
       "count  3.224001e+06  3.224001e+06                 3.224001e+06   \n",
       "mean   1.081559e+05  9.933804e+00                 1.755115e+02   \n",
       "std    6.255664e+04  7.639813e+00                 6.585953e+01   \n",
       "min    1.000000e+00  1.000000e+00                 1.000000e+00   \n",
       "25%    5.390100e+04  5.000000e+00                 1.000000e+02   \n",
       "50%    1.083350e+05  5.000000e+00                 2.190000e+02   \n",
       "75%    1.624130e+05  1.400000e+01                 2.190000e+02   \n",
       "max    2.165260e+05  3.400000e+01                 2.310000e+02   \n",
       "\n",
       "       prop_country_id       prop_id  prop_starrating  prop_review_score  \\\n",
       "count     3.224001e+06  3.224001e+06     3.224001e+06       3.224001e+06   \n",
       "mean      1.741365e+02  7.008551e+04     3.181345e+00       3.778575e+00   \n",
       "std       6.827944e+01  4.061174e+04     1.050822e+00       1.048096e+00   \n",
       "min       1.000000e+00  1.000000e+00     0.000000e+00       0.000000e+00   \n",
       "25%       1.000000e+02  3.504200e+04     3.000000e+00       3.500000e+00   \n",
       "50%       2.190000e+02  6.963000e+04     3.000000e+00       4.000000e+00   \n",
       "75%       2.190000e+02  1.051760e+05     4.000000e+00       4.500000e+00   \n",
       "max       2.300000e+02  1.408210e+05     5.000000e+00       5.000000e+00   \n",
       "\n",
       "       prop_brand_bool  prop_location_score1  prop_location_score2  ...  \\\n",
       "count     3.224001e+06          3.224001e+06          3.224001e+06  ...   \n",
       "mean      6.354595e-01          2.871932e+00          1.065067e-01  ...   \n",
       "std       4.813012e-01          1.530059e+00          1.477814e-01  ...   \n",
       "min       0.000000e+00          0.000000e+00          0.000000e+00  ...   \n",
       "25%       0.000000e+00          1.790000e+00          1.610000e-02  ...   \n",
       "50%       1.000000e+00          2.770000e+00          4.190000e-02  ...   \n",
       "75%       1.000000e+00          4.040000e+00          1.372000e-01  ...   \n",
       "max       1.000000e+00          6.980000e+00          1.000000e+00  ...   \n",
       "\n",
       "       booking_bool  site_id_binned  visitor_location_country_id_binned  \\\n",
       "count  3.224001e+06    3.224001e+06                        3.224001e+06   \n",
       "mean   2.786134e-02    1.603074e+01                        2.731501e+02   \n",
       "std    1.645755e-01    2.455208e+01                        2.602244e+02   \n",
       "min    0.000000e+00    5.000000e+00                        3.100000e+01   \n",
       "25%    0.000000e+00    5.000000e+00                        2.160000e+02   \n",
       "50%    0.000000e+00    5.000000e+00                        2.190000e+02   \n",
       "75%    0.000000e+00    1.500000e+01                        2.190000e+02   \n",
       "max    1.000000e+00    9.900000e+01                        9.990000e+02   \n",
       "\n",
       "       prop_country_id_binned  prop_id_binned  srch_destination_id_binned  \\\n",
       "count            3.224001e+06    3.224001e+06                3.224001e+06   \n",
       "mean             3.131491e+02    9.801315e+05                7.535935e+05   \n",
       "std              2.986514e+02    1.347254e+05                4.270753e+05   \n",
       "min              3.100000e+01    1.230000e+03                4.400000e+01   \n",
       "25%              2.190000e+02    9.999990e+05                9.999990e+05   \n",
       "50%              2.190000e+02    9.999990e+05                9.999990e+05   \n",
       "75%              2.190000e+02    9.999990e+05                9.999990e+05   \n",
       "max              9.990000e+02    9.999990e+05                9.999990e+05   \n",
       "\n",
       "       srch_lenth_of_stay_bin          Year           Day          Hour  \n",
       "count            3.224001e+06  3.224001e+06  3.224001e+06  3.224001e+06  \n",
       "mean             2.378112e+00  2.012803e+03  1.565481e+01  1.369047e+01  \n",
       "std              1.967003e+00  3.973943e-01  8.686741e+00  5.424752e+00  \n",
       "min              1.000000e+00  2.012000e+03  1.000000e+00  0.000000e+00  \n",
       "25%              1.000000e+00  2.013000e+03  8.000000e+00  1.000000e+01  \n",
       "50%              2.000000e+00  2.013000e+03  1.600000e+01  1.400000e+01  \n",
       "75%              3.000000e+00  2.013000e+03  2.300000e+01  1.800000e+01  \n",
       "max              1.500000e+01  2.013000e+03  3.100000e+01  2.300000e+01  \n",
       "\n",
       "[8 rows x 34 columns]"
      ]
     },
     "execution_count": 32,
     "metadata": {},
     "output_type": "execute_result"
    }
   ],
   "source": [
    "df.describe()"
   ]
  },
  {
   "cell_type": "markdown",
   "metadata": {},
   "source": [
    "### 3.12  Popular times for users ie when do they search the most"
   ]
  },
  {
   "cell_type": "code",
   "execution_count": 33,
   "metadata": {
    "collapsed": false
   },
   "outputs": [
    {
     "data": {
      "image/png": "[encoded data removed]",
      "text/plain": [
       "<Figure size 864x360 with 1 Axes>"
      ]
     },
     "metadata": {},
     "output_type": "display_data"
    }
   ],
   "source": [
    "plt.figure(figsize=(12,5))\n",
    "sns.countplot(df.Hour,hue=df.click_bool)\n",
    "plt.xlabel('Hour of the day')\n",
    "plt.title('Countplot of Hour of search for click vs non click data')\n",
    "plt.show()"
   ]
  },
  {
   "cell_type": "markdown",
   "metadata": {},
   "source": [
    "### 3.13 Considering only US data, what is the average distance people travel in the country"
   ]
  },
  {
   "cell_type": "code",
   "execution_count": 34,
   "metadata": {
    "collapsed": true
   },
   "outputs": [],
   "source": [
    "df_us = df[(df.prop_country_id == 219) & (df.visitor_location_country_id == 219)]"
   ]
  },
  {
   "cell_type": "code",
   "execution_count": 35,
   "metadata": {
    "collapsed": false
   },
   "outputs": [
    {
     "data": {
      "text/plain": [
       "599.7012927560371"
      ]
     },
     "execution_count": 35,
     "metadata": {},
     "output_type": "execute_result"
    }
   ],
   "source": [
    "df_us.orig_destination_distance.mean()"
   ]
  },
  {
   "cell_type": "code",
   "execution_count": 36,
   "metadata": {
    "collapsed": false
   },
   "outputs": [
    {
     "data": {
      "text/plain": [
       "160.66407521546446"
      ]
     },
     "execution_count": 36,
     "metadata": {},
     "output_type": "execute_result"
    }
   ],
   "source": [
    "df_us.price_usd.mean()"
   ]
  },
  {
   "cell_type": "markdown",
   "metadata": {},
   "source": [
    "### 3.14 Effect of promotion flag on click"
   ]
  },
  {
   "cell_type": "code",
   "execution_count": 37,
   "metadata": {
    "collapsed": false
   },
   "outputs": [
    {
     "data": {
      "text/plain": [
       "<matplotlib.axes._subplots.AxesSubplot at 0x1b22d6b6550>"
      ]
     },
     "execution_count": 37,
     "metadata": {},
     "output_type": "execute_result"
    },
    {
     "data": {
      "image/png": "[encoded data removed]",
      "text/plain": [
       "<Figure size 432x288 with 1 Axes>"
      ]
     },
     "metadata": {},
     "output_type": "display_data"
    }
   ],
   "source": [
    "sns.countplot(df.click_bool,hue=df.promotion_flag)"
   ]
  },
  {
   "cell_type": "markdown",
   "metadata": {},
   "source": [
    "### 3.15 Search Length of Stay "
   ]
  },
  {
   "cell_type": "code",
   "execution_count": 118,
   "metadata": {
    "collapsed": false
   },
   "outputs": [
    {
     "data": {
      "image/png": "[encoded data removed]",
      "text/plain": [
       "<Figure size 432x288 with 1 Axes>"
      ]
     },
     "metadata": {},
     "output_type": "display_data"
    }
   ],
   "source": [
    "plt.hist(df.srch_length_of_stay, 50, density = 1, facecolor='blue', alpha=0.75)\n",
    "plt.xlabel('Search length of stay')\n",
    "plt.title('Histogram of search_length_of_stay')\n",
    "plt.axis([0, 30, 0, 0.65])\n",
    "plt.show()"
   ]
  },
  {
   "cell_type": "code",
   "execution_count": null,
   "metadata": {
    "collapsed": true
   },
   "outputs": [],
   "source": []
  },
  {
   "cell_type": "markdown",
   "metadata": {},
   "source": [
    "## 4. Model Building"
   ]
  },
  {
   "cell_type": "markdown",
   "metadata": {},
   "source": [
    "#### 4.1 Removing redundant features and splitting data into train and test"
   ]
  },
  {
   "cell_type": "code",
   "execution_count": 38,
   "metadata": {
    "collapsed": true
   },
   "outputs": [],
   "source": [
    "df1 = df.copy()"
   ]
  },
  {
   "cell_type": "code",
   "execution_count": 39,
   "metadata": {
    "collapsed": false
   },
   "outputs": [
    {
     "name": "stdout",
     "output_type": "stream",
     "text": [
      "(3224001, 41)\n"
     ]
    },
    {
     "data": {
      "text/plain": [
       "Index(['srch_id', 'date_time', 'site_id', 'visitor_location_country_id',\n",
       "       'prop_country_id', 'prop_id', 'prop_starrating', 'prop_review_score',\n",
       "       'prop_brand_bool', 'prop_location_score1', 'prop_location_score2',\n",
       "       'prop_log_historical_price', 'position', 'price_usd', 'promotion_flag',\n",
       "       'srch_destination_id', 'srch_length_of_stay', 'srch_booking_window',\n",
       "       'srch_adults_count', 'srch_children_count', 'srch_room_count',\n",
       "       'srch_saturday_night_bool', 'orig_destination_distance', 'random_bool',\n",
       "       'click_bool', 'booking_bool', 'site_id_binned',\n",
       "       'visitor_location_country_id_binned', 'prop_country_id_binned',\n",
       "       'prop_id_binned', 'srch_destination_id_binned',\n",
       "       'srch_lenth_of_stay_bin', 'Date', 'Time', 'Year', 'Month', 'Day',\n",
       "       'prop_review_score_bin', 'children_occupancy', 'Desirability', 'Hour'],\n",
       "      dtype='object')"
      ]
     },
     "execution_count": 39,
     "metadata": {},
     "output_type": "execute_result"
    }
   ],
   "source": [
    "print(df1.shape)\n",
    "df1.columns"
   ]
  },
  {
   "cell_type": "code",
   "execution_count": 40,
   "metadata": {
    "collapsed": false
   },
   "outputs": [
    {
     "name": "stdout",
     "output_type": "stream",
     "text": [
      "<class 'pandas.core.frame.DataFrame'>\n",
      "RangeIndex: 3224001 entries, 0 to 3224000\n",
      "Data columns (total 26 columns):\n",
      "prop_starrating                       float64\n",
      "prop_review_score                     float64\n",
      "prop_brand_bool                       float64\n",
      "prop_location_score1                  float64\n",
      "prop_location_score2                  float64\n",
      "prop_log_historical_price             float64\n",
      "position                              float64\n",
      "price_usd                             float64\n",
      "promotion_flag                        float64\n",
      "srch_booking_window                   float64\n",
      "srch_adults_count                     float64\n",
      "srch_saturday_night_bool              float64\n",
      "orig_destination_distance             float64\n",
      "random_bool                           float64\n",
      "click_bool                            float64\n",
      "site_id_binned                        int64\n",
      "visitor_location_country_id_binned    int64\n",
      "prop_country_id_binned                int64\n",
      "prop_id_binned                        int64\n",
      "srch_destination_id_binned            float64\n",
      "srch_lenth_of_stay_bin                float64\n",
      "Year                                  int64\n",
      "Month                                 object\n",
      "Day                                   int64\n",
      "children_occupancy                    object\n",
      "Hour                                  int64\n",
      "dtypes: float64(17), int64(7), object(2)\n",
      "memory usage: 639.5+ MB\n"
     ]
    }
   ],
   "source": [
    "df1.drop(['site_id','visitor_location_country_id','prop_country_id','prop_id','booking_bool','srch_destination_id','srch_length_of_stay','date_time','srch_id','Date','Time','srch_children_count','Desirability','prop_review_score_bin','srch_room_count'],axis=1,inplace=True)\n",
    "df1.info()"
   ]
  },
  {
   "cell_type": "code",
   "execution_count": 41,
   "metadata": {
    "collapsed": false
   },
   "outputs": [
    {
     "name": "stdout",
     "output_type": "stream",
     "text": [
      "<class 'pandas.core.frame.DataFrame'>\n",
      "RangeIndex: 3224001 entries, 0 to 3224000\n",
      "Data columns (total 26 columns):\n",
      "prop_starrating                       float64\n",
      "prop_review_score                     float64\n",
      "prop_brand_bool                       object\n",
      "prop_location_score1                  float64\n",
      "prop_location_score2                  float64\n",
      "prop_log_historical_price             float64\n",
      "position                              float64\n",
      "price_usd                             float64\n",
      "promotion_flag                        float64\n",
      "srch_booking_window                   float64\n",
      "srch_adults_count                     float64\n",
      "srch_saturday_night_bool              object\n",
      "orig_destination_distance             float64\n",
      "random_bool                           object\n",
      "click_bool                            object\n",
      "site_id_binned                        object\n",
      "visitor_location_country_id_binned    object\n",
      "prop_country_id_binned                object\n",
      "prop_id_binned                        object\n",
      "srch_destination_id_binned            object\n",
      "srch_lenth_of_stay_bin                float64\n",
      "Year                                  object\n",
      "Month                                 object\n",
      "Day                                   object\n",
      "children_occupancy                    object\n",
      "Hour                                  int64\n",
      "dtypes: float64(12), int64(1), object(13)\n",
      "memory usage: 639.5+ MB\n"
     ]
    }
   ],
   "source": [
    "object_dt = ['Day','Month','Year','srch_destination_id_binned','prop_id_binned','prop_country_id_binned','visitor_location_country_id_binned','site_id_binned','srch_saturday_night_bool','prop_brand_bool','random_bool','click_bool']\n",
    "for col in df1.columns:\n",
    "    if col in object_dt:\n",
    "        df1[col] = df1[col].astype(object)\n",
    "        \n",
    "df1.info()"
   ]
  },
  {
   "cell_type": "code",
   "execution_count": 42,
   "metadata": {
    "collapsed": true
   },
   "outputs": [],
   "source": [
    "from sklearn.model_selection import train_test_split\n",
    "train,test= train_test_split(df1,test_size=0.3,random_state=70)"
   ]
  },
  {
   "cell_type": "code",
   "execution_count": 43,
   "metadata": {
    "collapsed": false
   },
   "outputs": [
    {
     "name": "stdout",
     "output_type": "stream",
     "text": [
      "(2256800, 26)\n"
     ]
    },
    {
     "data": {
      "text/plain": [
       "Index(['prop_starrating', 'prop_review_score', 'prop_brand_bool',\n",
       "       'prop_location_score1', 'prop_location_score2',\n",
       "       'prop_log_historical_price', 'position', 'price_usd', 'promotion_flag',\n",
       "       'srch_booking_window', 'srch_adults_count', 'srch_saturday_night_bool',\n",
       "       'orig_destination_distance', 'random_bool', 'click_bool',\n",
       "       'site_id_binned', 'visitor_location_country_id_binned',\n",
       "       'prop_country_id_binned', 'prop_id_binned',\n",
       "       'srch_destination_id_binned', 'srch_lenth_of_stay_bin', 'Year', 'Month',\n",
       "       'Day', 'children_occupancy', 'Hour'],\n",
       "      dtype='object')"
      ]
     },
     "execution_count": 43,
     "metadata": {},
     "output_type": "execute_result"
    }
   ],
   "source": [
    "print(train.shape)\n",
    "train.columns"
   ]
  },
  {
   "cell_type": "code",
   "execution_count": 44,
   "metadata": {
    "collapsed": false
   },
   "outputs": [
    {
     "data": {
      "text/plain": [
       "0.0    2155695\n",
       "1.0     101105\n",
       "Name: click_bool, dtype: int64"
      ]
     },
     "execution_count": 44,
     "metadata": {},
     "output_type": "execute_result"
    }
   ],
   "source": [
    "train.click_bool.value_counts()"
   ]
  },
  {
   "cell_type": "markdown",
   "metadata": {},
   "source": [
    "#### 4.2 Under Sampling of the train data"
   ]
  },
  {
   "cell_type": "code",
   "execution_count": 45,
   "metadata": {
    "collapsed": false
   },
   "outputs": [
    {
     "data": {
      "text/plain": [
       "(252805, 26)"
      ]
     },
     "execution_count": 45,
     "metadata": {},
     "output_type": "execute_result"
    }
   ],
   "source": [
    "click_indices = train[train.click_bool == 1].index #0.40 \n",
    "#random_indices = np.random.choice(click_indices, 101105, replace=False) #0.40 , using np.random.choice as its faster\n",
    "click_sample = train.loc[click_indices]\n",
    "\n",
    "\n",
    "not_click_indices = train[train.click_bool == 0].index\n",
    "random_indices = np.random.choice(not_click_indices,151700, replace=False) #0.60\n",
    "not_click_sample = train.loc[random_indices]\n",
    "\n",
    "df_train = pd.concat([not_click_sample, click_sample], axis=0)\n",
    "df_train.shape"
   ]
  },
  {
   "cell_type": "code",
   "execution_count": 46,
   "metadata": {
    "collapsed": false
   },
   "outputs": [
    {
     "data": {
      "text/plain": [
       "0.0    151700\n",
       "1.0    101105\n",
       "Name: click_bool, dtype: int64"
      ]
     },
     "execution_count": 46,
     "metadata": {},
     "output_type": "execute_result"
    }
   ],
   "source": [
    " df_train.click_bool.value_counts()"
   ]
  },
  {
   "cell_type": "code",
   "execution_count": 47,
   "metadata": {
    "collapsed": false
   },
   "outputs": [
    {
     "data": {
      "text/plain": [
       "Index(['prop_starrating', 'prop_review_score', 'prop_brand_bool',\n",
       "       'prop_location_score1', 'prop_location_score2',\n",
       "       'prop_log_historical_price', 'position', 'price_usd', 'promotion_flag',\n",
       "       'srch_booking_window', 'srch_adults_count', 'srch_saturday_night_bool',\n",
       "       'orig_destination_distance', 'random_bool', 'click_bool',\n",
       "       'site_id_binned', 'visitor_location_country_id_binned',\n",
       "       'prop_country_id_binned', 'prop_id_binned',\n",
       "       'srch_destination_id_binned', 'srch_lenth_of_stay_bin', 'Year', 'Month',\n",
       "       'Day', 'children_occupancy', 'Hour'],\n",
       "      dtype='object')"
      ]
     },
     "execution_count": 47,
     "metadata": {},
     "output_type": "execute_result"
    }
   ],
   "source": [
    "df_train.columns"
   ]
  },
  {
   "cell_type": "markdown",
   "metadata": {},
   "source": [
    "#### 4.3 Removing Outliers"
   ]
  },
  {
   "cell_type": "code",
   "execution_count": 48,
   "metadata": {
    "collapsed": false
   },
   "outputs": [
    {
     "name": "stdout",
     "output_type": "stream",
     "text": [
      "<class 'pandas.core.frame.DataFrame'>\n",
      "Int64Index: 252805 entries, 2478995 to 2350062\n",
      "Data columns (total 26 columns):\n",
      "prop_starrating                       252805 non-null float64\n",
      "prop_review_score                     252805 non-null float64\n",
      "prop_brand_bool                       252805 non-null object\n",
      "prop_location_score1                  252805 non-null float64\n",
      "prop_location_score2                  252805 non-null float64\n",
      "prop_log_historical_price             252805 non-null float64\n",
      "position                              252805 non-null float64\n",
      "price_usd                             252805 non-null float64\n",
      "promotion_flag                        252805 non-null float64\n",
      "srch_booking_window                   252805 non-null float64\n",
      "srch_adults_count                     252805 non-null float64\n",
      "srch_saturday_night_bool              252805 non-null object\n",
      "orig_destination_distance             252805 non-null float64\n",
      "random_bool                           252805 non-null object\n",
      "click_bool                            252805 non-null object\n",
      "site_id_binned                        252805 non-null object\n",
      "visitor_location_country_id_binned    252805 non-null object\n",
      "prop_country_id_binned                252805 non-null object\n",
      "prop_id_binned                        252805 non-null object\n",
      "srch_destination_id_binned            252805 non-null object\n",
      "srch_lenth_of_stay_bin                252805 non-null float64\n",
      "Year                                  252805 non-null object\n",
      "Month                                 252805 non-null object\n",
      "Day                                   252805 non-null object\n",
      "children_occupancy                    252805 non-null object\n",
      "Hour                                  252805 non-null int64\n",
      "dtypes: float64(12), int64(1), object(13)\n",
      "memory usage: 52.1+ MB\n"
     ]
    }
   ],
   "source": [
    "df_train.info()"
   ]
  },
  {
   "cell_type": "code",
   "execution_count": 49,
   "metadata": {
    "collapsed": true
   },
   "outputs": [],
   "source": [
    "df_train_bkp = df_train.copy()"
   ]
  },
  {
   "cell_type": "code",
   "execution_count": 50,
   "metadata": {
    "collapsed": true
   },
   "outputs": [],
   "source": [
    "def cap_outlier(col_name,df_in):\n",
    "    q1, q3= np.percentile(df_in[col_name],[25,75])\n",
    "    iqr = q3-q1 #Interquartile range\n",
    "    fence_low  = q1-(1.5*iqr)\n",
    "    fence_high = q3+(1.5*iqr)\n",
    "    df_in[col_name][df_in[col_name] < fence_low] = fence_low\n",
    "    df_in[col_name][df_in[col_name] > fence_high] = fence_high\n",
    "    return df_in"
   ]
  },
  {
   "cell_type": "markdown",
   "metadata": {
    "collapsed": true
   },
   "source": [
    "##### 1. prop_log_historical_price"
   ]
  },
  {
   "cell_type": "code",
   "execution_count": 52,
   "metadata": {
    "collapsed": false
   },
   "outputs": [
    {
     "data": {
      "text/plain": [
       "<matplotlib.axes._subplots.AxesSubplot at 0x1b20bada630>"
      ]
     },
     "execution_count": 52,
     "metadata": {},
     "output_type": "execute_result"
    },
    {
     "data": {
      "image/png": "[encoded data removed]",
      "text/plain": [
       "<Figure size 432x288 with 1 Axes>"
      ]
     },
     "metadata": {},
     "output_type": "display_data"
    }
   ],
   "source": [
    "import seaborn as sns\n",
    "import matplotlib.pyplot as plt\n",
    "%matplotlib inline\n",
    "sns.boxplot(x=df_train['prop_log_historical_price'])"
   ]
  },
  {
   "cell_type": "code",
   "execution_count": 53,
   "metadata": {
    "collapsed": false
   },
   "outputs": [
    {
     "data": {
      "text/plain": [
       "<matplotlib.axes._subplots.AxesSubplot at 0x1b22d8500b8>"
      ]
     },
     "execution_count": 53,
     "metadata": {},
     "output_type": "execute_result"
    },
    {
     "data": {
      "image/png": "[encoded data removed]",
      "text/plain": [
       "<Figure size 432x288 with 1 Axes>"
      ]
     },
     "metadata": {},
     "output_type": "display_data"
    }
   ],
   "source": [
    "import seaborn as sns\n",
    "sns.boxplot(x=test['prop_log_historical_price'])"
   ]
  },
  {
   "cell_type": "code",
   "execution_count": 54,
   "metadata": {
    "collapsed": false
   },
   "outputs": [
    {
     "name": "stderr",
     "output_type": "stream",
     "text": [
      "C:\\Program Files\\Anaconda3\\lib\\site-packages\\ipykernel\\__main__.py:6: SettingWithCopyWarning: \n",
      "A value is trying to be set on a copy of a slice from a DataFrame\n",
      "\n",
      "See the caveats in the documentation: http://pandas.pydata.org/pandas-docs/stable/indexing.html#indexing-view-versus-copy\n",
      "C:\\Program Files\\Anaconda3\\lib\\site-packages\\pandas\\core\\generic.py:8682: SettingWithCopyWarning: \n",
      "A value is trying to be set on a copy of a slice from a DataFrame\n",
      "\n",
      "See the caveats in the documentation: http://pandas.pydata.org/pandas-docs/stable/indexing.html#indexing-view-versus-copy\n",
      "  self._update_inplace(new_data)\n",
      "C:\\Program Files\\Anaconda3\\lib\\site-packages\\ipykernel\\__main__.py:2: SettingWithCopyWarning: \n",
      "A value is trying to be set on a copy of a slice from a DataFrame\n",
      "\n",
      "See the caveats in the documentation: http://pandas.pydata.org/pandas-docs/stable/indexing.html#indexing-view-versus-copy\n",
      "  from ipykernel import kernelapp as app\n",
      "C:\\Program Files\\Anaconda3\\lib\\site-packages\\ipykernel\\__main__.py:7: SettingWithCopyWarning: \n",
      "A value is trying to be set on a copy of a slice from a DataFrame\n",
      "\n",
      "See the caveats in the documentation: http://pandas.pydata.org/pandas-docs/stable/indexing.html#indexing-view-versus-copy\n"
     ]
    },
    {
     "data": {
      "text/plain": [
       "<matplotlib.axes._subplots.AxesSubplot at 0x1b22d80e208>"
      ]
     },
     "execution_count": 54,
     "metadata": {},
     "output_type": "execute_result"
    },
    {
     "data": {
      "image/png": "[encoded data removed]",
      "text/plain": [
       "<Figure size 432x288 with 1 Axes>"
      ]
     },
     "metadata": {},
     "output_type": "display_data"
    }
   ],
   "source": [
    "#capping outliers\n",
    "test = cap_outlier('prop_log_historical_price',test)\n",
    "sns.boxplot(x=test['prop_log_historical_price'])"
   ]
  },
  {
   "cell_type": "code",
   "execution_count": 55,
   "metadata": {
    "collapsed": false
   },
   "outputs": [
    {
     "name": "stderr",
     "output_type": "stream",
     "text": [
      "C:\\Program Files\\Anaconda3\\lib\\site-packages\\ipykernel\\__main__.py:6: SettingWithCopyWarning: \n",
      "A value is trying to be set on a copy of a slice from a DataFrame\n",
      "\n",
      "See the caveats in the documentation: http://pandas.pydata.org/pandas-docs/stable/indexing.html#indexing-view-versus-copy\n",
      "C:\\Program Files\\Anaconda3\\lib\\site-packages\\ipykernel\\__main__.py:7: SettingWithCopyWarning: \n",
      "A value is trying to be set on a copy of a slice from a DataFrame\n",
      "\n",
      "See the caveats in the documentation: http://pandas.pydata.org/pandas-docs/stable/indexing.html#indexing-view-versus-copy\n"
     ]
    },
    {
     "data": {
      "text/plain": [
       "<matplotlib.axes._subplots.AxesSubplot at 0x1b2080e7860>"
      ]
     },
     "execution_count": 55,
     "metadata": {},
     "output_type": "execute_result"
    },
    {
     "data": {
      "image/png": "[encoded data removed]",
      "text/plain": [
       "<Figure size 432x288 with 1 Axes>"
      ]
     },
     "metadata": {},
     "output_type": "display_data"
    }
   ],
   "source": [
    "df_train = cap_outlier('prop_log_historical_price',df_train)\n",
    "sns.boxplot(df_train['prop_log_historical_price'])\n"
   ]
  },
  {
   "cell_type": "code",
   "execution_count": 56,
   "metadata": {
    "collapsed": true
   },
   "outputs": [],
   "source": [
    "##### 2. price_usd"
   ]
  },
  {
   "cell_type": "code",
   "execution_count": 57,
   "metadata": {
    "collapsed": false
   },
   "outputs": [
    {
     "data": {
      "text/plain": [
       "<matplotlib.axes._subplots.AxesSubplot at 0x1b2082cf358>"
      ]
     },
     "execution_count": 57,
     "metadata": {},
     "output_type": "execute_result"
    },
    {
     "data": {
      "image/png": "[encoded data removed]",
      "text/plain": [
       "<Figure size 432x288 with 1 Axes>"
      ]
     },
     "metadata": {},
     "output_type": "display_data"
    }
   ],
   "source": [
    "sns.boxplot(x=df_train['price_usd'])"
   ]
  },
  {
   "cell_type": "code",
   "execution_count": 58,
   "metadata": {
    "collapsed": false
   },
   "outputs": [
    {
     "data": {
      "text/plain": [
       "<matplotlib.axes._subplots.AxesSubplot at 0x1b22d8326d8>"
      ]
     },
     "execution_count": 58,
     "metadata": {},
     "output_type": "execute_result"
    },
    {
     "data": {
      "image/png": "[encoded data removed]",
      "text/plain": [
       "<Figure size 432x288 with 1 Axes>"
      ]
     },
     "metadata": {},
     "output_type": "display_data"
    }
   ],
   "source": [
    "sns.boxplot(x=test['price_usd'])"
   ]
  },
  {
   "cell_type": "code",
   "execution_count": 59,
   "metadata": {
    "collapsed": false
   },
   "outputs": [
    {
     "data": {
      "text/html": [
       "<div>\n",
       "<style scoped>\n",
       "    .dataframe tbody tr th:only-of-type {\n",
       "        vertical-align: middle;\n",
       "    }\n",
       "\n",
       "    .dataframe tbody tr th {\n",
       "        vertical-align: top;\n",
       "    }\n",
       "\n",
       "    .dataframe thead th {\n",
       "        text-align: right;\n",
       "    }\n",
       "</style>\n",
       "<table border=\"1\" class=\"dataframe\">\n",
       "  <thead>\n",
       "    <tr style=\"text-align: right;\">\n",
       "      <th></th>\n",
       "      <th>prop_starrating</th>\n",
       "      <th>prop_review_score</th>\n",
       "      <th>prop_brand_bool</th>\n",
       "      <th>prop_location_score1</th>\n",
       "      <th>prop_location_score2</th>\n",
       "      <th>prop_log_historical_price</th>\n",
       "      <th>position</th>\n",
       "      <th>price_usd</th>\n",
       "      <th>promotion_flag</th>\n",
       "      <th>srch_booking_window</th>\n",
       "      <th>...</th>\n",
       "      <th>visitor_location_country_id_binned</th>\n",
       "      <th>prop_country_id_binned</th>\n",
       "      <th>prop_id_binned</th>\n",
       "      <th>srch_destination_id_binned</th>\n",
       "      <th>srch_lenth_of_stay_bin</th>\n",
       "      <th>Year</th>\n",
       "      <th>Month</th>\n",
       "      <th>Day</th>\n",
       "      <th>children_occupancy</th>\n",
       "      <th>Hour</th>\n",
       "    </tr>\n",
       "  </thead>\n",
       "  <tbody>\n",
       "    <tr>\n",
       "      <th>2362118</th>\n",
       "      <td>3.0</td>\n",
       "      <td>0.0</td>\n",
       "      <td>0</td>\n",
       "      <td>2.77</td>\n",
       "      <td>0.0277</td>\n",
       "      <td>3.195</td>\n",
       "      <td>28.0</td>\n",
       "      <td>0.0</td>\n",
       "      <td>1.0</td>\n",
       "      <td>2.0</td>\n",
       "      <td>...</td>\n",
       "      <td>999</td>\n",
       "      <td>999</td>\n",
       "      <td>999999</td>\n",
       "      <td>999999</td>\n",
       "      <td>3.0</td>\n",
       "      <td>2013</td>\n",
       "      <td>2</td>\n",
       "      <td>21</td>\n",
       "      <td>No</td>\n",
       "      <td>17</td>\n",
       "    </tr>\n",
       "    <tr>\n",
       "      <th>1436044</th>\n",
       "      <td>3.0</td>\n",
       "      <td>4.5</td>\n",
       "      <td>0</td>\n",
       "      <td>5.02</td>\n",
       "      <td>0.3694</td>\n",
       "      <td>3.195</td>\n",
       "      <td>30.0</td>\n",
       "      <td>0.0</td>\n",
       "      <td>1.0</td>\n",
       "      <td>22.0</td>\n",
       "      <td>...</td>\n",
       "      <td>999</td>\n",
       "      <td>999</td>\n",
       "      <td>999999</td>\n",
       "      <td>999999</td>\n",
       "      <td>1.0</td>\n",
       "      <td>2013</td>\n",
       "      <td>6</td>\n",
       "      <td>5</td>\n",
       "      <td>Yes</td>\n",
       "      <td>20</td>\n",
       "    </tr>\n",
       "  </tbody>\n",
       "</table>\n",
       "<p>2 rows × 26 columns</p>\n",
       "</div>"
      ],
      "text/plain": [
       "         prop_starrating  prop_review_score prop_brand_bool  \\\n",
       "2362118              3.0                0.0               0   \n",
       "1436044              3.0                4.5               0   \n",
       "\n",
       "         prop_location_score1  prop_location_score2  \\\n",
       "2362118                  2.77                0.0277   \n",
       "1436044                  5.02                0.3694   \n",
       "\n",
       "         prop_log_historical_price  position  price_usd  promotion_flag  \\\n",
       "2362118                      3.195      28.0        0.0             1.0   \n",
       "1436044                      3.195      30.0        0.0             1.0   \n",
       "\n",
       "         srch_booking_window  ...  visitor_location_country_id_binned  \\\n",
       "2362118                  2.0  ...                                 999   \n",
       "1436044                 22.0  ...                                 999   \n",
       "\n",
       "        prop_country_id_binned  prop_id_binned srch_destination_id_binned  \\\n",
       "2362118                    999          999999                     999999   \n",
       "1436044                    999          999999                     999999   \n",
       "\n",
       "        srch_lenth_of_stay_bin  Year Month Day children_occupancy Hour  \n",
       "2362118                    3.0  2013     2  21                 No   17  \n",
       "1436044                    1.0  2013     6   5                Yes   20  \n",
       "\n",
       "[2 rows x 26 columns]"
      ]
     },
     "execution_count": 59,
     "metadata": {},
     "output_type": "execute_result"
    }
   ],
   "source": [
    "df_train[df_train.price_usd == 0]"
   ]
  },
  {
   "cell_type": "code",
   "execution_count": 60,
   "metadata": {
    "collapsed": false
   },
   "outputs": [
    {
     "data": {
      "text/html": [
       "<div>\n",
       "<style scoped>\n",
       "    .dataframe tbody tr th:only-of-type {\n",
       "        vertical-align: middle;\n",
       "    }\n",
       "\n",
       "    .dataframe tbody tr th {\n",
       "        vertical-align: top;\n",
       "    }\n",
       "\n",
       "    .dataframe thead th {\n",
       "        text-align: right;\n",
       "    }\n",
       "</style>\n",
       "<table border=\"1\" class=\"dataframe\">\n",
       "  <thead>\n",
       "    <tr style=\"text-align: right;\">\n",
       "      <th></th>\n",
       "      <th>prop_starrating</th>\n",
       "      <th>prop_review_score</th>\n",
       "      <th>prop_brand_bool</th>\n",
       "      <th>prop_location_score1</th>\n",
       "      <th>prop_location_score2</th>\n",
       "      <th>prop_log_historical_price</th>\n",
       "      <th>position</th>\n",
       "      <th>price_usd</th>\n",
       "      <th>promotion_flag</th>\n",
       "      <th>srch_booking_window</th>\n",
       "      <th>...</th>\n",
       "      <th>visitor_location_country_id_binned</th>\n",
       "      <th>prop_country_id_binned</th>\n",
       "      <th>prop_id_binned</th>\n",
       "      <th>srch_destination_id_binned</th>\n",
       "      <th>srch_lenth_of_stay_bin</th>\n",
       "      <th>Year</th>\n",
       "      <th>Month</th>\n",
       "      <th>Day</th>\n",
       "      <th>children_occupancy</th>\n",
       "      <th>Hour</th>\n",
       "    </tr>\n",
       "  </thead>\n",
       "  <tbody>\n",
       "    <tr>\n",
       "      <th>2362141</th>\n",
       "      <td>3.0</td>\n",
       "      <td>0.0</td>\n",
       "      <td>0</td>\n",
       "      <td>2.77</td>\n",
       "      <td>0.0358</td>\n",
       "      <td>4.42</td>\n",
       "      <td>31.0</td>\n",
       "      <td>0.0</td>\n",
       "      <td>1.0</td>\n",
       "      <td>2.0</td>\n",
       "      <td>...</td>\n",
       "      <td>999</td>\n",
       "      <td>999</td>\n",
       "      <td>999999</td>\n",
       "      <td>999999</td>\n",
       "      <td>3.0</td>\n",
       "      <td>2013</td>\n",
       "      <td>2</td>\n",
       "      <td>21</td>\n",
       "      <td>No</td>\n",
       "      <td>17</td>\n",
       "    </tr>\n",
       "    <tr>\n",
       "      <th>1436036</th>\n",
       "      <td>3.0</td>\n",
       "      <td>3.5</td>\n",
       "      <td>0</td>\n",
       "      <td>5.14</td>\n",
       "      <td>0.0862</td>\n",
       "      <td>3.16</td>\n",
       "      <td>6.0</td>\n",
       "      <td>0.0</td>\n",
       "      <td>1.0</td>\n",
       "      <td>22.0</td>\n",
       "      <td>...</td>\n",
       "      <td>999</td>\n",
       "      <td>999</td>\n",
       "      <td>999999</td>\n",
       "      <td>999999</td>\n",
       "      <td>1.0</td>\n",
       "      <td>2013</td>\n",
       "      <td>6</td>\n",
       "      <td>5</td>\n",
       "      <td>Yes</td>\n",
       "      <td>20</td>\n",
       "    </tr>\n",
       "  </tbody>\n",
       "</table>\n",
       "<p>2 rows × 26 columns</p>\n",
       "</div>"
      ],
      "text/plain": [
       "         prop_starrating  prop_review_score prop_brand_bool  \\\n",
       "2362141              3.0                0.0               0   \n",
       "1436036              3.0                3.5               0   \n",
       "\n",
       "         prop_location_score1  prop_location_score2  \\\n",
       "2362141                  2.77                0.0358   \n",
       "1436036                  5.14                0.0862   \n",
       "\n",
       "         prop_log_historical_price  position  price_usd  promotion_flag  \\\n",
       "2362141                       4.42      31.0        0.0             1.0   \n",
       "1436036                       3.16       6.0        0.0             1.0   \n",
       "\n",
       "         srch_booking_window  ...  visitor_location_country_id_binned  \\\n",
       "2362141                  2.0  ...                                 999   \n",
       "1436036                 22.0  ...                                 999   \n",
       "\n",
       "        prop_country_id_binned  prop_id_binned srch_destination_id_binned  \\\n",
       "2362141                    999          999999                     999999   \n",
       "1436036                    999          999999                     999999   \n",
       "\n",
       "        srch_lenth_of_stay_bin  Year Month Day children_occupancy Hour  \n",
       "2362141                    3.0  2013     2  21                 No   17  \n",
       "1436036                    1.0  2013     6   5                Yes   20  \n",
       "\n",
       "[2 rows x 26 columns]"
      ]
     },
     "execution_count": 60,
     "metadata": {},
     "output_type": "execute_result"
    }
   ],
   "source": [
    "test[test.price_usd == 0]"
   ]
  },
  {
   "cell_type": "code",
   "execution_count": 61,
   "metadata": {
    "collapsed": true
   },
   "outputs": [],
   "source": [
    "#Removing such rows\n",
    "df_train = df_train[df_train.price_usd != 0]\n",
    "test = test[test.price_usd != 0]"
   ]
  },
  {
   "cell_type": "code",
   "execution_count": 62,
   "metadata": {
    "collapsed": false
   },
   "outputs": [
    {
     "name": "stderr",
     "output_type": "stream",
     "text": [
      "C:\\Program Files\\Anaconda3\\lib\\site-packages\\ipykernel\\__main__.py:7: SettingWithCopyWarning: \n",
      "A value is trying to be set on a copy of a slice from a DataFrame\n",
      "\n",
      "See the caveats in the documentation: http://pandas.pydata.org/pandas-docs/stable/indexing.html#indexing-view-versus-copy\n"
     ]
    },
    {
     "data": {
      "text/plain": [
       "<matplotlib.axes._subplots.AxesSubplot at 0x1b20d1efdd8>"
      ]
     },
     "execution_count": 62,
     "metadata": {},
     "output_type": "execute_result"
    },
    {
     "data": {
      "image/png": "[encoded data removed]",
      "text/plain": [
       "<Figure size 432x288 with 1 Axes>"
      ]
     },
     "metadata": {},
     "output_type": "display_data"
    }
   ],
   "source": [
    "df_train = cap_outlier('price_usd',df_train)\n",
    "sns.boxplot(df_train['price_usd'])"
   ]
  },
  {
   "cell_type": "code",
   "execution_count": 63,
   "metadata": {
    "collapsed": false
   },
   "outputs": [
    {
     "name": "stderr",
     "output_type": "stream",
     "text": [
      "C:\\Program Files\\Anaconda3\\lib\\site-packages\\ipykernel\\__main__.py:7: SettingWithCopyWarning: \n",
      "A value is trying to be set on a copy of a slice from a DataFrame\n",
      "\n",
      "See the caveats in the documentation: http://pandas.pydata.org/pandas-docs/stable/indexing.html#indexing-view-versus-copy\n"
     ]
    },
    {
     "data": {
      "text/plain": [
       "<matplotlib.axes._subplots.AxesSubplot at 0x1b20d213cf8>"
      ]
     },
     "execution_count": 63,
     "metadata": {},
     "output_type": "execute_result"
    },
    {
     "data": {
      "image/png": "[encoded data removed]",
      "text/plain": [
       "<Figure size 432x288 with 1 Axes>"
      ]
     },
     "metadata": {},
     "output_type": "display_data"
    }
   ],
   "source": [
    "test = cap_outlier('price_usd',test)\n",
    "sns.boxplot(test['price_usd'])"
   ]
  },
  {
   "cell_type": "markdown",
   "metadata": {
    "collapsed": true
   },
   "source": [
    "##### 3. prop_review_score"
   ]
  },
  {
   "cell_type": "code",
   "execution_count": 65,
   "metadata": {
    "collapsed": false
   },
   "outputs": [
    {
     "data": {
      "text/plain": [
       "<matplotlib.axes._subplots.AxesSubplot at 0x1b20899bcf8>"
      ]
     },
     "execution_count": 65,
     "metadata": {},
     "output_type": "execute_result"
    },
    {
     "data": {
      "image/png": "[encoded data removed]",
      "text/plain": [
       "<Figure size 432x288 with 1 Axes>"
      ]
     },
     "metadata": {},
     "output_type": "display_data"
    }
   ],
   "source": [
    "sns.boxplot(x=df_train['prop_review_score'])"
   ]
  },
  {
   "cell_type": "code",
   "execution_count": 66,
   "metadata": {
    "collapsed": false
   },
   "outputs": [
    {
     "data": {
      "text/plain": [
       "<matplotlib.axes._subplots.AxesSubplot at 0x1b208d535f8>"
      ]
     },
     "execution_count": 66,
     "metadata": {},
     "output_type": "execute_result"
    },
    {
     "data": {
      "image/png": "[encoded data removed]",
      "text/plain": [
       "<Figure size 432x288 with 1 Axes>"
      ]
     },
     "metadata": {},
     "output_type": "display_data"
    }
   ],
   "source": [
    "sns.boxplot(test['prop_review_score'])"
   ]
  },
  {
   "cell_type": "code",
   "execution_count": 67,
   "metadata": {
    "collapsed": false
   },
   "outputs": [
    {
     "name": "stderr",
     "output_type": "stream",
     "text": [
      "C:\\Program Files\\Anaconda3\\lib\\site-packages\\ipykernel\\__main__.py:7: SettingWithCopyWarning: \n",
      "A value is trying to be set on a copy of a slice from a DataFrame\n",
      "\n",
      "See the caveats in the documentation: http://pandas.pydata.org/pandas-docs/stable/indexing.html#indexing-view-versus-copy\n"
     ]
    },
    {
     "data": {
      "text/plain": [
       "<matplotlib.axes._subplots.AxesSubplot at 0x1b208d897f0>"
      ]
     },
     "execution_count": 67,
     "metadata": {},
     "output_type": "execute_result"
    },
    {
     "data": {
      "image/png": "[encoded data removed]",
      "text/plain": [
       "<Figure size 432x288 with 1 Axes>"
      ]
     },
     "metadata": {},
     "output_type": "display_data"
    }
   ],
   "source": [
    "test = cap_outlier('prop_review_score',test)\n",
    "sns.boxplot(test['prop_review_score'])"
   ]
  },
  {
   "cell_type": "code",
   "execution_count": 68,
   "metadata": {
    "collapsed": false
   },
   "outputs": [
    {
     "name": "stderr",
     "output_type": "stream",
     "text": [
      "C:\\Program Files\\Anaconda3\\lib\\site-packages\\ipykernel\\__main__.py:7: SettingWithCopyWarning: \n",
      "A value is trying to be set on a copy of a slice from a DataFrame\n",
      "\n",
      "See the caveats in the documentation: http://pandas.pydata.org/pandas-docs/stable/indexing.html#indexing-view-versus-copy\n"
     ]
    },
    {
     "data": {
      "text/plain": [
       "<matplotlib.axes._subplots.AxesSubplot at 0x1b208dae780>"
      ]
     },
     "execution_count": 68,
     "metadata": {},
     "output_type": "execute_result"
    },
    {
     "data": {
      "image/png": "[encoded data removed]",
      "text/plain": [
       "<Figure size 432x288 with 1 Axes>"
      ]
     },
     "metadata": {},
     "output_type": "display_data"
    }
   ],
   "source": [
    "df_train = cap_outlier('prop_review_score',df_train)\n",
    "sns.boxplot(df_train['prop_review_score'])"
   ]
  },
  {
   "cell_type": "code",
   "execution_count": 69,
   "metadata": {
    "collapsed": false
   },
   "outputs": [
    {
     "data": {
      "text/plain": [
       "(252803, 26)"
      ]
     },
     "execution_count": 69,
     "metadata": {},
     "output_type": "execute_result"
    }
   ],
   "source": [
    "df_train.shape"
   ]
  },
  {
   "cell_type": "code",
   "execution_count": 70,
   "metadata": {
    "collapsed": false
   },
   "outputs": [
    {
     "data": {
      "text/plain": [
       "(967199, 26)"
      ]
     },
     "execution_count": 70,
     "metadata": {},
     "output_type": "execute_result"
    }
   ],
   "source": [
    "test.shape"
   ]
  },
  {
   "cell_type": "markdown",
   "metadata": {},
   "source": [
    "##### 4. prop_location_score1"
   ]
  },
  {
   "cell_type": "code",
   "execution_count": 71,
   "metadata": {
    "collapsed": false
   },
   "outputs": [
    {
     "data": {
      "text/plain": [
       "<matplotlib.axes._subplots.AxesSubplot at 0x1b208df3278>"
      ]
     },
     "execution_count": 71,
     "metadata": {},
     "output_type": "execute_result"
    },
    {
     "data": {
      "image/png": "[encoded data removed]",
      "text/plain": [
       "<Figure size 432x288 with 1 Axes>"
      ]
     },
     "metadata": {},
     "output_type": "display_data"
    }
   ],
   "source": [
    "sns.boxplot(x=df_train['prop_location_score1'])"
   ]
  },
  {
   "cell_type": "code",
   "execution_count": 72,
   "metadata": {
    "collapsed": false
   },
   "outputs": [
    {
     "data": {
      "text/plain": [
       "<matplotlib.axes._subplots.AxesSubplot at 0x1b208d53be0>"
      ]
     },
     "execution_count": 72,
     "metadata": {},
     "output_type": "execute_result"
    },
    {
     "data": {
      "image/png": "[encoded data removed]",
      "text/plain": [
       "<Figure size 432x288 with 1 Axes>"
      ]
     },
     "metadata": {},
     "output_type": "display_data"
    }
   ],
   "source": [
    "sns.boxplot(x=test['prop_location_score1'])"
   ]
  },
  {
   "cell_type": "markdown",
   "metadata": {},
   "source": [
    "##### 5. prop_location_score2"
   ]
  },
  {
   "cell_type": "code",
   "execution_count": 73,
   "metadata": {
    "collapsed": false
   },
   "outputs": [
    {
     "data": {
      "text/plain": [
       "<matplotlib.axes._subplots.AxesSubplot at 0x1b208e62400>"
      ]
     },
     "execution_count": 73,
     "metadata": {},
     "output_type": "execute_result"
    },
    {
     "data": {
      "image/png": "[encoded data removed]",
      "text/plain": [
       "<Figure size 432x288 with 1 Axes>"
      ]
     },
     "metadata": {},
     "output_type": "display_data"
    }
   ],
   "source": [
    "sns.boxplot(x=df_train['prop_location_score2'])"
   ]
  },
  {
   "cell_type": "code",
   "execution_count": 74,
   "metadata": {
    "collapsed": false
   },
   "outputs": [
    {
     "data": {
      "text/plain": [
       "<matplotlib.axes._subplots.AxesSubplot at 0x1b208ea6a58>"
      ]
     },
     "execution_count": 74,
     "metadata": {},
     "output_type": "execute_result"
    },
    {
     "data": {
      "image/png": "[encoded data removed]",
      "text/plain": [
       "<Figure size 432x288 with 1 Axes>"
      ]
     },
     "metadata": {},
     "output_type": "display_data"
    }
   ],
   "source": [
    "sns.boxplot(x=test['prop_location_score2'])"
   ]
  },
  {
   "cell_type": "code",
   "execution_count": 75,
   "metadata": {
    "collapsed": false
   },
   "outputs": [
    {
     "name": "stderr",
     "output_type": "stream",
     "text": [
      "C:\\Program Files\\Anaconda3\\lib\\site-packages\\ipykernel\\__main__.py:7: SettingWithCopyWarning: \n",
      "A value is trying to be set on a copy of a slice from a DataFrame\n",
      "\n",
      "See the caveats in the documentation: http://pandas.pydata.org/pandas-docs/stable/indexing.html#indexing-view-versus-copy\n"
     ]
    },
    {
     "data": {
      "text/plain": [
       "<matplotlib.axes._subplots.AxesSubplot at 0x1b208ed5438>"
      ]
     },
     "execution_count": 75,
     "metadata": {},
     "output_type": "execute_result"
    },
    {
     "data": {
      "image/png": "[encoded data removed]",
      "text/plain": [
       "<Figure size 432x288 with 1 Axes>"
      ]
     },
     "metadata": {},
     "output_type": "display_data"
    }
   ],
   "source": [
    "df_train = cap_outlier('prop_location_score2',df_train)\n",
    "sns.boxplot(df_train['prop_location_score2'])"
   ]
  },
  {
   "cell_type": "code",
   "execution_count": 76,
   "metadata": {
    "collapsed": false
   },
   "outputs": [
    {
     "name": "stderr",
     "output_type": "stream",
     "text": [
      "C:\\Program Files\\Anaconda3\\lib\\site-packages\\ipykernel\\__main__.py:7: SettingWithCopyWarning: \n",
      "A value is trying to be set on a copy of a slice from a DataFrame\n",
      "\n",
      "See the caveats in the documentation: http://pandas.pydata.org/pandas-docs/stable/indexing.html#indexing-view-versus-copy\n"
     ]
    },
    {
     "data": {
      "text/plain": [
       "<matplotlib.axes._subplots.AxesSubplot at 0x1b208f0c550>"
      ]
     },
     "execution_count": 76,
     "metadata": {},
     "output_type": "execute_result"
    },
    {
     "data": {
      "image/png": "[encoded data removed]",
      "text/plain": [
       "<Figure size 432x288 with 1 Axes>"
      ]
     },
     "metadata": {},
     "output_type": "display_data"
    }
   ],
   "source": [
    "test = cap_outlier('prop_location_score2',test)\n",
    "sns.boxplot(test['prop_location_score2'])"
   ]
  },
  {
   "cell_type": "markdown",
   "metadata": {},
   "source": [
    "##### 6. srch_booking_window"
   ]
  },
  {
   "cell_type": "code",
   "execution_count": 78,
   "metadata": {
    "collapsed": false
   },
   "outputs": [
    {
     "data": {
      "text/plain": [
       "<matplotlib.axes._subplots.AxesSubplot at 0x1b208e6d438>"
      ]
     },
     "execution_count": 78,
     "metadata": {},
     "output_type": "execute_result"
    },
    {
     "data": {
      "image/png": "[encoded data removed]",
      "text/plain": [
       "<Figure size 432x288 with 1 Axes>"
      ]
     },
     "metadata": {},
     "output_type": "display_data"
    }
   ],
   "source": [
    "sns.boxplot(x=df_train['srch_booking_window'])"
   ]
  },
  {
   "cell_type": "code",
   "execution_count": 81,
   "metadata": {
    "collapsed": false
   },
   "outputs": [
    {
     "data": {
      "text/plain": [
       "<matplotlib.axes._subplots.AxesSubplot at 0x1b20bdc9ac8>"
      ]
     },
     "execution_count": 81,
     "metadata": {},
     "output_type": "execute_result"
    },
    {
     "data": {
      "image/png": "[encoded data removed]",
      "text/plain": [
       "<Figure size 432x288 with 1 Axes>"
      ]
     },
     "metadata": {},
     "output_type": "display_data"
    }
   ],
   "source": [
    "sns.boxplot(x=test['srch_booking_window'])"
   ]
  },
  {
   "cell_type": "code",
   "execution_count": 82,
   "metadata": {
    "collapsed": false
   },
   "outputs": [
    {
     "name": "stderr",
     "output_type": "stream",
     "text": [
      "C:\\Program Files\\Anaconda3\\lib\\site-packages\\ipykernel\\__main__.py:7: SettingWithCopyWarning: \n",
      "A value is trying to be set on a copy of a slice from a DataFrame\n",
      "\n",
      "See the caveats in the documentation: http://pandas.pydata.org/pandas-docs/stable/indexing.html#indexing-view-versus-copy\n"
     ]
    },
    {
     "data": {
      "text/plain": [
       "<matplotlib.axes._subplots.AxesSubplot at 0x1b20be090b8>"
      ]
     },
     "execution_count": 82,
     "metadata": {},
     "output_type": "execute_result"
    },
    {
     "data": {
      "image/png": "[encoded data removed]",
      "text/plain": [
       "<Figure size 432x288 with 1 Axes>"
      ]
     },
     "metadata": {},
     "output_type": "display_data"
    }
   ],
   "source": [
    "df_train = cap_outlier('srch_booking_window',df_train)\n",
    "sns.boxplot(df_train['srch_booking_window'])"
   ]
  },
  {
   "cell_type": "code",
   "execution_count": 83,
   "metadata": {
    "collapsed": false
   },
   "outputs": [
    {
     "name": "stderr",
     "output_type": "stream",
     "text": [
      "C:\\Program Files\\Anaconda3\\lib\\site-packages\\ipykernel\\__main__.py:7: SettingWithCopyWarning: \n",
      "A value is trying to be set on a copy of a slice from a DataFrame\n",
      "\n",
      "See the caveats in the documentation: http://pandas.pydata.org/pandas-docs/stable/indexing.html#indexing-view-versus-copy\n"
     ]
    },
    {
     "data": {
      "text/plain": [
       "<matplotlib.axes._subplots.AxesSubplot at 0x1b20be27588>"
      ]
     },
     "execution_count": 83,
     "metadata": {},
     "output_type": "execute_result"
    },
    {
     "data": {
      "image/png": "[encoded data removed]",
      "text/plain": [
       "<Figure size 432x288 with 1 Axes>"
      ]
     },
     "metadata": {},
     "output_type": "display_data"
    }
   ],
   "source": [
    "test = cap_outlier('srch_booking_window',test)\n",
    "sns.boxplot(test['srch_booking_window'])"
   ]
  },
  {
   "cell_type": "markdown",
   "metadata": {},
   "source": [
    "##### 7. orig_destination_distance"
   ]
  },
  {
   "cell_type": "code",
   "execution_count": 84,
   "metadata": {
    "collapsed": false
   },
   "outputs": [
    {
     "data": {
      "text/plain": [
       "<matplotlib.axes._subplots.AxesSubplot at 0x1b20c0eb630>"
      ]
     },
     "execution_count": 84,
     "metadata": {},
     "output_type": "execute_result"
    },
    {
     "data": {
      "image/png": "[encoded data removed]",
      "text/plain": [
       "<Figure size 432x288 with 1 Axes>"
      ]
     },
     "metadata": {},
     "output_type": "display_data"
    }
   ],
   "source": [
    "sns.boxplot(x=df_train.orig_destination_distance)"
   ]
  },
  {
   "cell_type": "code",
   "execution_count": 85,
   "metadata": {
    "collapsed": false
   },
   "outputs": [
    {
     "data": {
      "text/plain": [
       "<matplotlib.axes._subplots.AxesSubplot at 0x1b20c133b00>"
      ]
     },
     "execution_count": 85,
     "metadata": {},
     "output_type": "execute_result"
    },
    {
     "data": {
      "image/png": "[encoded data removed]",
      "text/plain": [
       "<Figure size 432x288 with 1 Axes>"
      ]
     },
     "metadata": {},
     "output_type": "display_data"
    }
   ],
   "source": [
    "sns.boxplot(x=test['orig_destination_distance'])"
   ]
  },
  {
   "cell_type": "code",
   "execution_count": 86,
   "metadata": {
    "collapsed": false
   },
   "outputs": [
    {
     "name": "stderr",
     "output_type": "stream",
     "text": [
      "C:\\Program Files\\Anaconda3\\lib\\site-packages\\ipykernel\\__main__.py:7: SettingWithCopyWarning: \n",
      "A value is trying to be set on a copy of a slice from a DataFrame\n",
      "\n",
      "See the caveats in the documentation: http://pandas.pydata.org/pandas-docs/stable/indexing.html#indexing-view-versus-copy\n"
     ]
    },
    {
     "data": {
      "text/plain": [
       "<matplotlib.axes._subplots.AxesSubplot at 0x1b20c15b1d0>"
      ]
     },
     "execution_count": 86,
     "metadata": {},
     "output_type": "execute_result"
    },
    {
     "data": {
      "image/png": "[encoded data removed]",
      "text/plain": [
       "<Figure size 432x288 with 1 Axes>"
      ]
     },
     "metadata": {},
     "output_type": "display_data"
    }
   ],
   "source": [
    "df_train = cap_outlier('orig_destination_distance',df_train)\n",
    "sns.boxplot(df_train['orig_destination_distance'])"
   ]
  },
  {
   "cell_type": "code",
   "execution_count": 87,
   "metadata": {
    "collapsed": false
   },
   "outputs": [
    {
     "name": "stderr",
     "output_type": "stream",
     "text": [
      "C:\\Program Files\\Anaconda3\\lib\\site-packages\\ipykernel\\__main__.py:7: SettingWithCopyWarning: \n",
      "A value is trying to be set on a copy of a slice from a DataFrame\n",
      "\n",
      "See the caveats in the documentation: http://pandas.pydata.org/pandas-docs/stable/indexing.html#indexing-view-versus-copy\n"
     ]
    },
    {
     "data": {
      "text/plain": [
       "<matplotlib.axes._subplots.AxesSubplot at 0x1b20c0fc8d0>"
      ]
     },
     "execution_count": 87,
     "metadata": {},
     "output_type": "execute_result"
    },
    {
     "data": {
      "image/png": "[encoded data removed]",
      "text/plain": [
       "<Figure size 432x288 with 1 Axes>"
      ]
     },
     "metadata": {},
     "output_type": "display_data"
    }
   ],
   "source": [
    "test = cap_outlier('orig_destination_distance',test)\n",
    "sns.boxplot(test['orig_destination_distance'])"
   ]
  },
  {
   "cell_type": "markdown",
   "metadata": {},
   "source": [
    "#Dataframes with outliers removed\n",
    "df_train.to_csv('df_train.csv',index=False)\n",
    "test.to_csv('test.csv',index=False)"
   ]
  },
  {
   "cell_type": "code",
   "execution_count": 88,
   "metadata": {
    "collapsed": false
   },
   "outputs": [
    {
     "data": {
      "text/plain": [
       "Index(['prop_starrating', 'prop_review_score', 'prop_brand_bool',\n",
       "       'prop_location_score1', 'prop_location_score2',\n",
       "       'prop_log_historical_price', 'position', 'price_usd', 'promotion_flag',\n",
       "       'srch_booking_window', 'srch_adults_count', 'srch_saturday_night_bool',\n",
       "       'orig_destination_distance', 'random_bool', 'click_bool',\n",
       "       'site_id_binned', 'visitor_location_country_id_binned',\n",
       "       'prop_country_id_binned', 'prop_id_binned',\n",
       "       'srch_destination_id_binned', 'srch_lenth_of_stay_bin', 'Year', 'Month',\n",
       "       'Day', 'children_occupancy', 'Hour'],\n",
       "      dtype='object')"
      ]
     },
     "execution_count": 88,
     "metadata": {},
     "output_type": "execute_result"
    }
   ],
   "source": [
    "df_train.columns"
   ]
  },
  {
   "cell_type": "markdown",
   "metadata": {},
   "source": [
    "#### 4.4 Feature Selection using Random Forest"
   ]
  },
  {
   "cell_type": "code",
   "execution_count": 89,
   "metadata": {
    "collapsed": true
   },
   "outputs": [],
   "source": [
    "# One Hot Encoding\n",
    "X_train = df_train.loc[:,~df_train.columns.isin(['click_bool'])]\n",
    "y_train = df_train['click_bool']\n",
    "X_train_dummy = pd.get_dummies(X_train,drop_first=True,prefix_sep='_')\n",
    "\n",
    "X_test = test.loc[:,~test.columns.isin(['click_bool'])]\n",
    "y_test = test['click_bool']\n",
    "X_test_dummy = pd.get_dummies(X_test,drop_first=True,prefix_sep='_')"
   ]
  },
  {
   "cell_type": "code",
   "execution_count": 90,
   "metadata": {
    "collapsed": false
   },
   "outputs": [
    {
     "data": {
      "text/plain": [
       "Index(['prop_starrating', 'prop_review_score', 'prop_location_score1',\n",
       "       'prop_location_score2', 'prop_log_historical_price', 'position',\n",
       "       'price_usd', 'promotion_flag', 'srch_booking_window',\n",
       "       'srch_adults_count',\n",
       "       ...\n",
       "       'Day_23', 'Day_24', 'Day_25', 'Day_26', 'Day_27', 'Day_28', 'Day_29',\n",
       "       'Day_30', 'Day_31', 'children_occupancy_Yes'],\n",
       "      dtype='object', length=222)"
      ]
     },
     "execution_count": 90,
     "metadata": {},
     "output_type": "execute_result"
    }
   ],
   "source": [
    "X_train_dummy.columns"
   ]
  },
  {
   "cell_type": "code",
   "execution_count": 91,
   "metadata": {
    "collapsed": false
   },
   "outputs": [
    {
     "name": "stdout",
     "output_type": "stream",
     "text": [
      "The selected features are  Index(['prop_starrating', 'prop_review_score', 'prop_location_score1',\n",
      "       'prop_location_score2', 'prop_log_historical_price', 'position',\n",
      "       'price_usd', 'promotion_flag', 'srch_booking_window',\n",
      "       'srch_adults_count', 'orig_destination_distance',\n",
      "       'srch_lenth_of_stay_bin', 'Hour', 'prop_brand_bool_1.0',\n",
      "       'srch_saturday_night_bool_1.0', 'random_bool_1.0',\n",
      "       'visitor_location_country_id_binned_219', 'prop_country_id_binned_219',\n",
      "       'srch_destination_id_binned_999999.0', 'Year_2013', 'Month_11',\n",
      "       'Month_12', 'Month_2', 'Month_3', 'Month_4', 'Month_5', 'Month_6',\n",
      "       'children_occupancy_Yes'],\n",
      "      dtype='object')\n"
     ]
    }
   ],
   "source": [
    "from sklearn.ensemble.forest import RandomForestClassifier\n",
    "from sklearn.feature_selection import SelectFromModel\n",
    "\n",
    "sel = SelectFromModel(RandomForestClassifier(n_estimators = 100))\n",
    "sel.fit(X_train_dummy, y_train.astype(int))\n",
    "selected_feat= X_train_dummy.columns[(sel.get_support())]\n",
    "print('The selected features are ',selected_feat)"
   ]
  },
  {
   "cell_type": "code",
   "execution_count": 92,
   "metadata": {
    "collapsed": false
   },
   "outputs": [
    {
     "name": "stdout",
     "output_type": "stream",
     "text": [
      "(252803, 222)\n"
     ]
    },
    {
     "data": {
      "text/plain": [
       "Index(['prop_starrating', 'prop_review_score', 'prop_location_score1',\n",
       "       'prop_location_score2', 'prop_log_historical_price', 'position',\n",
       "       'price_usd', 'promotion_flag', 'srch_booking_window',\n",
       "       'srch_adults_count',\n",
       "       ...\n",
       "       'Day_23', 'Day_24', 'Day_25', 'Day_26', 'Day_27', 'Day_28', 'Day_29',\n",
       "       'Day_30', 'Day_31', 'children_occupancy_Yes'],\n",
       "      dtype='object', length=222)"
      ]
     },
     "execution_count": 92,
     "metadata": {},
     "output_type": "execute_result"
    }
   ],
   "source": [
    "print(X_train_dummy.shape)\n",
    "X_train_dummy.columns"
   ]
  },
  {
   "cell_type": "code",
   "execution_count": 93,
   "metadata": {
    "collapsed": false,
    "scrolled": true
   },
   "outputs": [
    {
     "data": {
      "text/plain": [
       "['Day_2',\n",
       " 'Day_3',\n",
       " 'Day_4',\n",
       " 'Day_5',\n",
       " 'Day_6',\n",
       " 'Day_7',\n",
       " 'Day_8',\n",
       " 'Day_9',\n",
       " 'Day_10',\n",
       " 'Day_11',\n",
       " 'Day_12',\n",
       " 'Day_13',\n",
       " 'Day_14',\n",
       " 'Day_15',\n",
       " 'Day_16',\n",
       " 'Day_17',\n",
       " 'Day_18',\n",
       " 'Day_19',\n",
       " 'Day_20',\n",
       " 'Day_21',\n",
       " 'Day_22',\n",
       " 'Day_23',\n",
       " 'Day_24',\n",
       " 'Day_25',\n",
       " 'Day_26',\n",
       " 'Day_27',\n",
       " 'Day_28',\n",
       " 'Day_29',\n",
       " 'Day_30',\n",
       " 'Day_31']"
      ]
     },
     "execution_count": 93,
     "metadata": {},
     "output_type": "execute_result"
    }
   ],
   "source": [
    "filter_cols = [col for col in X_train_dummy if (col.startswith('Day') )]\n",
    "filter_cols"
   ]
  },
  {
   "cell_type": "code",
   "execution_count": 94,
   "metadata": {
    "collapsed": true
   },
   "outputs": [],
   "source": [
    "X_train_dummy_new = X_train_dummy.drop(filter_cols,axis=1)"
   ]
  },
  {
   "cell_type": "code",
   "execution_count": 95,
   "metadata": {
    "collapsed": false
   },
   "outputs": [
    {
     "data": {
      "text/plain": [
       "(252803, 192)"
      ]
     },
     "execution_count": 95,
     "metadata": {},
     "output_type": "execute_result"
    }
   ],
   "source": [
    "X_train_dummy_new.shape"
   ]
  },
  {
   "cell_type": "code",
   "execution_count": 96,
   "metadata": {
    "collapsed": false
   },
   "outputs": [
    {
     "data": {
      "text/plain": [
       "(967199, 192)"
      ]
     },
     "execution_count": 96,
     "metadata": {},
     "output_type": "execute_result"
    }
   ],
   "source": [
    "X_test_dummy_new = X_test_dummy.drop(filter_cols,axis=1)\n",
    "X_test_dummy_new.shape"
   ]
  },
  {
   "cell_type": "markdown",
   "metadata": {},
   "source": [
    "#### 4.5 Decision Tree Model "
   ]
  },
  {
   "cell_type": "markdown",
   "metadata": {},
   "source": [
    "###### 4.5.1 Without Tuning"
   ]
  },
  {
   "cell_type": "code",
   "execution_count": 97,
   "metadata": {
    "collapsed": false
   },
   "outputs": [
    {
     "name": "stdout",
     "output_type": "stream",
     "text": [
      "DecisionTreeClassifier(class_weight=None, criterion='gini', max_depth=None,\n",
      "            max_features=None, max_leaf_nodes=None,\n",
      "            min_impurity_decrease=0.0, min_impurity_split=None,\n",
      "            min_samples_leaf=1, min_samples_split=2,\n",
      "            min_weight_fraction_leaf=0.0, presort=False, random_state=None,\n",
      "            splitter='best')\n",
      "0.6681996155910004\n",
      "              precision    recall  f1-score   support\n",
      "\n",
      "           0       0.97      0.67      0.80    924115\n",
      "           1       0.07      0.52      0.12     43084\n",
      "\n",
      "   micro avg       0.67      0.67      0.67    967199\n",
      "   macro avg       0.52      0.60      0.46    967199\n",
      "weighted avg       0.93      0.67      0.77    967199\n",
      "\n",
      "ROC AUC SCORE  0.5988525312280738\n"
     ]
    }
   ],
   "source": [
    "from sklearn.tree import DecisionTreeClassifier\n",
    "from sklearn import metrics as sm\n",
    "from sklearn.metrics import auc\n",
    "\n",
    "dt = DecisionTreeClassifier().fit(X_train_dummy_new,y_train.astype(int))\n",
    "pred = dt.predict(X_test_dummy_new)\n",
    "print(dt)\n",
    "print((sm.accuracy_score(y_test.astype(int),pred)))\n",
    "print(sm.classification_report(y_test.astype(int),pred))\n",
    "\n",
    "# Compute ROC curve and ROC area for each class\n",
    "fpr, tpr, threshold = sm.roc_curve(y_test.astype(int),pred)\n",
    "roc_auc = auc(fpr, tpr)\n",
    "print(\"ROC AUC SCORE \",roc_auc)"
   ]
  },
  {
   "cell_type": "markdown",
   "metadata": {},
   "source": [
    "###### 4.5.2 With Tuning"
   ]
  },
  {
   "cell_type": "code",
   "execution_count": 98,
   "metadata": {
    "collapsed": false
   },
   "outputs": [
    {
     "name": "stdout",
     "output_type": "stream",
     "text": [
      "{'max_features': ['auto', 'sqrt'], 'min_samples_leaf': [20, 30, 50, 70], 'max_depth': [20, 30, 40, 50], 'min_samples_split': [100, 200, 300, 500]}\n"
     ]
    }
   ],
   "source": [
    "from sklearn.model_selection import RandomizedSearchCV\n",
    "\n",
    "# Number of features to consider at every split\n",
    "max_features = ['auto', 'sqrt']\n",
    "\n",
    "# Maximum number of levels in tree\n",
    "max_depth = [20,30,40,50]\n",
    "\n",
    "# Minimum number of samples required to split a node\n",
    "min_samples_split = [100, 200,300,500]\n",
    "\n",
    "# Minimum number of samples required at each leaf node\n",
    "min_samples_leaf = [20,30,50,70]\n",
    "\n",
    "# Create the random grid\n",
    "random_grid = {\n",
    "               'max_features': max_features,\n",
    "               'max_depth': max_depth,\n",
    "               'min_samples_split': min_samples_split,\n",
    "               'min_samples_leaf': min_samples_leaf}\n",
    "print(random_grid)"
   ]
  },
  {
   "cell_type": "code",
   "execution_count": 99,
   "metadata": {
    "collapsed": false
   },
   "outputs": [
    {
     "name": "stdout",
     "output_type": "stream",
     "text": [
      "Start of Randomized Search CV  2019-05-08 23:34:06.212874\n",
      "End of Randomized Search CV  2019-05-08 23:38:12.621175\n"
     ]
    }
   ],
   "source": [
    "import datetime\n",
    "\n",
    "print(\"Start of Randomized Search CV \",datetime.datetime.now())\n",
    "dt_random_srch = RandomizedSearchCV(estimator=dt,param_distributions=random_grid,n_iter=30,random_state=0,cv=5)\n",
    "# Fit the random search model\n",
    "dt_random_srch.fit(X_train_dummy_new,y_train.astype(int))\n",
    "print(\"End of Randomized Search CV \",datetime.datetime.now())"
   ]
  },
  {
   "cell_type": "code",
   "execution_count": 100,
   "metadata": {
    "collapsed": false
   },
   "outputs": [
    {
     "data": {
      "text/plain": [
       "{'max_depth': 40,\n",
       " 'max_features': 'sqrt',\n",
       " 'min_samples_leaf': 50,\n",
       " 'min_samples_split': 300}"
      ]
     },
     "execution_count": 100,
     "metadata": {},
     "output_type": "execute_result"
    }
   ],
   "source": [
    "dt_random_srch.best_params_"
   ]
  },
  {
   "cell_type": "code",
   "execution_count": 107,
   "metadata": {
    "collapsed": false
   },
   "outputs": [
    {
     "name": "stdout",
     "output_type": "stream",
     "text": [
      "DecisionTreeClassifier(class_weight=None, criterion='gini', max_depth=40,\n",
      "            max_features='sqrt', max_leaf_nodes=None,\n",
      "            min_impurity_decrease=0.0, min_impurity_split=None,\n",
      "            min_samples_leaf=50, min_samples_split=300,\n",
      "            min_weight_fraction_leaf=0.0, presort=False, random_state=0,\n",
      "            splitter='best')\n",
      "0.816244640451448\n",
      "              precision    recall  f1-score   support\n",
      "\n",
      "           0       0.97      0.84      0.90    924115\n",
      "           1       0.09      0.35      0.15     43084\n",
      "\n",
      "   micro avg       0.82      0.82      0.82    967199\n",
      "   macro avg       0.53      0.59      0.52    967199\n",
      "weighted avg       0.93      0.82      0.86    967199\n",
      "\n",
      "ROC AUC SCORE  0.5946614156456661\n"
     ]
    }
   ],
   "source": [
    "dt = DecisionTreeClassifier(random_state=0,max_depth=40,max_features='sqrt',min_samples_leaf=50,min_samples_split=300).fit(X_train_dummy_new,y_train.astype(int))\n",
    "pred = dt.predict(X_test_dummy_new)\n",
    "print(dt)\n",
    "print((sm.accuracy_score(y_test.astype(int),pred)))\n",
    "print(sm.classification_report(y_test.astype(int),pred))\n",
    "\n",
    "# Compute ROC curve and ROC area for each class\n",
    "fpr, tpr, threshold = sm.roc_curve(y_test.astype(int),pred)\n",
    "roc_auc = auc(fpr, tpr)\n",
    "print(\"ROC AUC SCORE \",roc_auc)"
   ]
  },
  {
   "cell_type": "markdown",
   "metadata": {},
   "source": [
    "#### 4.5 Random Forest"
   ]
  },
  {
   "cell_type": "markdown",
   "metadata": {},
   "source": [
    "##### without tuning"
   ]
  },
  {
   "cell_type": "code",
   "execution_count": 102,
   "metadata": {
    "collapsed": false
   },
   "outputs": [
    {
     "name": "stdout",
     "output_type": "stream",
     "text": [
      "0.8105849985370126\n",
      "              precision    recall  f1-score   support\n",
      "\n",
      "           0       0.97      0.82      0.89    924115\n",
      "           1       0.12      0.52      0.20     43084\n",
      "\n",
      "   micro avg       0.81      0.81      0.81    967199\n",
      "   macro avg       0.55      0.67      0.55    967199\n",
      "weighted avg       0.94      0.81      0.86    967199\n",
      "\n",
      "0.6737184151642438\n"
     ]
    }
   ],
   "source": [
    "rf = RandomForestClassifier(n_estimators=100).fit(X_train_dummy,y_train.astype(int))\n",
    "pred = rf.predict(X_test_dummy)\n",
    "print((sm.accuracy_score(y_test.astype(int),pred)))\n",
    "print(sm.classification_report(y_test.astype(int),pred))\n",
    "# Compute ROC curve and ROC area for each class\n",
    "fpr, tpr, threshold = sm.roc_curve(y_test.astype(int),pred)\n",
    "roc_auc = auc(fpr, tpr)\n",
    "print(roc_auc)"
   ]
  },
  {
   "cell_type": "markdown",
   "metadata": {},
   "source": [
    "##### with tuning"
   ]
  },
  {
   "cell_type": "code",
   "execution_count": 103,
   "metadata": {
    "collapsed": false
   },
   "outputs": [
    {
     "name": "stdout",
     "output_type": "stream",
     "text": [
      "{'max_features': ['auto', 'sqrt'], 'min_samples_leaf': [20, 30, 50, 70], 'bootstrap': [True, False], 'max_depth': [20, 30, 40, 50], 'n_estimators': [100, 200, 300, 400, 500], 'min_samples_split': [100, 200, 300, 500]}\n",
      "Start of Randomized Search CV  2019-05-08 23:41:15.093144\n",
      "End of Randomized Search CV  2019-05-09 03:01:20.027795\n"
     ]
    }
   ],
   "source": [
    "max_features = ['auto', 'sqrt']\n",
    "\n",
    "# Maximum number of levels in tree\n",
    "max_depth = [20,30,40,50]\n",
    "\n",
    "# Minimum number of samples required to split a node\n",
    "min_samples_split = [100, 200,300,500]\n",
    "\n",
    "# Minimum number of samples required at each leaf node\n",
    "min_samples_leaf = [20,30,50,70]\n",
    "\n",
    "bootstrap=[True,False]\n",
    "\n",
    "n_estimators = [100,200,300,400,500]\n",
    "\n",
    "# Create the random grid\n",
    "random_grid = {\n",
    "               'max_features': max_features,\n",
    "               'max_depth': max_depth,\n",
    "               'min_samples_split': min_samples_split,\n",
    "               'min_samples_leaf': min_samples_leaf,\n",
    "                'n_estimators':n_estimators,\n",
    "                'bootstrap':bootstrap}\n",
    "\n",
    "print(random_grid)\n",
    "\n",
    "\n",
    "print(\"Start of Randomized Search CV \",datetime.datetime.now())\n",
    "rf_random_srch = RandomizedSearchCV(estimator=rf,param_distributions=random_grid,n_iter=20,random_state=0,cv=3)\n",
    "# Fit the random search model\n",
    "rf_random_srch.fit(X_train_dummy_new,y_train.astype(int))\n",
    "print(\"End of Randomized Search CV \",datetime.datetime.now())"
   ]
  },
  {
   "cell_type": "code",
   "execution_count": 104,
   "metadata": {
    "collapsed": false
   },
   "outputs": [
    {
     "data": {
      "text/plain": [
       "{'bootstrap': False,\n",
       " 'max_depth': 30,\n",
       " 'max_features': 'sqrt',\n",
       " 'min_samples_leaf': 30,\n",
       " 'min_samples_split': 100,\n",
       " 'n_estimators': 200}"
      ]
     },
     "execution_count": 104,
     "metadata": {},
     "output_type": "execute_result"
    }
   ],
   "source": [
    "rf_random_srch.best_params_"
   ]
  },
  {
   "cell_type": "code",
   "execution_count": 105,
   "metadata": {
    "collapsed": false
   },
   "outputs": [
    {
     "name": "stdout",
     "output_type": "stream",
     "text": [
      "0.8271544945766073\n",
      "              precision    recall  f1-score   support\n",
      "\n",
      "           0       0.97      0.84      0.90    924115\n",
      "           1       0.13      0.50      0.21     43084\n",
      "\n",
      "   micro avg       0.83      0.83      0.83    967199\n",
      "   macro avg       0.55      0.67      0.55    967199\n",
      "weighted avg       0.94      0.83      0.87    967199\n",
      "\n",
      "0.673161889384041\n"
     ]
    }
   ],
   "source": [
    "#boostrap = False\n",
    "rf = RandomForestClassifier(n_estimators=300,min_samples_split=100,min_samples_leaf=30,max_depth=40,max_features='sqrt',bootstrap=False,random_state=0).fit(X_train_dummy,y_train.astype(int))\n",
    "pred = rf.predict(X_test_dummy)\n",
    "print((sm.accuracy_score(y_test.astype(int),pred)))\n",
    "print(sm.classification_report(y_test.astype(int),pred))\n",
    "# Compute ROC curve and ROC area for each class\n",
    "fpr, tpr, threshold = sm.roc_curve(y_test.astype(int),pred)\n",
    "roc_auc = auc(fpr, tpr)\n",
    "print(roc_auc)"
   ]
  },
  {
   "cell_type": "code",
   "execution_count": 106,
   "metadata": {
    "collapsed": false
   },
   "outputs": [
    {
     "name": "stdout",
     "output_type": "stream",
     "text": [
      "0.8287374159816129\n",
      "              precision    recall  f1-score   support\n",
      "\n",
      "           0       0.97      0.84      0.90    924115\n",
      "           1       0.13      0.50      0.21     43084\n",
      "\n",
      "   micro avg       0.83      0.83      0.83    967199\n",
      "   macro avg       0.55      0.67      0.56    967199\n",
      "weighted avg       0.94      0.83      0.87    967199\n",
      "\n",
      "0.6724855212717243\n"
     ]
    }
   ],
   "source": [
    "#boostrap = True\n",
    "rf = RandomForestClassifier(n_estimators=300,min_samples_split=100,min_samples_leaf=30,max_depth=40,max_features='sqrt',bootstrap=True,random_state=0).fit(X_train_dummy,y_train.astype(int))\n",
    "pred = rf.predict(X_test_dummy)\n",
    "print((sm.accuracy_score(y_test.astype(int),pred)))\n",
    "print(sm.classification_report(y_test.astype(int),pred))\n",
    "# Compute ROC curve and ROC area for each class\n",
    "fpr, tpr, threshold = sm.roc_curve(y_test.astype(int),pred)\n",
    "roc_auc = auc(fpr, tpr)\n",
    "print(roc_auc)"
   ]
  },
  {
   "cell_type": "markdown",
   "metadata": {},
   "source": [
    "##### with only Important features given by the model"
   ]
  },
  {
   "cell_type": "code",
   "execution_count": 110,
   "metadata": {
    "collapsed": true
   },
   "outputs": [],
   "source": [
    "X_train_selected = X_train_dummy[['prop_starrating', 'prop_review_score', 'prop_location_score1',\n",
    "       'prop_location_score2', 'prop_log_historical_price', 'position',\n",
    "       'price_usd', 'promotion_flag', 'srch_booking_window',\n",
    "       'srch_adults_count', 'orig_destination_distance',\n",
    "       'srch_lenth_of_stay_bin', 'Hour', 'prop_brand_bool_1.0',\n",
    "       'srch_saturday_night_bool_1.0', 'random_bool_1.0',\n",
    "       'visitor_location_country_id_binned_219', 'prop_country_id_binned_219',\n",
    "       'srch_destination_id_binned_999999.0', 'Year_2013', 'Month_11',\n",
    "       'Month_12', 'Month_2', 'Month_3', 'Month_4', 'Month_5', 'Month_6',\n",
    "       'children_occupancy_Yes']]\n",
    "\n",
    "X_test_selected = X_test_dummy[['prop_starrating', 'prop_review_score', 'prop_location_score1',\n",
    "       'prop_location_score2', 'prop_log_historical_price', 'position',\n",
    "       'price_usd', 'promotion_flag', 'srch_booking_window',\n",
    "       'srch_adults_count', 'orig_destination_distance',\n",
    "       'srch_lenth_of_stay_bin', 'Hour', 'prop_brand_bool_1.0',\n",
    "       'srch_saturday_night_bool_1.0', 'random_bool_1.0',\n",
    "       'visitor_location_country_id_binned_219', 'prop_country_id_binned_219',\n",
    "       'srch_destination_id_binned_999999.0', 'Year_2013', 'Month_11',\n",
    "       'Month_12', 'Month_2', 'Month_3', 'Month_4', 'Month_5', 'Month_6',\n",
    "       'children_occupancy_Yes']]"
   ]
  },
  {
   "cell_type": "code",
   "execution_count": 111,
   "metadata": {
    "collapsed": false
   },
   "outputs": [
    {
     "data": {
      "text/plain": [
       "(967199, 28)"
      ]
     },
     "execution_count": 111,
     "metadata": {},
     "output_type": "execute_result"
    }
   ],
   "source": [
    "X_test_selected.shape"
   ]
  },
  {
   "cell_type": "code",
   "execution_count": 112,
   "metadata": {
    "collapsed": false
   },
   "outputs": [
    {
     "data": {
      "text/plain": [
       "(967199, 222)"
      ]
     },
     "execution_count": 112,
     "metadata": {},
     "output_type": "execute_result"
    }
   ],
   "source": [
    "X_test_dummy.shape"
   ]
  },
  {
   "cell_type": "markdown",
   "metadata": {},
   "source": [
    "##### running with only features selected by Random Forest "
   ]
  },
  {
   "cell_type": "code",
   "execution_count": 113,
   "metadata": {
    "collapsed": false
   },
   "outputs": [
    {
     "name": "stdout",
     "output_type": "stream",
     "text": [
      "0.8096854938849193\n",
      "              precision    recall  f1-score   support\n",
      "\n",
      "           0       0.97      0.82      0.89    924115\n",
      "           1       0.12      0.54      0.20     43084\n",
      "\n",
      "   micro avg       0.81      0.81      0.81    967199\n",
      "   macro avg       0.55      0.68      0.55    967199\n",
      "weighted avg       0.94      0.81      0.86    967199\n",
      "\n",
      "0.682076908637447\n"
     ]
    }
   ],
   "source": [
    "rf1 = RandomForestClassifier(n_estimators=300,min_samples_split=100,min_samples_leaf=30,max_depth=40,max_features='sqrt',bootstrap=True,random_state=0).fit(X_train_selected,y_train.astype(int))\n",
    "pred = rf1.predict(X_test_selected)\n",
    "print((sm.accuracy_score(y_test.astype(int),pred)))\n",
    "print(sm.classification_report(y_test.astype(int),pred))\n",
    "# Compute ROC curve and ROC area for each class\n",
    "fpr, tpr, threshold = sm.roc_curve(y_test.astype(int),pred)\n",
    "roc_auc = auc(fpr, tpr)\n",
    "print(roc_auc)"
   ]
  },
  {
   "cell_type": "markdown",
   "metadata": {},
   "source": [
    "#### 4.6 Xgboost"
   ]
  },
  {
   "cell_type": "markdown",
   "metadata": {},
   "source": [
    "##### without tuning using only selected features"
   ]
  },
  {
   "cell_type": "code",
   "execution_count": 115,
   "metadata": {
    "collapsed": false
   },
   "outputs": [
    {
     "name": "stdout",
     "output_type": "stream",
     "text": [
      "0.8070603877795572\n",
      "              precision    recall  f1-score   support\n",
      "\n",
      "           0       0.97      0.82      0.89    924115\n",
      "           1       0.12      0.54      0.20     43084\n",
      "\n",
      "   micro avg       0.81      0.81      0.81    967199\n",
      "   macro avg       0.55      0.68      0.55    967199\n",
      "weighted avg       0.94      0.81      0.86    967199\n",
      "\n",
      "0.680990830493612\n"
     ]
    }
   ],
   "source": [
    "from xgboost import XGBClassifier\n",
    "\n",
    "xgb = XGBClassifier(random_state=0,learning_rate=0.1, n_estimators=100).fit(X_train_selected,y_train.astype(int))\n",
    "pred = xgb.predict(X_test_selected)\n",
    "print((sm.accuracy_score(y_test.astype(int),pred)))\n",
    "print(sm.classification_report(y_test.astype(int),pred))\n",
    "fpr, tpr, threshold = sm.roc_curve(y_test.astype(int),pred)\n",
    "roc_auc = auc(fpr, tpr)\n",
    "print(roc_auc)"
   ]
  },
  {
   "cell_type": "markdown",
   "metadata": {},
   "source": [
    "##### with tuning using only selected features"
   ]
  },
  {
   "cell_type": "code",
   "execution_count": 117,
   "metadata": {
    "collapsed": false
   },
   "outputs": [
    {
     "name": "stdout",
     "output_type": "stream",
     "text": [
      "Start of Randomized Search CV  2019-05-09 13:47:04.428791\n",
      "End of Randomized Search CV  2019-05-09 14:23:46.105442\n",
      "Best params  {'max_delta_step': 2, 'scale_pos_weight': 2, 'subsample': 0.9, 'max_depth': 7, 'learning_rate': 0.1, 'min_child_weight': 5, 'gamma': 0.2, 'colsample_bytree': 0.9}\n",
      "Best score  0.7657315597434207\n"
     ]
    }
   ],
   "source": [
    "from sklearn.model_selection import RandomizedSearchCV\n",
    "# Set a list of parameters\n",
    "random_grid = {\n",
    "    \n",
    "            'max_depth':range(3,10,2),\n",
    "    \n",
    "            #minimum sum of weights of all observations required in a child, similar to min_child_leaf \n",
    "            'min_child_weight':range(1,6,2),\n",
    "    \n",
    "            'learning_rate':[0.1,0.2,0.3],\n",
    "    \n",
    "            #A node is split only when the resulting split gives a positive reduction in the loss function. \n",
    "            #Gamma specifies the minimum loss reduction required to make a split.\n",
    "            'gamma':[i/10.0 for i in range(0,5)],\n",
    "    \n",
    "            #In maximum delta step we allow each tree’s weight estimation to be. If the value is set to 0, it means there is no constraint. \n",
    "            #If it is set to a positive value, it can help making the update step more conservative.\n",
    "            # might help in logistic regression when class is extremely imbalanced.\n",
    "            'max_delta_step':[1,2],\n",
    "    \n",
    "            #Denotes the fraction of observations to be randomly samples for each tree.\n",
    "            'subsample':[i/10.0 for i in range(6,10)],\n",
    "    \n",
    "            #Similar to max_features, Denotes the fraction of columns to be randomly samples for each tree. [default=1]\n",
    "            'colsample_bytree':[i/10.0 for i in range(6,10)],\n",
    "            \n",
    "            #reg_lambda [default=1] L2 regularization term on weights (analogous to Ridge regression)\n",
    "            #'reg_lambda':[],\n",
    "    \n",
    "            #reg_alpha [default=0] L1 regularization term on weight (analogous to Lasso regression)\n",
    "    \n",
    "            #scale_pos_weight [default=1]\n",
    "            #A value greater than 0 should be used in case of high class imbalance as it helps in faster convergence.\n",
    "            'scale_pos_weight':[1,2,3]\n",
    "            \n",
    "            \n",
    "}\n",
    "\n",
    "import datetime\n",
    "print(\"Start of Randomized Search CV \",datetime.datetime.now())\n",
    "xgb_brandom_clf = RandomizedSearchCV(estimator=xgb,param_distributions=random_grid,n_iter=10,random_state=0,cv=3,scoring='roc_auc')\n",
    "xgb_brandom_clf.fit(X_train_selected,y_train.astype(int))\n",
    "print(\"End of Randomized Search CV \",datetime.datetime.now())\n",
    "print(\"Best params \", xgb_brandom_clf.best_params_) \n",
    "print(\"Best score \", xgb_brandom_clf.best_score_)"
   ]
  },
  {
   "cell_type": "code",
   "execution_count": 127,
   "metadata": {
    "collapsed": false
   },
   "outputs": [
    {
     "name": "stdout",
     "output_type": "stream",
     "text": [
      "0.6236203718159344\n",
      "              precision    recall  f1-score   support\n",
      "\n",
      "           0       0.98      0.62      0.76    924115\n",
      "           1       0.09      0.77      0.15     43084\n",
      "\n",
      "   micro avg       0.62      0.62      0.62    967199\n",
      "   macro avg       0.53      0.69      0.46    967199\n",
      "weighted avg       0.94      0.62      0.73    967199\n",
      "\n",
      "0.6933904138450403\n"
     ]
    }
   ],
   "source": [
    "xgb = XGBClassifier(random_state=0,max_delta_step=2,scale_pos_weight=2,subsample=0.9,max_depth=8,learning_rate=0.1,n_estimators=200,min_child_weight=5,gamma=0,colsample_bytree=0.9).fit(X_train_selected,y_train.astype(int))\n",
    "pred = xgb.predict(X_test_selected)\n",
    "print((sm.accuracy_score(y_test.astype(int),pred)))\n",
    "print(sm.classification_report(y_test.astype(int),pred))\n",
    "fpr, tpr, threshold = sm.roc_curve(y_test.astype(int),pred)\n",
    "roc_auc = auc(fpr, tpr)\n",
    "print(roc_auc)"
   ]
  },
  {
   "cell_type": "code",
   "execution_count": null,
   "metadata": {
    "collapsed": true
   },
   "outputs": [],
   "source": []
  },
  {
   "cell_type": "markdown",
   "metadata": {},
   "source": [
    "## Conclusion"
   ]
  },
  {
   "cell_type": "markdown",
   "metadata": {},
   "source": [
    "* So we started with the dataset of 32 lakh records and downsampled the data to 2.52 lakhs for training and implemented various\n",
    "Tree classification models like Decision Trees, Random Forest and XGBoost with tuning. Our final ROC score was 0.69 with macro\n",
    "avg of F1 score of  on a test size of 9.67 lakh records. "
   ]
  },
  {
   "cell_type": "code",
   "execution_count": null,
   "metadata": {
    "collapsed": true
   },
   "outputs": [],
   "source": []
  },
  {
   "cell_type": "code",
   "execution_count": null,
   "metadata": {
    "collapsed": true
   },
   "outputs": [],
   "source": []
  }
 ],
 "metadata": {
  "anaconda-cloud": {},
  "kernelspec": {
   "display_name": "Python [default]",
   "language": "python",
   "name": "python3"
  },
  "language_info": {
   "codemirror_mode": {
    "name": "ipython",
    "version": 3
   },
   "file_extension": ".py",
   "mimetype": "text/x-python",
   "name": "python",
   "nbconvert_exporter": "python",
   "pygments_lexer": "ipython3",
   "version": "3.5.2"
  }
 },
 "nbformat": 4,
 "nbformat_minor": 2
}
